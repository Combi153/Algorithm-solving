{
 "cells": [
  {
   "cell_type": "markdown",
   "metadata": {},
   "source": [
    "math 9020 골드바흐의 추측"
   ]
  },
  {
   "cell_type": "markdown",
   "metadata": {},
   "source": [
    "- 골드바흐의 추측 : 2보다 큰 모든 짝수는 두 소수의 합으로 나타낼 수 있다.\n",
    "- 골드바흐의 수 : 두 소수의 합으로 나타낼 수 있는 2보다 큰 짝수\n",
    "- 골드바흐의 파티션 : 짝수를 두 소수의 합으로 나타내는 표현\n",
    "\n",
    "- 예시 ) 4=2+2, 6=3+3\n",
    "- 2보다 큰 짝수 n이 주어졌을 때, n의 골드바흐 파티션을 출력하라. 만약 골드바흐 파티션이 여러 가지인 경우, 두 소수의 차이가 가장 작은 것을 출력"
   ]
  },
  {
   "cell_type": "markdown",
   "metadata": {},
   "source": [
    "1. n의 범위가 4 <= n <= 10000 으로 정해져 있으므로, 미리 10000까지의 소수를 구해 저장해둔다.\n",
    "2. n을 입력받고, n 이하의 소수 리스트를 생성한다.\n",
    "3. 파티션 구하기\n",
    "    - n을 2로 나눈 몫이 소수이면 몫+몫이 가장 소수의 차이가 적은 파티션\n",
    "    "
   ]
  },
  {
   "cell_type": "code",
   "execution_count": null,
   "metadata": {},
   "outputs": [],
   "source": [
    "n_end=10000\n",
    "array=[True]*(n_end+1)\n",
    "m=int(n_end**0.5)\n",
    "\n",
    "for i in range(2, m+1):\n",
    "    if array[i] == True:\n",
    "        for j in range(i+i,n_end+1,i):\n",
    "            array[j]=False\n",
    "\n",
    "#for k in range(2,n_end+1):\n",
    "#    if array[k]:\n",
    "#        print(k)\n",
    "            "
   ]
  },
  {
   "cell_type": "code",
   "execution_count": null,
   "metadata": {},
   "outputs": [],
   "source": [
    "test=int(input())\n",
    "\n",
    "for i in range(test):\n",
    "    gold_num=int(input())\n",
    "    prime_num_list=[num for num in range(2,gold_num) if array[num]==True]\n",
    "    "
   ]
  }
 ],
 "metadata": {
  "kernelspec": {
   "display_name": "Python 3.10.5 64-bit",
   "language": "python",
   "name": "python3"
  },
  "language_info": {
   "codemirror_mode": {
    "name": "ipython",
    "version": 3
   },
   "file_extension": ".py",
   "mimetype": "text/x-python",
   "name": "python",
   "nbconvert_exporter": "python",
   "pygments_lexer": "ipython3",
   "version": "3.10.5"
  },
  "orig_nbformat": 4,
  "vscode": {
   "interpreter": {
    "hash": "3b73bbac0916b1ec0ba594196a0e2a690610daf3e27e0d2ff201ec69ed0faaed"
   }
  }
 },
 "nbformat": 4,
 "nbformat_minor": 2
}
