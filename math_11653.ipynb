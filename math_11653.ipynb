{
 "cells": [
  {
   "cell_type": "markdown",
   "metadata": {},
   "source": [
    "math\n",
    "11653\n",
    "소인수분해"
   ]
  },
  {
   "cell_type": "markdown",
   "metadata": {},
   "source": [
    "정수 N이 주어졌을 때, 소인수분해하는 프로그램. \n",
    "- 소인수분해 결과를 한 줄에 하나씩 오름차순 출력. \n",
    "- N이 1인 경우 출력 안 함."
   ]
  },
  {
   "cell_type": "markdown",
   "metadata": {},
   "source": [
    "방법\n",
    "1. number input, divider=2\n",
    "2. 나눗셈 반복문 : number를 divider로 나눈 나머지가 0이면 반복문 실행\n",
    " - 반복문이 실행되면,\n",
    "    - divider 출력\n",
    "    - number = number를 divider로 나눈 몫\n",
    "    - 다음 반복문 수행\n",
    "\n",
    "- 반복문이 실행되지 않으면,\n",
    "    - divider에 +1\n",
    "3. 이 과정을 number가 divider보다 작지 않을 때까지 반복해서 수행 "
   ]
  },
  {
   "cell_type": "code",
   "execution_count": 15,
   "metadata": {},
   "outputs": [
    {
     "name": "stdout",
     "output_type": "stream",
     "text": [
      "97\n",
      "103\n"
     ]
    }
   ],
   "source": [
    "number=int(input())\n",
    "divider=2\n",
    "\n",
    "while number>=divider:\n",
    "    while number % divider ==0:\n",
    "        number=number//divider\n",
    "        print(divider)\n",
    "\n",
    "    else:\n",
    "        divider+=1\n",
    "\n"
   ]
  },
  {
   "cell_type": "markdown",
   "metadata": {},
   "source": [
    "반복문 줄이기\n",
    "- 중첩된 반복문의 조건이 서로 다르다면, if 문을 활용하자"
   ]
  },
  {
   "cell_type": "code",
   "execution_count": 7,
   "metadata": {},
   "outputs": [
    {
     "name": "stdout",
     "output_type": "stream",
     "text": [
      "97\n",
      "103\n"
     ]
    }
   ],
   "source": [
    "number=int(input())\n",
    "divider=2\n",
    "\n",
    "\n",
    "while number>=divider:\n",
    "    if number % divider ==0:\n",
    "        number=number//divider\n",
    "        print(divider)\n",
    "\n",
    "    else:\n",
    "        divider+=1\n"
   ]
  },
  {
   "cell_type": "markdown",
   "metadata": {},
   "source": [
    "반복 횟수 줄이기\n",
    "\n",
    "- number>=divider 조건과 number !=1 의 조건의 조건 중 무엇이 더 적은 반복?\n",
    "- 반복횟수 cnt\n",
    "- number < divider 이 조건이 성립하는 순간, number ==1이 성립\n",
    "- 동일한 반복으로 파악\n",
    "- number==1 이면 더 이상 소인수가 존재하지 않음\n"
   ]
  },
  {
   "cell_type": "code",
   "execution_count": 14,
   "metadata": {},
   "outputs": [
    {
     "name": "stdout",
     "output_type": "stream",
     "text": [
      "97\n",
      "103\n",
      "103\n"
     ]
    }
   ],
   "source": [
    "number=int(input())\n",
    "divider=2\n",
    "cnt=0\n",
    "\n",
    "\n",
    "while number>=divider:\n",
    "    \n",
    "    if number % divider ==0:\n",
    "        number=number//divider\n",
    "        print(divider)\n",
    "\n",
    "    else:\n",
    "        divider+=1\n",
    "        \n",
    "    cnt+=1\n",
    "print(cnt)"
   ]
  },
  {
   "cell_type": "code",
   "execution_count": 12,
   "metadata": {},
   "outputs": [
    {
     "name": "stdout",
     "output_type": "stream",
     "text": [
      "2\n",
      "2\n",
      "5\n",
      "5\n",
      "7\n"
     ]
    }
   ],
   "source": [
    "number=int(input())\n",
    "divider=2\n",
    "cnt=0\n",
    "\n",
    "\n",
    "while number!=1:\n",
    "    \n",
    "    if number % divider ==0:\n",
    "        number=number//divider\n",
    "        print(divider)\n",
    "\n",
    "    else:\n",
    "        divider+=1\n",
    "        \n",
    "    cnt+=1\n",
    "print(cnt)"
   ]
  },
  {
   "cell_type": "markdown",
   "metadata": {},
   "source": [
    "다른 사람 풀이"
   ]
  },
  {
   "cell_type": "markdown",
   "metadata": {},
   "source": [
    "얻게 된 아이디어\n",
    "- 반복문을 한번만 사용할 수 있다.\n",
    "- 반복문 시행의 조건을 N != 1로 할 수 있다."
   ]
  },
  {
   "cell_type": "code",
   "execution_count": null,
   "metadata": {},
   "outputs": [],
   "source": [
    "#https://eunhee-programming.tistory.com/101\n",
    "\n",
    "N = int(input())\n",
    "m = 2\n",
    "while N!=1:  # N과m을 나눴을때 몫이 1이 되면 멈춤.\n",
    "  if N%m==0: \n",
    "    print(m) \n",
    "    N = N//m\n",
    "  else:\n",
    "    m += 1"
   ]
  },
  {
   "cell_type": "markdown",
   "metadata": {},
   "source": [
    "이러한 코드는 모두 N이 커질수록 비효율적이다."
   ]
  }
 ],
 "metadata": {
  "kernelspec": {
   "display_name": "Python 3.10.5 64-bit",
   "language": "python",
   "name": "python3"
  },
  "language_info": {
   "codemirror_mode": {
    "name": "ipython",
    "version": 3
   },
   "file_extension": ".py",
   "mimetype": "text/x-python",
   "name": "python",
   "nbconvert_exporter": "python",
   "pygments_lexer": "ipython3",
   "version": "3.10.5"
  },
  "orig_nbformat": 4,
  "vscode": {
   "interpreter": {
    "hash": "3b73bbac0916b1ec0ba594196a0e2a690610daf3e27e0d2ff201ec69ed0faaed"
   }
  }
 },
 "nbformat": 4,
 "nbformat_minor": 2
}
