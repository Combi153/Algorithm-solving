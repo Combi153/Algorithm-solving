{
 "cells": [
  {
   "cell_type": "markdown",
   "id": "f4074443",
   "metadata": {},
   "source": [
    "# 문자열"
   ]
  },
  {
   "cell_type": "markdown",
   "id": "cda5dabe",
   "metadata": {},
   "source": [
    "2941"
   ]
  },
  {
   "cell_type": "code",
   "execution_count": 1,
   "id": "7357418f",
   "metadata": {},
   "outputs": [
    {
     "name": "stdout",
     "output_type": "stream",
     "text": [
      "dz=ak\n",
      "3\n"
     ]
    }
   ],
   "source": [
    "class Alphabet:\n",
    "    \n",
    "    def __init__(self, alphabet):\n",
    "        self.croatia_list=alphabet\n",
    "        self.words=input()\n",
    "        self.words_list=list(self.words) #'method' object is not iterable\n",
    "        self.count_words()\n",
    "        \n",
    "    def count_words(self):\n",
    "        words_count=len(self.words_list)\n",
    "        \n",
    "        for cro_alphabet in self.croatia_list:\n",
    "            croatia_count=self.words.count(cro_alphabet)\n",
    "            words_count=words_count-croatia_count\n",
    "            \n",
    "        print(words_count)\n",
    "\n",
    "if __name__ == '__main__':\n",
    "    croatia_list=['c=','c-','dz=','d-','lj','nj','s=','z=']\n",
    "    a=Alphabet(croatia_list)"
   ]
  }
 ],
 "metadata": {
  "kernelspec": {
   "display_name": "Python 3 (ipykernel)",
   "language": "python",
   "name": "python3"
  },
  "language_info": {
   "codemirror_mode": {
    "name": "ipython",
    "version": 3
   },
   "file_extension": ".py",
   "mimetype": "text/x-python",
   "name": "python",
   "nbconvert_exporter": "python",
   "pygments_lexer": "ipython3",
   "version": "3.9.12"
  }
 },
 "nbformat": 4,
 "nbformat_minor": 5
}
