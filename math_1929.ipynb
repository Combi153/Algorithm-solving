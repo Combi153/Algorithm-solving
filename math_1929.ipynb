{
 "cells": [
  {
   "cell_type": "markdown",
   "metadata": {},
   "source": [
    "math\n",
    "1929\n",
    "소수 구하기"
   ]
  },
  {
   "cell_type": "markdown",
   "metadata": {},
   "source": [
    "M이상 N이하의 소수를 모두 출력\n",
    "- M 이상 N 이하의 소수가 하나 이상 있는 입력 주어진다."
   ]
  },
  {
   "cell_type": "code",
   "execution_count": null,
   "metadata": {},
   "outputs": [],
   "source": [
    "start_M,end_N=map(int, input().split())\n",
    "prime_number=[]\n",
    "\n",
    "for num in range(start_M,end_N+1):\n",
    "\n",
    "    if num ==1 :\n",
    "        continue\n",
    "\n",
    "    for divider in range(2, num+1):\n",
    "        if num % divider ==0:\n",
    "\n",
    "            if num == divider:\n",
    "                print(num)\n",
    "                break\n",
    "            else:\n",
    "                break\n",
    "\n",
    "#시간초과"
   ]
  },
  {
   "cell_type": "markdown",
   "metadata": {},
   "source": [
    "에라토스테네스의 체\n",
    "- 주어진 범위에서 합성수를 지우는 방식으로 소수를 찾는 방법\n",
    "1. 1은 제거한다.\n",
    "2. 지워지지 않은 수 중 제일 작은 2를 소수로 채택한다. 나머지 2의 배수는 모두 지운다.\n",
    "3. 지워지지 않은 수 중 제일 작은 3을 소수로 채택한다. 나머지 3의 배수는 모두 지운다.\n",
    "4. (반복)"
   ]
  },
  {
   "cell_type": "code",
   "execution_count": 7,
   "metadata": {},
   "outputs": [],
   "source": [
    "n=1000\n",
    "prime_num=[]\n",
    "num_list=list(range(2,n+1))\n",
    "\n",
    "while len(num_list) >1:\n",
    "    num=min(num_list)\n",
    "    prime_num.append(num)\n",
    "    num_list.remove(num)\n",
    "\n",
    "    for i in num_list:\n",
    "        if i % num ==0:\n",
    "            num_list.remove(i)\n",
    "\n",
    "print(prime_num)"
   ]
  },
  {
   "cell_type": "code",
   "execution_count": 13,
   "metadata": {},
   "outputs": [
    {
     "name": "stdout",
     "output_type": "stream",
     "text": [
      "[2, 3, 5, 7, 11, 13]\n",
      "3\n",
      "5\n",
      "7\n",
      "11\n",
      "13\n"
     ]
    }
   ],
   "source": [
    "start_M,end_N=map(int, input().split())\n",
    "prime_number=[]\n",
    "num_list=list(range(2,end_N+1))\n",
    "\n",
    "while len(num_list) >=1:\n",
    "    num=min(num_list)\n",
    "    prime_number.append(num)\n",
    "    num_list.remove(num)\n",
    "\n",
    "    for i in num_list:\n",
    "        if i % num ==0:\n",
    "            num_list.remove(i)\n",
    "\n",
    "for j in prime_number:\n",
    "    if j >= start_M:\n",
    "        print(j)"
   ]
  }
 ],
 "metadata": {
  "kernelspec": {
   "display_name": "Python 3.10.5 64-bit",
   "language": "python",
   "name": "python3"
  },
  "language_info": {
   "codemirror_mode": {
    "name": "ipython",
    "version": 3
   },
   "file_extension": ".py",
   "mimetype": "text/x-python",
   "name": "python",
   "nbconvert_exporter": "python",
   "pygments_lexer": "ipython3",
   "version": "3.10.5"
  },
  "orig_nbformat": 4,
  "vscode": {
   "interpreter": {
    "hash": "3b73bbac0916b1ec0ba594196a0e2a690610daf3e27e0d2ff201ec69ed0faaed"
   }
  }
 },
 "nbformat": 4,
 "nbformat_minor": 2
}
