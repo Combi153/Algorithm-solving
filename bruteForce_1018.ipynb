{
 "cells": [
  {
   "cell_type": "markdown",
   "metadata": {},
   "source": [
    "# bruteForce 1018"
   ]
  },
  {
   "cell_type": "markdown",
   "metadata": {},
   "source": [
    "체스판 다시 칠하기\n",
    ": 주어진 보드에서 다시 칠해야 하는 정사각형 개수의 최솟값을 출력한다.\n",
    "- M×N 크기의 보드가 주어진다.\n",
    "- 이 보드를 잘라서 8×8 크기의 체스판으로 만들려고 한다.\n",
    "- 체스판은 검은색과 흰색이 번갈아 칠해져 있어야 한다.\n",
    "- 체스판을 색칠하는 경우는 두 가지뿐이다. 하나는 맨 왼쪽 위 칸이 흰색인 경우, 하나는 검은색인 경우이다.\n",
    "- 본래의 보드를 8×8 크기의 체스판으로 잘라낸 후에, 최소 몇 개의 정사각형을 다시 칠해야 체스판을 만들 수 있는지 구하자."
   ]
  },
  {
   "cell_type": "markdown",
   "metadata": {},
   "source": [
    "1. 입력 받기\n",
    "- 문제를 풀 때는 입력이 번거로우므로, board를 문자열로 입력해서 확인함"
   ]
  },
  {
   "cell_type": "code",
   "execution_count": null,
   "metadata": {},
   "outputs": [],
   "source": [
    "row, column = map(int, input().split())\n",
    "board = []\n",
    "for i in range(row):\n",
    "    oneRow = input()\n",
    "    board.append(oneRow)\n",
    "\n",
    "# 문제 풀 때\n",
    "'''\n",
    "board = \"\"\"\n",
    "BBBBBBBBBB\n",
    "BBWBWBWBWB\n",
    "BWBWBWBWBB\n",
    "BBWBWBWBWB\n",
    "BWBWBWBWBB\n",
    "BBWBWBWBWB\n",
    "BWBWBWBWBB\n",
    "BBWBWBWBWB\n",
    "BWBWBWBWBB\n",
    "BBBBBBBBBB\n",
    "\"\"\".split()\n",
    "'''"
   ]
  },
  {
   "cell_type": "markdown",
   "metadata": {},
   "source": [
    "2. 정답 체스판을 미리 저장해둔다.\n",
    "3. 입력받은 보드에서 체스판의 시작점이 될 수 있는 문자에 반복문으로 접근한다.\n",
    "- 체스판의 시작점이 될 수 있는 문자는 그 문자로부터 8행 8열의 체스판을 만들 수 있는 문자이다.\n",
    "- 10행 10열을 입력받았다면, 그중 0 ~ 2 번째, 0 ~ 2 번째 문자들이 8행 8열의 체스판을 만들 수 있다."
   ]
  },
  {
   "cell_type": "code",
   "execution_count": 65,
   "metadata": {},
   "outputs": [
    {
     "name": "stdout",
     "output_type": "stream",
     "text": [
      "체스판의 시작점 : 1\n",
      "체스판의 시작점 : 2\n",
      "체스판의 시작점 : 3\n",
      "체스판의 시작점 : 4\n",
      "체스판의 시작점 : 5\n",
      "체스판의 시작점 : 6\n",
      "체스판의 시작점 : 7\n",
      "체스판의 시작점 : 8\n",
      "체스판의 시작점 : 9\n"
     ]
    }
   ],
   "source": [
    "row, column = map(int, input().split())\n",
    "#board = []\n",
    "#for i in range(row):\n",
    "#    oneRow = input()\n",
    "#    board.append(oneRow)\n",
    "\n",
    "chessBoard = [['WBWBWBWB','BWBWBWBW','WBWBWBWB','BWBWBWBW','WBWBWBWB','BWBWBWBW','WBWBWBWB','BWBWBWBW'],\n",
    "              ['BWBWBWBW','WBWBWBWB','BWBWBWBW','WBWBWBWB','BWBWBWBW','WBWBWBWB','BWBWBWBW','WBWBWBWB']]\n",
    "\n",
    "# 10행 10열\n",
    "board = \"\"\"\n",
    "123BBBBBBB\n",
    "456BWBWBWB\n",
    "789WBWBWBB\n",
    "BBWBWBWBWB\n",
    "BWBWBWBWBB\n",
    "BBWBWBWBWB\n",
    "BWBWBWBWBB\n",
    "BBWBWBWBWB\n",
    "BWBWBWBWBB\n",
    "BBBBBBBBBB\n",
    "\"\"\".split()\n",
    "\n",
    "for i in range(row-7):\n",
    "    for j in range(column-7):\n",
    "        print('체스판의 시작점 : '+ board[i][j])"
   ]
  },
  {
   "cell_type": "markdown",
   "metadata": {},
   "source": [
    "4. 체스판의 시작점부터 입력 보드를 정답 체스판과 비교한다. 이때 정답 체스판은 두 개이므로 한번 더 반복한다.\n",
    "- 8행 8열의 범위에서 입력 보드와 체스판의 문자 각각을 비교한다.\n",
    "- 두 보드의 문자가 서로 다르다면 corrCnt +1 한다.\n",
    "- 해당 시작점에서 고쳐야하는 corrCnt 두 개를 corrNum에 append 한다.\n",
    "5. corrNum의 min 값을 출력한다."
   ]
  },
  {
   "cell_type": "code",
   "execution_count": 64,
   "metadata": {},
   "outputs": [
    {
     "name": "stdout",
     "output_type": "stream",
     "text": [
      "0\n"
     ]
    }
   ],
   "source": [
    "row, column = map(int, input().split())\n",
    "corrNum = []\n",
    "#board = []\n",
    "#for i in range(row):\n",
    "#    oneRow = input()\n",
    "#    board.append(oneRow)\n",
    "\n",
    "chessBoard = [['WBWBWBWB','BWBWBWBW','WBWBWBWB','BWBWBWBW','WBWBWBWB','BWBWBWBW','WBWBWBWB','BWBWBWBW'],\n",
    "              ['BWBWBWBW','WBWBWBWB','BWBWBWBW','WBWBWBWB','BWBWBWBW','WBWBWBWB','BWBWBWBW','WBWBWBWB']]\n",
    "\n",
    "# 10행 10열\n",
    "board = \"\"\"\n",
    "BBBBBBBBBB\n",
    "BBWBWBWBWB\n",
    "BWBWBWBWBB\n",
    "BBWBWBWBWB\n",
    "BWBWBWBWBB\n",
    "BBWBWBWBWB\n",
    "BWBWBWBWBB\n",
    "BBWBWBWBWB\n",
    "BWBWBWBWBB\n",
    "BBBBBBBBBB\n",
    "\"\"\".split()\n",
    "\n",
    "for i in range(row-7):\n",
    "    for j in range(column-7):\n",
    "        for k in range(len(chessBoard)):\n",
    "            corrCnt = 0\n",
    "            ansBoard = chessBoard[k]\n",
    "            for r in range(8):\n",
    "                for c in range(8):\n",
    "                    if board[r+i][c+j] != ansBoard[r][c]:\n",
    "                        corrCnt += 1\n",
    "            corrNum.append(corrCnt)\n",
    "\n",
    "print(min(corrNum))"
   ]
  },
  {
   "cell_type": "markdown",
   "metadata": {},
   "source": [
    "# 정답 코드"
   ]
  },
  {
   "cell_type": "code",
   "execution_count": null,
   "metadata": {},
   "outputs": [],
   "source": [
    "row, column = map(int, input().split())\n",
    "board = []\n",
    "corrNum = []\n",
    "chessBoard = [['WBWBWBWB','BWBWBWBW','WBWBWBWB','BWBWBWBW','WBWBWBWB','BWBWBWBW','WBWBWBWB','BWBWBWBW'],\n",
    "              ['BWBWBWBW','WBWBWBWB','BWBWBWBW','WBWBWBWB','BWBWBWBW','WBWBWBWB','BWBWBWBW','WBWBWBWB']]\n",
    "\n",
    "for i in range(row):\n",
    "    oneRow = input()\n",
    "    board.append(oneRow)\n",
    "\n",
    "for i in range(row-7):\n",
    "    for j in range(column-7):\n",
    "        for k in range(len(chessBoard)):\n",
    "            corrCnt = 0\n",
    "            ansBoard = chessBoard[k]\n",
    "            for r in range(8):\n",
    "                for c in range(8):\n",
    "                    if board[r+i][c+j] != ansBoard[r][c]:\n",
    "                        corrCnt += 1\n",
    "            corrNum.append(corrCnt)\n",
    "\n",
    "print(min(corrNum))"
   ]
  },
  {
   "cell_type": "markdown",
   "metadata": {},
   "source": [
    "# 틀린 접근"
   ]
  },
  {
   "cell_type": "markdown",
   "metadata": {},
   "source": [
    "예제는 모두 맞았으나, 정답은 아님\n",
    "- 질문게시판에서 반례를 찾을 수 있었음\n",
    "- https://www.acmicpc.net/board/view/96079\n",
    "- 결국 key를 기준으로 잡아 정답 board와 비교하는 것을 포기하고 다른 해결방안을 찾게 됨."
   ]
  },
  {
   "cell_type": "markdown",
   "metadata": {},
   "source": [
    "접근 방법   \n",
    "- 1 ~ 3. 이전과 동일  \n",
    "4. 체스판의 시작점을 key로 두고, 입력 보드를 정답 체스판과 비교한다.\n",
    "- key에 따라 정답 체스판이 다르다고 판단하였다.\n",
    "- key == 'B' 라면, 오직 왼쪽 상단이 'B'로 시작하는 체스판과 비교하였다.\n",
    "5. 체스판의 시작점을 오른쪽 하단을 기준으로 다시 key로 두고, 기존과 상하를 거꾸로 비교하였다.\n",
    "- 예제를 풀던 중 오른쪽 하단만 'W'로 두고, 다른 곳은 'B'로 채운 예제를 풀기 위해 이러한 접근을 하였다.\n",
    "\n",
    "`이러한 접근법은 key에 해당하는 체스판의 시작점을 반드시 정답이라고 전제한다. 따라서 key만 바꾸면 되는 체스판을, key를 제외한 모든 곳을 바꿔야하는 체스판으로 판단한다. 이것이 틀린 접근이다. key를 정답이라고 전제하지 않아야 한다.`   \n",
    "`한편, key를 정답이라고 전제하지 않는다면 시작점의 상하좌우를 인식할 필요가 없다.`"
   ]
  },
  {
   "cell_type": "code",
   "execution_count": 39,
   "metadata": {},
   "outputs": [
    {
     "name": "stdout",
     "output_type": "stream",
     "text": [
      "12\n"
     ]
    }
   ],
   "source": [
    "row, column = map(int, input().split())\n",
    "board = []\n",
    "corrNum = []\n",
    "chessBoard = [['WBWBWBWB','BWBWBWBW','WBWBWBWB','BWBWBWBW','WBWBWBWB','BWBWBWBW','WBWBWBWB','BWBWBWBW'],\n",
    "              ['BWBWBWBW','WBWBWBWB','BWBWBWBW','WBWBWBWB','BWBWBWBW','WBWBWBWB','BWBWBWBW','WBWBWBWB']]\n",
    "\n",
    "for i in range(row):\n",
    "    oneRow = input()\n",
    "    board.append(oneRow)\n",
    "\n",
    "# 위에서 아래\n",
    "for i in range(row-7):\n",
    "    for j in range(column-7):\n",
    "        key = board[i][j]\n",
    "        corrCnt = 0\n",
    "        if key == \"B\":\n",
    "            ansBoard = chessBoard[1]\n",
    "            for r in range(8):\n",
    "                for c in range(8):\n",
    "                    if board[r+i][c+j] != ansBoard[r][c]:\n",
    "                        corrCnt += 1\n",
    "\n",
    "        else:\n",
    "            ansBoard = chessBoard[0]\n",
    "            for r in range(8):\n",
    "                for c in range(8):\n",
    "                    if board[i+r][j+c] != ansBoard[r][c]:\n",
    "                        corrCnt += 1\n",
    "\n",
    "        corrNum.append(corrCnt)\n",
    "\n",
    "# 아래에서 위\n",
    "for i in range(-1,-(row-6),-1):\n",
    "    for j in range(-1,-(column-6),-1):\n",
    "        key = board[i][j]\n",
    "        corrCnt = 0\n",
    "        if key == \"B\":\n",
    "            ansBoard = chessBoard[1]\n",
    "            for r in range(-1,-9,-1):\n",
    "                for c in range(-1,-9,-1):\n",
    "                    if board[r+i+1][c+j+1] != ansBoard[r][c]:\n",
    "                        corrCnt += 1\n",
    "\n",
    "        else:\n",
    "            ansBoard = chessBoard[0]\n",
    "            for r in range(-1,-9,-1):\n",
    "                for c in range(-1,-9,-1):\n",
    "                    if board[i+r+1][j+c+1] != ansBoard[r][c]:\n",
    "                        corrCnt += 1\n",
    "\n",
    "        corrNum.append(corrCnt)\n",
    "\n",
    "\n",
    "print(min(corrNum))"
   ]
  },
  {
   "cell_type": "markdown",
   "metadata": {},
   "source": [
    "# 다른 사람 코드"
   ]
  },
  {
   "cell_type": "markdown",
   "metadata": {},
   "source": [
    "- 정답 체스판을 미리 저장하지 않았다.\n",
    "- 체스판에 대한 접근을 짝/홀로 한다.\n",
    "- 기발하넹..."
   ]
  },
  {
   "cell_type": "code",
   "execution_count": null,
   "metadata": {},
   "outputs": [],
   "source": [
    "n,m=map(int,input().split())\n",
    "\n",
    "mtr=[]\n",
    "cnt=[]\n",
    "for i in range(n):\n",
    "    mtr.append(input())\n",
    "    \n",
    "for a in range(n-7):\n",
    "    for b in range(m-7):#8*8로 자르기 위해, -7해준다\n",
    "        w_index=0 #흰색으로 시작\n",
    "        b_index=0 #검은색으로 시작\n",
    "        for i in range(a,a+8):#시작지점\n",
    "            for j in range(b,b+8):#시작지점\n",
    "                if (i+j)%2==0:#짝수인 경우\n",
    "                    if mtr[i][j]!='W':#W가 아니면, 즉 B이면\n",
    "                        w_index+=1#W로 칠하는 갯수\n",
    "                    else:#W일 때\n",
    "                        b_index+=1#B로 칠하는 갯수\n",
    "                else:#홀수인 경우\n",
    "                    if mtr[i][j]!='W':#W가 아니면, 즉 B이면\n",
    "                        b_index+=1#B로 칠하는 갯수\n",
    "                    else:\n",
    "                        w_index+=1#W로 칠하는 갯수\n",
    "                        \n",
    "        cnt.append(w_index) #W로 시작할 때 경우의 수\n",
    "        cnt.append(b_index) #B로 시작할 때 경우의 수\n",
    "print(min(cnt))"
   ]
  },
  {
   "cell_type": "markdown",
   "metadata": {},
   "source": [
    "다시 풀어보기"
   ]
  },
  {
   "cell_type": "code",
   "execution_count": 66,
   "metadata": {},
   "outputs": [
    {
     "ename": "ValueError",
     "evalue": "not enough values to unpack (expected 2, got 0)",
     "output_type": "error",
     "traceback": [
      "\u001b[1;31m---------------------------------------------------------------------------\u001b[0m",
      "\u001b[1;31mValueError\u001b[0m                                Traceback (most recent call last)",
      "\u001b[1;32mc:\\python\\Baekjoon\\bruteForce_1018.ipynb 셀 19\u001b[0m in \u001b[0;36m<cell line: 1>\u001b[1;34m()\u001b[0m\n\u001b[1;32m----> <a href='vscode-notebook-cell:/c%3A/python/Baekjoon/bruteForce_1018.ipynb#X31sZmlsZQ%3D%3D?line=0'>1</a>\u001b[0m row, column \u001b[39m=\u001b[39m \u001b[39mmap\u001b[39m(\u001b[39mint\u001b[39m, \u001b[39minput\u001b[39m()\u001b[39m.\u001b[39msplit())\n\u001b[0;32m      <a href='vscode-notebook-cell:/c%3A/python/Baekjoon/bruteForce_1018.ipynb#X31sZmlsZQ%3D%3D?line=1'>2</a>\u001b[0m board \u001b[39m=\u001b[39m []\n\u001b[0;32m      <a href='vscode-notebook-cell:/c%3A/python/Baekjoon/bruteForce_1018.ipynb#X31sZmlsZQ%3D%3D?line=2'>3</a>\u001b[0m corrNum \u001b[39m=\u001b[39m []\n",
      "\u001b[1;31mValueError\u001b[0m: not enough values to unpack (expected 2, got 0)"
     ]
    }
   ],
   "source": [
    "row, column = map(int, input().split())\n",
    "board = []\n",
    "corrNum = []\n",
    "\n",
    "for i in range(row):\n",
    "    oneRow = input()\n",
    "    board.append(oneRow)\n",
    "\n",
    "for i in range(row-7):\n",
    "    for j in range(column-7):\n",
    "        corrWCnt = 0\n",
    "        corrBCnt = 0\n",
    "        for r in range(i,i+8):\n",
    "            for c in range(j,j+8):\n",
    "                if (r+c)%2 == 0:           #짝수인 경우\n",
    "                    if board[r][c] !='W':  # W를 기준으로 가정\n",
    "                        corrWCnt += 1\n",
    "                    else:                  # B를 기준으로 가정\n",
    "                        corrBCnt += 1\n",
    "                else:                      #홀수인 경우\n",
    "                    if board[r][c] != 'B': # W를 기준으로 가정\n",
    "                        corrWCnt += 1\n",
    "                    else:                  # B를 기준으로 가정\n",
    "                        corrBCnt += 1\n",
    "\n",
    "                 \n",
    "        corrNum.append(corrWCnt)\n",
    "        corrNum.append(corrBCnt)\n",
    "\n",
    "print(min(corrNum))"
   ]
  }
 ],
 "metadata": {
  "kernelspec": {
   "display_name": "Python 3.10.5 64-bit",
   "language": "python",
   "name": "python3"
  },
  "language_info": {
   "codemirror_mode": {
    "name": "ipython",
    "version": 3
   },
   "file_extension": ".py",
   "mimetype": "text/x-python",
   "name": "python",
   "nbconvert_exporter": "python",
   "pygments_lexer": "ipython3",
   "version": "3.10.5"
  },
  "orig_nbformat": 4,
  "vscode": {
   "interpreter": {
    "hash": "3b73bbac0916b1ec0ba594196a0e2a690610daf3e27e0d2ff201ec69ed0faaed"
   }
  }
 },
 "nbformat": 4,
 "nbformat_minor": 2
}
