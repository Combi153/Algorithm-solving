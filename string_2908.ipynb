{
 "cells": [
  {
   "cell_type": "markdown",
   "id": "f4074443",
   "metadata": {},
   "source": [
    "# 문자열"
   ]
  },
  {
   "cell_type": "markdown",
   "id": "cda5dabe",
   "metadata": {},
   "source": [
    "2908"
   ]
  },
  {
   "cell_type": "code",
   "execution_count": 13,
   "id": "7357418f",
   "metadata": {},
   "outputs": [
    {
     "name": "stdout",
     "output_type": "stream",
     "text": [
      "221 231\n",
      "122 132\n",
      "132\n"
     ]
    }
   ],
   "source": [
    "num1, num2=map(str, input().split())\n",
    "\n",
    "new_number1,new_number2=list(num1),list(num2)\n",
    "new_number1.reverse()\n",
    "new_number2.reverse()\n",
    "\n",
    "new1,new2='',''\n",
    "\n",
    "for i in range(3):\n",
    "    new1=new1+new_number1[i]\n",
    "    new2=new2+new_number2[i]\n",
    "\n",
    "if new1 > new2:\n",
    "    print(new1)\n",
    "elif new1 < new2:\n",
    "    print(new2)\n",
    "else:\n",
    "    print(new1)"
   ]
  }
 ],
 "metadata": {
  "kernelspec": {
   "display_name": "Python 3 (ipykernel)",
   "language": "python",
   "name": "python3"
  },
  "language_info": {
   "codemirror_mode": {
    "name": "ipython",
    "version": 3
   },
   "file_extension": ".py",
   "mimetype": "text/x-python",
   "name": "python",
   "nbconvert_exporter": "python",
   "pygments_lexer": "ipython3",
   "version": "3.9.12"
  }
 },
 "nbformat": 4,
 "nbformat_minor": 5
}
