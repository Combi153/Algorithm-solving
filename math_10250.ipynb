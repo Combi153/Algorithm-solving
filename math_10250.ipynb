{
 "cells": [
  {
   "cell_type": "markdown",
   "metadata": {},
   "source": [
    "math"
   ]
  },
  {
   "cell_type": "markdown",
   "metadata": {},
   "source": [
    "10250"
   ]
  },
  {
   "cell_type": "code",
   "execution_count": 4,
   "metadata": {},
   "outputs": [
    {
     "name": "stdout",
     "output_type": "stream",
     "text": [
      "612\n",
      "3005\n"
     ]
    }
   ],
   "source": [
    "class ACMHotel:\n",
    "  def __init__(self,H,W,N):\n",
    "    self.floor=H\n",
    "    self.room=W\n",
    "    self.customer=N\n",
    "    self.assignment()\n",
    "\n",
    "  def assignment(self):\n",
    "    if self.customer%self.floor == 0:\n",
    "      self.customer-=1 #손님 한 칸 뒤로\n",
    "      room_number=(self.customer//self.floor+1)\n",
    "      room_floor=((self.customer%self.floor)+1)*100 # 1 더해주기\n",
    "\n",
    "    elif self.customer%self.floor != 0:\n",
    "      room_number=(self.customer//self.floor+1)\n",
    "      room_floor=(self.customer%self.floor)*100\n",
    "\n",
    "    customer_room=room_number+room_floor\n",
    "    print(customer_room)\n",
    "    \n",
    "if __name__=='__main__':\n",
    "  test=int(input())\n",
    "  for i in range(test):\n",
    "    floor,room,customer=map(int,input().split())\n",
    "    goHotel=ACMHotel(floor,room,customer)"
   ]
  },
  {
   "cell_type": "code",
   "execution_count": 2,
   "metadata": {},
   "outputs": [
    {
     "name": "stdout",
     "output_type": "stream",
     "text": [
      "601\n"
     ]
    }
   ],
   "source": [
    "class ACMHotel:\n",
    "  def __init__(self,H,W,N):\n",
    "    self.floor=H\n",
    "    self.room=W\n",
    "    self.customer=N\n",
    "    self.assignment()\n",
    "\n",
    "  def assignment(self):\n",
    "    if self.customer%self.floor == 0:\n",
    "      room_number=self.customer//self.floor\n",
    "      room_floor=self.customer*100\n",
    "\n",
    "    elif self.customer%self.floor != 0:\n",
    "      room_number=(self.customer//self.floor+1)\n",
    "      room_floor=(self.customer%self.floor)*100\n",
    "\n",
    "    customer_room=room_number+room_floor\n",
    "    print(customer_room)\n",
    "    \n",
    "if __name__=='__main__':\n",
    "  test=int(input())\n",
    "  for i in range(test):\n",
    "    floor,room,customer=map(int,input().split())\n",
    "    goHotel=ACMHotel(floor,room,customer)"
   ]
  }
 ],
 "metadata": {
  "kernelspec": {
   "display_name": "Python 3.10.5 64-bit",
   "language": "python",
   "name": "python3"
  },
  "language_info": {
   "codemirror_mode": {
    "name": "ipython",
    "version": 3
   },
   "file_extension": ".py",
   "mimetype": "text/x-python",
   "name": "python",
   "nbconvert_exporter": "python",
   "pygments_lexer": "ipython3",
   "version": "3.10.5"
  },
  "orig_nbformat": 4,
  "vscode": {
   "interpreter": {
    "hash": "3b73bbac0916b1ec0ba594196a0e2a690610daf3e27e0d2ff201ec69ed0faaed"
   }
  }
 },
 "nbformat": 4,
 "nbformat_minor": 2
}
