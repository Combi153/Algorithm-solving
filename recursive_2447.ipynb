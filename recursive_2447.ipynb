{
 "cells": [
  {
   "cell_type": "markdown",
   "metadata": {},
   "source": [
    "recursive 2447 별 찍기-10"
   ]
  },
  {
   "cell_type": "markdown",
   "metadata": {},
   "source": [
    "재귀적 패턴으로 별 찍기\n",
    "- 어떤 정수 k에 대해 $n=3^k$인 정수 n이 주어진다. $1<=k<=8$\n",
    "- 크기 3의 패턴은 가운데에 공백이 있고, 가운데를 제외한 모든 칸에 별이 하나씩 있는 패턴\n",
    "- N이 3보다 클 경우, 크기 N의 패턴은 공백으로 채워진 가운데의 (N/3)×(N/3) 정사각형을 크기 N/3의 패턴으로 둘러싼 형태"
   ]
  },
  {
   "cell_type": "markdown",
   "metadata": {},
   "source": [
    "생각\n",
    "1. n 입력에 따라 별을 미리 만든다.\n",
    "2. 재귀함수로 중간 지점에 별을 공백으로 대체한다.\n"
   ]
  },
  {
   "cell_type": "code",
   "execution_count": 8,
   "metadata": {},
   "outputs": [
    {
     "name": "stdout",
     "output_type": "stream",
     "text": [
      "[['***'], ['***'], ['***']]\n"
     ]
    },
    {
     "data": {
      "text/plain": [
       "\"\\ndef star(num):\\n    if num ==1:\\n        stars.append(['***'*k])\\n        return\\n    if num ==2:\\n        stars.append(['* *'])\\n    else:\\n        stars.append(['***'*k])\\n        star(num-1)\\n    star(num-1)\\n\\nstar(n)\\n\\nfor i in range(len(stars)):\\n    print(stars[i])\\n\\n\""
      ]
     },
     "execution_count": 8,
     "metadata": {},
     "output_type": "execute_result"
    }
   ],
   "source": [
    "import math\n",
    "n=int(input())\n",
    "stars=[]\n",
    "\n",
    "for i in range(n):\n",
    "    star='*'*n\n",
    "    stars.append([star])\n",
    "\n",
    "print(stars)\n",
    "\n",
    "k=math.log(n,3)\n",
    "'''\n",
    "def star(num):\n",
    "    if num ==1:\n",
    "        stars.append(['***'*k])\n",
    "        return\n",
    "    if num ==2:\n",
    "        stars.append(['* *'])\n",
    "    else:\n",
    "        stars.append(['***'*k])\n",
    "        star(num-1)\n",
    "    star(num-1)\n",
    "\n",
    "star(n)\n",
    "\n",
    "for i in range(len(stars)):\n",
    "    print(stars[i])\n",
    "\n",
    "'''"
   ]
  },
  {
   "cell_type": "code",
   "execution_count": null,
   "metadata": {},
   "outputs": [],
   "source": [
    "n=int(input())\n",
    "\n",
    "def star(num):\n",
    "    if num == 1:\n",
    "        \n",
    "nDividedBy3=n//3\n",
    "blank="
   ]
  }
 ],
 "metadata": {
  "kernelspec": {
   "display_name": "Python 3.10.5 64-bit",
   "language": "python",
   "name": "python3"
  },
  "language_info": {
   "codemirror_mode": {
    "name": "ipython",
    "version": 3
   },
   "file_extension": ".py",
   "mimetype": "text/x-python",
   "name": "python",
   "nbconvert_exporter": "python",
   "pygments_lexer": "ipython3",
   "version": "3.10.5"
  },
  "orig_nbformat": 4,
  "vscode": {
   "interpreter": {
    "hash": "3b73bbac0916b1ec0ba594196a0e2a690610daf3e27e0d2ff201ec69ed0faaed"
   }
  }
 },
 "nbformat": 4,
 "nbformat_minor": 2
}
