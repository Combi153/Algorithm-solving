{
 "cells": [
  {
   "cell_type": "markdown",
   "metadata": {},
   "source": [
    "sort 2750"
   ]
  },
  {
   "cell_type": "code",
   "execution_count": 1,
   "metadata": {},
   "outputs": [
    {
     "name": "stdout",
     "output_type": "stream",
     "text": [
      "[5]\n",
      "[5]\n"
     ]
    }
   ],
   "source": [
    "n = int(input())\n",
    "sortNum = []\n",
    "\n",
    "for i in range(n):\n",
    "    number = int(input())\n",
    "    if len(sortNum) > 1:\n",
    "        for j in range(len(sortNum)):\n",
    "            if number <= sortNum[j]:\n",
    "                \n",
    "            else:\n",
    "                sortNum.append(number)\n",
    "    else:\n",
    "        sortNum.append(number)\n",
    "\n",
    "print(sortNum)\n",
    "print(sortNum, end='\\n')\n",
    "\n"
   ]
  },
  {
   "cell_type": "markdown",
   "metadata": {},
   "source": [
    "먼저 넣고, 정렬하기"
   ]
  },
  {
   "cell_type": "code",
   "execution_count": 24,
   "metadata": {},
   "outputs": [
    {
     "name": "stdout",
     "output_type": "stream",
     "text": [
      "1 2 0\n",
      "3 4 2\n",
      "[1, 2, 3, 4, 5, 5, 5, 3, 3]\n",
      "1\n",
      "2\n",
      "3\n",
      "4\n",
      "5\n",
      "5\n",
      "5\n",
      "3\n",
      "3\n"
     ]
    }
   ],
   "source": [
    "n = int(input())\n",
    "sortNum = []\n",
    "\n",
    "for i in range(n):\n",
    "    number = int(input())\n",
    "    if len(sortNum) == 0:\n",
    "        sortNum.append(number)\n",
    "    else:\n",
    "        for j in range(len(sortNum)):\n",
    "            if number < sortNum[j]:\n",
    "                idx = j\n",
    "                break\n",
    "            else:\n",
    "                sortNum.append(number)\n",
    "                \n",
    "        sortNum.insert(idx, number)\n",
    "\n",
    "print(sortNum)\n",
    "print(*sortNum, sep='\\n')"
   ]
  }
 ],
 "metadata": {
  "kernelspec": {
   "display_name": "Python 3.10.5 64-bit",
   "language": "python",
   "name": "python3"
  },
  "language_info": {
   "codemirror_mode": {
    "name": "ipython",
    "version": 3
   },
   "file_extension": ".py",
   "mimetype": "text/x-python",
   "name": "python",
   "nbconvert_exporter": "python",
   "pygments_lexer": "ipython3",
   "version": "3.10.5"
  },
  "orig_nbformat": 4,
  "vscode": {
   "interpreter": {
    "hash": "3b73bbac0916b1ec0ba594196a0e2a690610daf3e27e0d2ff201ec69ed0faaed"
   }
  }
 },
 "nbformat": 4,
 "nbformat_minor": 2
}
