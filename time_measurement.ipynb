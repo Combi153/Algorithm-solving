{
 "cells": [
  {
   "cell_type": "markdown",
   "metadata": {},
   "source": [
    "시간 측정하는 방법\n",
    "\n",
    "1. time 모듈을 import한다.\n",
    "2. 코드가 시작하는 시점에 time.time()을 특정 변수(start)에 저장한다.\n",
    "3. 코드가 끝난 시점에 time.time()에서 start를 뺀다."
   ]
  },
  {
   "cell_type": "code",
   "execution_count": null,
   "metadata": {},
   "outputs": [],
   "source": [
    "import time\n",
    "start_time = time.time()\n",
    "\n",
    "#확인하고자 하는 코드\n",
    "\n",
    "end_time = time.time()\n",
    "print(\"run time: \", end_time - start_time)"
   ]
  }
 ],
 "metadata": {
  "kernelspec": {
   "display_name": "Python 3.10.5 64-bit",
   "language": "python",
   "name": "python3"
  },
  "language_info": {
   "name": "python",
   "version": "3.10.5"
  },
  "orig_nbformat": 4,
  "vscode": {
   "interpreter": {
    "hash": "3b73bbac0916b1ec0ba594196a0e2a690610daf3e27e0d2ff201ec69ed0faaed"
   }
  }
 },
 "nbformat": 4,
 "nbformat_minor": 2
}
