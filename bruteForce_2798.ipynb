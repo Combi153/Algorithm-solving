{
 "cells": [
  {
   "cell_type": "markdown",
   "metadata": {},
   "source": [
    "bruteForce 2798"
   ]
  },
  {
   "cell_type": "markdown",
   "metadata": {},
   "source": [
    "블랙잭\n",
    "- 첫째 줄에 카드의 개수 N(3 ≤ N ≤ 100)과 M(10 ≤ M ≤ 300,000)이 주어진다.\n",
    "- 둘째 줄에는 카드에 쓰여 있는 수가 주어진다.\n",
    "- 둘째 줄 카드의 수는 100,000을 넘지 않는 양의 정수이다.\n",
    "- 첫째 줄에 M을 넘지 않으면서 M에 최대한 가까운 카드 3장의 합을 출력하자.\n"
   ]
  },
  {
   "cell_type": "markdown",
   "metadata": {},
   "source": [
    "풀이\n",
    "1. 입력 받고, 카드의 가능한 합 경우 구하기\n",
    "- 중첩 반복문 설정 시 이전 반복문의 값을 range(start = 값, end) 으로 설정하면 원하는 경우만을 구할 수 있다."
   ]
  },
  {
   "cell_type": "code",
   "execution_count": 19,
   "metadata": {},
   "outputs": [
    {
     "name": "stdout",
     "output_type": "stream",
     "text": [
      "5 6 7\n",
      "5 6 8\n",
      "5 6 9\n",
      "5 7 8\n",
      "5 7 9\n",
      "5 8 9\n",
      "6 7 8\n",
      "6 7 9\n",
      "6 8 9\n",
      "7 8 9\n"
     ]
    }
   ],
   "source": [
    "n, m = map(int, input().split())\n",
    "numOfCards = list(map(int,input().split()))\n",
    "\n",
    "\n",
    "for i in range(0,n-2):\n",
    "    for j in range(i+1,n-1):\n",
    "        for k in range(j+1,n):\n",
    "            sumOf3 = numOfCards[i] + numOfCards[j] + numOfCards[k]\n",
    "\n",
    "            #print(sumOf3)\n",
    "            print(str(numOfCards[i]) +' '+ str(numOfCards[j]) +' '+ str(numOfCards[k]))"
   ]
  },
  {
   "cell_type": "markdown",
   "metadata": {},
   "source": [
    "2. m 과 카드 숫자의 합을 뺀다. (sub3FromM 을 구한다.)\n",
    "3. sub3FromM의 값을 적절히 활용하여 카드 숫자의 합을 리스트에 넣는다.\n",
    "- sub3FromM < 0 이면 continue\n",
    "- sub3FromM >= subCardsFromM[-1] 이면 continue\n",
    "- subCardsFromM[-1]와 비교하는 이유는 subCardsFromM[-1] 보다 큰 합은 출력할 가능성이 없기 때문이다.\n",
    "4. 단, subCardsFromM, sumOfCards 리스트가 처음에 비어 있으므로, 비교 연산이 불가능하다. 이를 해결하기 위해 예외처리를 한다.\n",
    "5. subOfCards는 m 보다 크지 않은 수들의 리스트로 오름차순 정렬되어 있다. 가장 마지막 요소를 출력한다."
   ]
  },
  {
   "cell_type": "code",
   "execution_count": 22,
   "metadata": {},
   "outputs": [
    {
     "name": "stdout",
     "output_type": "stream",
     "text": [
      "[12, 10, 8, 6, 5, 3]\n",
      "[488, 490, 492, 494, 495, 497]\n",
      "497\n"
     ]
    }
   ],
   "source": [
    "n, m = map(int, input().split())\n",
    "numOfCards = list(map(int,input().split()))\n",
    "sumOfCards = []\n",
    "subCardsFromM = []\n",
    "\n",
    "for i in range(0,n-2):\n",
    "    for j in range(i+1,n-1):\n",
    "        for k in range(j+1,n):\n",
    "            sumOf3 = numOfCards[i] + numOfCards[j] + numOfCards[k]\n",
    "            sub3FromM = m - sumOf3\n",
    "\n",
    "            if sub3FromM < 0:\n",
    "                continue\n",
    "\n",
    "            else:\n",
    "                try:\n",
    "                    if sub3FromM >= subCardsFromM[-1]:\n",
    "                        continue\n",
    "                    \n",
    "                    else:\n",
    "                        subCardsFromM.append(sub3FromM)\n",
    "                        sumOfCards.append(sumOf3)\n",
    "                except:\n",
    "                    subCardsFromM.append(sub3FromM)\n",
    "                    sumOfCards.append(sumOf3)\n",
    "                \n",
    "print(subCardsFromM)\n",
    "print(sumOfCards)\n",
    "print(sumOfCards[-1])\n"
   ]
  },
  {
   "cell_type": "markdown",
   "metadata": {},
   "source": [
    "문자열을 활용한 풀이\n",
    "- 더 빠르다."
   ]
  },
  {
   "cell_type": "code",
   "execution_count": 26,
   "metadata": {},
   "outputs": [
    {
     "name": "stdout",
     "output_type": "stream",
     "text": [
      "497\n"
     ]
    }
   ],
   "source": [
    "n, m = map(int, input().split())\n",
    "numOfCards = list(map(int,input().split()))\n",
    "\n",
    "for i in range(0,n-2):\n",
    "    for j in range(i+1,n-1):\n",
    "        for k in range(j+1,n):\n",
    "            sumOf3 = numOfCards[i] + numOfCards[j] + numOfCards[k]\n",
    "            sub3FromM = m - sumOf3\n",
    "\n",
    "            if sub3FromM < 0:\n",
    "                continue\n",
    "\n",
    "            else:\n",
    "                try:\n",
    "                    if sub3FromM >= lastSub:\n",
    "                        continue\n",
    "                    \n",
    "                    else:\n",
    "                        lastSum = sumOf3\n",
    "                        lastSub = sub3FromM\n",
    "\n",
    "                except:\n",
    "                    lastSum = sumOf3\n",
    "                    lastSub = sub3FromM\n",
    "                \n",
    "print(lastSum)\n"
   ]
  },
  {
   "cell_type": "markdown",
   "metadata": {},
   "source": [
    "실패한 풀이"
   ]
  },
  {
   "cell_type": "code",
   "execution_count": null,
   "metadata": {},
   "outputs": [],
   "source": [
    "#시간 초과\n",
    "n, m = map(int, input().split())\n",
    "numOfCards = list(map(int,input().split()))\n",
    "sumOfCards = []\n",
    "num = 0\n",
    "\n",
    "for i in range(0,n-2):\n",
    "    for j in range(i+1,n-1):\n",
    "        for k in range(j+1,n):\n",
    "            sumOf3 = numOfCards[i] + numOfCards[j] + numOfCards[k]\n",
    "            sumOfCards.append(sumOf3)\n",
    "            \n",
    "while True:\n",
    "    theValue = m - num\n",
    "    if theValue in sumOfCards:\n",
    "        print(theValue)\n",
    "        break\n",
    "\n",
    "    num += 1"
   ]
  },
  {
   "cell_type": "markdown",
   "metadata": {},
   "source": [
    "다른 사람 풀이"
   ]
  },
  {
   "cell_type": "code",
   "execution_count": null,
   "metadata": {},
   "outputs": [],
   "source": [
    "n, m = map(int, input().split())\n",
    "num = list(map(int, input().split()))\n",
    "l = len(num)\n",
    "ans = 0\n",
    "for i in range(0, l-2):\n",
    "    for j in range(i+1, l-1):\n",
    "        for k in range(j+1, l):\n",
    "            if(num[i] + num[j] + num[k] > m):\n",
    "                continue\n",
    "            else:\n",
    "                ans = max(ans ,num[i] + num[j] + num[k])\n",
    "\n",
    "print(ans)"
   ]
  },
  {
   "cell_type": "markdown",
   "metadata": {},
   "source": [
    "참고해서 다시 풀어보기"
   ]
  },
  {
   "cell_type": "code",
   "execution_count": 28,
   "metadata": {},
   "outputs": [
    {
     "name": "stdout",
     "output_type": "stream",
     "text": [
      "497\n"
     ]
    }
   ],
   "source": [
    "n, m = map(int, input().split())\n",
    "numOfCards = list(map(int,input().split()))\n",
    "ans = 0\n",
    "\n",
    "for i in range(0,n-2):\n",
    "    for j in range(i+1,n-1):\n",
    "        for k in range(j+1,n):\n",
    "            sumOf3 = numOfCards[i] + numOfCards[j] + numOfCards[k]\n",
    "\n",
    "            if sumOf3 > m:\n",
    "                continue\n",
    "\n",
    "            else:\n",
    "                if sumOf3 > ans:\n",
    "                    ans = sumOf3\n",
    "                \n",
    "print(ans)"
   ]
  }
 ],
 "metadata": {
  "kernelspec": {
   "display_name": "Python 3.10.5 64-bit",
   "language": "python",
   "name": "python3"
  },
  "language_info": {
   "codemirror_mode": {
    "name": "ipython",
    "version": 3
   },
   "file_extension": ".py",
   "mimetype": "text/x-python",
   "name": "python",
   "nbconvert_exporter": "python",
   "pygments_lexer": "ipython3",
   "version": "3.10.5"
  },
  "orig_nbformat": 4,
  "vscode": {
   "interpreter": {
    "hash": "3b73bbac0916b1ec0ba594196a0e2a690610daf3e27e0d2ff201ec69ed0faaed"
   }
  }
 },
 "nbformat": 4,
 "nbformat_minor": 2
}
