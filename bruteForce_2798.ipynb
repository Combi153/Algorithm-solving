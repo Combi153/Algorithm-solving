{
 "cells": [
  {
   "cell_type": "markdown",
   "metadata": {},
   "source": [
    "bruteForce 2798"
   ]
  },
  {
   "cell_type": "markdown",
   "metadata": {},
   "source": [
    "블랙잭\n",
    "- 첫째 줄에 카드의 개수 N(3 ≤ N ≤ 100)과 M(10 ≤ M ≤ 300,000)이 주어진다.\n",
    "- 둘째 줄에는 카드에 쓰여 있는 수가 주어진다.\n",
    "- 둘째 줄 카드의 수는 100,000을 넘지 않는 양의 정수이다.\n",
    "- 첫째 줄에 M을 넘지 않으면서 M에 최대한 가까운 카드 3장의 합을 출력하자.\n"
   ]
  },
  {
   "cell_type": "code",
   "execution_count": null,
   "metadata": {},
   "outputs": [],
   "source": [
    "#시간 초과\n",
    "n, m = map(int, input().split())\n",
    "numOfCards = list(map(int,input().split()))\n",
    "sumOfCards = []\n",
    "num = 0\n",
    "\n",
    "for i in range(0,n-2):\n",
    "    for j in range(i+1,n-1):\n",
    "        for k in range(j+1,n):\n",
    "            sumOf3 = numOfCards[i] + numOfCards[j] + numOfCards[k]\n",
    "            sumOfCards.append(sumOf3)\n",
    "            \n",
    "while True:\n",
    "    theValue = m - num\n",
    "    if theValue in sumOfCards:\n",
    "        print(theValue)\n",
    "        break\n",
    "\n",
    "    num += 1"
   ]
  },
  {
   "cell_type": "code",
   "execution_count": 17,
   "metadata": {},
   "outputs": [
    {
     "name": "stdout",
     "output_type": "stream",
     "text": [
      "497\n"
     ]
    }
   ],
   "source": [
    "n, m = map(int, input().split())\n",
    "numOfCards = list(map(int,input().split()))\n",
    "sumOfCards = []\n",
    "subCardsFromM = []\n",
    "\n",
    "for i in range(0,n-2):\n",
    "    for j in range(i+1,n-1):\n",
    "        for k in range(j+1,n):\n",
    "            sumOf3 = numOfCards[i] + numOfCards[j] + numOfCards[k]\n",
    "            sub3FromM = m - sumOf3\n",
    "\n",
    "            if sub3FromM < 0:\n",
    "                continue\n",
    "\n",
    "            else:\n",
    "                try:\n",
    "                    if sub3FromM >= min(subCardsFromM):\n",
    "                        continue\n",
    "                    \n",
    "                    else:\n",
    "                        subCardsFromM.append(sub3FromM)\n",
    "                        sumOfCards.append(sumOf3)\n",
    "                except:\n",
    "                    subCardsFromM.append(sub3FromM)\n",
    "                    sumOfCards.append(sumOf3)\n",
    "                \n",
    "print(sumOfCards[-1])\n"
   ]
  }
 ],
 "metadata": {
  "kernelspec": {
   "display_name": "Python 3.10.5 64-bit",
   "language": "python",
   "name": "python3"
  },
  "language_info": {
   "codemirror_mode": {
    "name": "ipython",
    "version": 3
   },
   "file_extension": ".py",
   "mimetype": "text/x-python",
   "name": "python",
   "nbconvert_exporter": "python",
   "pygments_lexer": "ipython3",
   "version": "3.10.5"
  },
  "orig_nbformat": 4,
  "vscode": {
   "interpreter": {
    "hash": "3b73bbac0916b1ec0ba594196a0e2a690610daf3e27e0d2ff201ec69ed0faaed"
   }
  }
 },
 "nbformat": 4,
 "nbformat_minor": 2
}
