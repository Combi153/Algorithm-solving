{
 "cells": [
  {
   "cell_type": "markdown",
   "metadata": {},
   "source": [
    "sort_10989"
   ]
  },
  {
   "cell_type": "markdown",
   "metadata": {},
   "source": [
    "# 수 정렬하기 3\n",
    "시간 제한 5초, 메모리 제한 8MB\n",
    "- N개의 수가 주어졌을 때, 이를 오름차순으로 정렬\n",
    "- 메모리와 시간 모두 염두에 두어야 함.\n",
    "- 계수 정렬(카운팅 정렬) 알고리즘 활용"
   ]
  },
  {
   "cell_type": "markdown",
   "metadata": {},
   "source": [
    "입력 조건 : \n",
    "- 첫째 줄에 수의 개수 N(1 ≤ N ≤ 10,000,000)이 주어진다. \n",
    "- 둘째 줄부터 N개의 줄에는 수가 주어진다. 이 수는 10,000보다 작거나 같은 자연수이다."
   ]
  },
  {
   "cell_type": "markdown",
   "metadata": {},
   "source": [
    "메모리 초과\n",
    "- 입력받은 수를 리스트로 만들면서 메모리가 초과되는 것으로 생각\n",
    "- 수의 최대 개수가 10,000,000 이므로 매우 큰 메모리 차지할 것  \n",
    "`리스트를 만들지 말자!`"
   ]
  },
  {
   "cell_type": "code",
   "execution_count": 2,
   "metadata": {},
   "outputs": [
    {
     "name": "stdout",
     "output_type": "stream",
     "text": [
      "1\n",
      "1\n",
      "2\n",
      "2\n",
      "3\n",
      "3\n",
      "4\n",
      "5\n",
      "5\n",
      "7\n"
     ]
    }
   ],
   "source": [
    "n = int(input())\n",
    "numbers = []\n",
    "\n",
    "for i in range(0, n):\n",
    "    numbers.append(int(input()))\n",
    "\n",
    "#계수 정렬\n",
    "def SortByCounting(a):\n",
    "    lastIdx = max(numbers) + 1\n",
    "    count = [0] * lastIdx\n",
    "\n",
    "    for i in numbers:\n",
    "        count[i] += 1\n",
    "\n",
    "    for j in range(len(count)):\n",
    "        for k in range(count[j]):\n",
    "            print(j)\n",
    "\n",
    "SortByCounting(numbers)"
   ]
  },
  {
   "cell_type": "markdown",
   "metadata": {},
   "source": [
    "시간 초과\n",
    "- 출력하는 반복문에서 값이 없는 count도 탐색하는 것이 문제라고 판단  \n",
    "`값이 있는 count만 탐색하자`"
   ]
  },
  {
   "cell_type": "code",
   "execution_count": 11,
   "metadata": {},
   "outputs": [
    {
     "name": "stdout",
     "output_type": "stream",
     "text": [
      "1\n",
      "1\n",
      "2\n",
      "2\n",
      "3\n",
      "3\n",
      "4\n",
      "5\n",
      "5\n",
      "7\n"
     ]
    }
   ],
   "source": [
    "n = int(input())\n",
    "count = [0] * 10001 # 문제 최대값\n",
    "\n",
    "for i in range(0, n):\n",
    "    num = int(input())\n",
    "    count[num] += 1\n",
    "\n",
    "for j in range(len(count)):\n",
    "    for k in range(count[j]):\n",
    "        print(j)"
   ]
  },
  {
   "cell_type": "markdown",
   "metadata": {},
   "source": [
    "시간 초과\n",
    "- maxNum으로 count를 줄여주었으나 여전히 시간 초과\n",
    "- 입력 조건을 다시 확인하니, 입력받는 숫자의 개수가 매우 크다.  \n",
    "`input() 함수가 아니라, sys.stdin.readline() 함수를 사용하자.`"
   ]
  },
  {
   "cell_type": "code",
   "execution_count": 25,
   "metadata": {},
   "outputs": [
    {
     "name": "stdout",
     "output_type": "stream",
     "text": [
      "1\n",
      "1\n",
      "1\n",
      "2\n",
      "3\n"
     ]
    }
   ],
   "source": [
    "n = int(input())\n",
    "count = [0] * 10001 # 문제 최대값\n",
    "maxNum = 0\n",
    "\n",
    "for i in range(0, n):\n",
    "    num = int(input())\n",
    "    count[num] += 1\n",
    "\n",
    "    #maxNum 구하기\n",
    "    if num > maxNum:\n",
    "        maxNum = num\n",
    "\n",
    "count = count[:maxNum+1]\n",
    "\n",
    "for value, cnt in enumerate(count):\n",
    "    if cnt != 0:\n",
    "        temp = [value] * cnt\n",
    "        print(*temp, sep='\\n')"
   ]
  },
  {
   "cell_type": "markdown",
   "metadata": {},
   "source": [
    "메모리초과\n",
    "- sys.stdin.readline()을 사용하였으나, 이번에는 메모리 초과\n",
    "- 이중 반복문을 피하기 위해 enumerate와 list를 사용하였다.\n",
    "- 이때 하나의 수가 매우 여러 번 반복된다면, temp list가 만들어지면서 메모리 제한을 초과할 것이라고 생각  \n",
    "`list를 사용하지 말자`"
   ]
  },
  {
   "cell_type": "code",
   "execution_count": null,
   "metadata": {},
   "outputs": [],
   "source": [
    "import sys\n",
    "n = int(sys.stdin.readline())\n",
    "count = [0] * 10001 # 문제 최대값\n",
    "maxNum = 0\n",
    "\n",
    "for i in range(0, n):\n",
    "    num = int(sys.stdin.readline())\n",
    "    count[num] += 1\n",
    "\n",
    "    #maxNum 구하기\n",
    "    if num > maxNum:\n",
    "        maxNum = num\n",
    "\n",
    "count = count[:maxNum+1]\n",
    "\n",
    "for value, cnt in enumerate(count):\n",
    "    if cnt != 0:\n",
    "        temp = [value] * cnt\n",
    "        print(*temp, sep='\\n')"
   ]
  },
  {
   "cell_type": "markdown",
   "metadata": {},
   "source": [
    "`정답!`"
   ]
  },
  {
   "cell_type": "code",
   "execution_count": null,
   "metadata": {},
   "outputs": [],
   "source": [
    "import sys\n",
    "n = int(sys.stdin.readline())\n",
    "count = [0] * 10001 # 문제 최대값\n",
    "maxNum = 0\n",
    "\n",
    "for i in range(0, n):\n",
    "    num = int(sys.stdin.readline())\n",
    "    count[num] += 1\n",
    "\n",
    "    #maxNum 구하기\n",
    "    if num > maxNum:\n",
    "        maxNum = num\n",
    "\n",
    "count = count[:maxNum+1]\n",
    "\n",
    "for j in range(len(count)):\n",
    "    for k in range(count[j]):\n",
    "        print(j)"
   ]
  },
  {
   "cell_type": "markdown",
   "metadata": {},
   "source": [
    "## 다른 사람 코드"
   ]
  },
  {
   "cell_type": "markdown",
   "metadata": {},
   "source": [
    "- 다들 메모리초과로 고생하는 것 같다."
   ]
  },
  {
   "cell_type": "code",
   "execution_count": null,
   "metadata": {},
   "outputs": [],
   "source": [
    "import sys\n",
    "\n",
    "n = int(sys.stdin.readline())\n",
    "num_list = [0] * 10001\n",
    "\n",
    "for _ in range(n):\n",
    "    num_list[int(sys.stdin.readline())] += 1\n",
    "\n",
    "for i in range(10001):\n",
    "    if num_list[i] != 0:\n",
    "        for j in range(num_list[i]):\n",
    "            print(i)"
   ]
  }
 ],
 "metadata": {
  "kernelspec": {
   "display_name": "Python 3.10.5 64-bit",
   "language": "python",
   "name": "python3"
  },
  "language_info": {
   "codemirror_mode": {
    "name": "ipython",
    "version": 3
   },
   "file_extension": ".py",
   "mimetype": "text/x-python",
   "name": "python",
   "nbconvert_exporter": "python",
   "pygments_lexer": "ipython3",
   "version": "3.10.5"
  },
  "orig_nbformat": 4,
  "vscode": {
   "interpreter": {
    "hash": "3b73bbac0916b1ec0ba594196a0e2a690610daf3e27e0d2ff201ec69ed0faaed"
   }
  }
 },
 "nbformat": 4,
 "nbformat_minor": 2
}
