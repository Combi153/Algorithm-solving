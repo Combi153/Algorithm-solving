{
 "cells": [
  {
   "cell_type": "markdown",
   "metadata": {},
   "source": [
    "# sort 2750"
   ]
  },
  {
   "cell_type": "markdown",
   "metadata": {},
   "source": [
    "수 정렬하기 : N개의 수가 주어졌을 때, 오름차순으로 정렬하기\n",
    "- 시간 제한 1초, 시간복잡도 $O(n^2)$인 정렬 알고리즘 활용 가능.\n",
    "- 삽입 정렬\n",
    "- 버블 정렬"
   ]
  },
  {
   "cell_type": "markdown",
   "metadata": {},
   "source": [
    "## 1. 삽입 정렬 활용"
   ]
  },
  {
   "cell_type": "markdown",
   "metadata": {},
   "source": [
    "입력 받으면서 정렬하기"
   ]
  },
  {
   "cell_type": "code",
   "execution_count": 2,
   "metadata": {},
   "outputs": [
    {
     "name": "stdout",
     "output_type": "stream",
     "text": [
      "[1, 2, 3, 4, 5]\n",
      "1\n",
      "2\n",
      "3\n",
      "4\n",
      "5\n"
     ]
    }
   ],
   "source": [
    "n = int(input())\n",
    "sortNum = []\n",
    "\n",
    "for i in range(n):\n",
    "    element = int(input())\n",
    "    idx = 0\n",
    "\n",
    "    for j in range(len(sortNum)):\n",
    "        if element < sortNum[j]:\n",
    "            idx = j\n",
    "            break\n",
    "        else:\n",
    "            idx = len(sortNum)\n",
    "    sortNum.insert(idx, element)\n",
    "\n",
    "print(*sortNum, sep='\\n')"
   ]
  },
  {
   "cell_type": "markdown",
   "metadata": {},
   "source": [
    "입력 받은 후 정렬하기"
   ]
  },
  {
   "cell_type": "code",
   "execution_count": 3,
   "metadata": {},
   "outputs": [
    {
     "name": "stdout",
     "output_type": "stream",
     "text": [
      "1\n",
      "2\n",
      "3\n",
      "4\n",
      "5\n"
     ]
    }
   ],
   "source": [
    "def sort_array(a):\n",
    "    n = len(a)\n",
    "    for i in range(1,n):\n",
    "        key = a[i]\n",
    "        j = i - 1\n",
    "\n",
    "        while (j >= 0) & (a[j] > key):\n",
    "            a[j + 1] = a[j]\n",
    "            j -= 1\n",
    "        a[j + 1] = key\n",
    "\n",
    "n = int(input())\n",
    "sortNum = []\n",
    "\n",
    "for i in range(n):\n",
    "    element = int(input())\n",
    "    sortNum.append(element)\n",
    "    \n",
    "sort_array(sortNum)\n",
    "print(*sortNum, sep='\\n')"
   ]
  },
  {
   "cell_type": "markdown",
   "metadata": {},
   "source": [
    "## 2. 버블 정렬 활용"
   ]
  },
  {
   "cell_type": "markdown",
   "metadata": {},
   "source": [
    "버블 정렬\n",
    "- 문제가 있음을 발견하였다!\n",
    "- 정렬 회차가 거듭될수록, 요소 비교 횟수가 줄어들지 않고 n - 1로 고정된 코드이다.\n",
    "- 수정하였다."
   ]
  },
  {
   "cell_type": "code",
   "execution_count": 11,
   "metadata": {},
   "outputs": [
    {
     "name": "stdout",
     "output_type": "stream",
     "text": [
      "[1, 2, 3, 4, 5]\n",
      "[1, 2, 3, 4, 5]\n",
      "[1, 2, 3, 4, 5]\n",
      "[1, 2, 3, 4, 5]\n",
      "1\n",
      "2\n",
      "3\n",
      "4\n",
      "5\n"
     ]
    }
   ],
   "source": [
    "n = int(input())\n",
    "numList = []\n",
    "\n",
    "for i in range(n):\n",
    "    element = int(input())\n",
    "    numList.append(element)\n",
    "minus = 0 \n",
    "while (minus < n):\n",
    "    changed = False\n",
    "       \n",
    "    for i in range(0, n-1-minus):\n",
    "        \n",
    "        if numList[i] > numList[i + 1]:\n",
    "            numList[i + 1], numList[i] = numList[i], numList[i + 1]\n",
    "            changed = True\n",
    "        \n",
    "        \n",
    "    if changed == False:\n",
    "        break\n",
    "    minus += 1\n",
    "    \n",
    "\n",
    "print(*numList, sep='\\n')"
   ]
  },
  {
   "cell_type": "code",
   "execution_count": 2,
   "metadata": {},
   "outputs": [
    {
     "name": "stdout",
     "output_type": "stream",
     "text": [
      "1\n",
      "8\n",
      "6\n",
      "5\n",
      "9\n"
     ]
    }
   ],
   "source": [
    "n = int(input())\n",
    "numList = []\n",
    "\n",
    "for i in range(n):\n",
    "    element = int(input())\n",
    "    numList.append(element)\n",
    "\n",
    "count = 0\n",
    "while True:\n",
    "    changed = False    \n",
    "    for i in range(1, n - count):\n",
    "        if numList[i - 1] > numList[i]:\n",
    "            numList[i - 1], numList[i] = numList[i], numList[i - 1]\n",
    "            changed = True\n",
    "        count += 1\n",
    "    if changed == False:\n",
    "        break\n",
    "\n",
    "print(*numList, sep='\\n')"
   ]
  },
  {
   "cell_type": "markdown",
   "metadata": {},
   "source": [
    "# 다른 사람 코드"
   ]
  },
  {
   "cell_type": "markdown",
   "metadata": {},
   "source": [
    "버블 정렬이라고 푸는데 이것도 버블 정렬이 맞나? 궁금하다."
   ]
  },
  {
   "cell_type": "code",
   "execution_count": null,
   "metadata": {},
   "outputs": [],
   "source": [
    "N = int(input())\n",
    "\n",
    "numbers = []\n",
    "\n",
    "for _ in range(N) : \n",
    "    numbers.append(int(input()))\n",
    "\n",
    "# Bubble Sort\n",
    "for i in range(len(numbers)) : \n",
    "    for j in range(len(numbers)) : \n",
    "        if numbers[i] < numbers[j] : \n",
    "            numbers[i], numbers[j] = numbers[j], numbers[i]\n",
    "            \n",
    "for n in numbers : \n",
    "    print(n)"
   ]
  },
  {
   "cell_type": "markdown",
   "metadata": {},
   "source": [
    "삽입 정렬 예시"
   ]
  },
  {
   "cell_type": "code",
   "execution_count": 14,
   "metadata": {},
   "outputs": [
    {
     "name": "stdout",
     "output_type": "stream",
     "text": [
      "1\n",
      "2\n",
      "3\n",
      "4\n",
      "5\n"
     ]
    }
   ],
   "source": [
    "N = int(input())\n",
    "nums = []\n",
    "\n",
    "for _ in range(N) : \n",
    "    nums.append(int(input()))\n",
    "\n",
    "# Insert Sort\n",
    "for i in range(1, len(nums)) :\n",
    "    while (i>0) & (nums[i] < nums[i-1]) :\n",
    "        nums[i], nums[i-1] = nums[i-1], nums[i]\n",
    "        i -= 1\n",
    "        \n",
    "for n in nums : \n",
    "    print(n)"
   ]
  }
 ],
 "metadata": {
  "kernelspec": {
   "display_name": "Python 3.10.5 64-bit",
   "language": "python",
   "name": "python3"
  },
  "language_info": {
   "codemirror_mode": {
    "name": "ipython",
    "version": 3
   },
   "file_extension": ".py",
   "mimetype": "text/x-python",
   "name": "python",
   "nbconvert_exporter": "python",
   "pygments_lexer": "ipython3",
   "version": "3.10.5"
  },
  "orig_nbformat": 4,
  "vscode": {
   "interpreter": {
    "hash": "3b73bbac0916b1ec0ba594196a0e2a690610daf3e27e0d2ff201ec69ed0faaed"
   }
  }
 },
 "nbformat": 4,
 "nbformat_minor": 2
}
