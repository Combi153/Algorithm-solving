{
 "cells": [
  {
   "cell_type": "markdown",
   "metadata": {},
   "source": [
    "# array 10818"
   ]
  },
  {
   "cell_type": "markdown",
   "metadata": {},
   "source": [
    "최소, 최대   \n",
    ": N개의 정수가 주어지면, 최솟값과 최댓값을 구하자.\n",
    "- min,max 함수를 사용하지 말아보자."
   ]
  },
  {
   "cell_type": "code",
   "execution_count": 2,
   "metadata": {},
   "outputs": [
    {
     "name": "stdout",
     "output_type": "stream",
     "text": [
      "7 35\n"
     ]
    }
   ],
   "source": [
    "n = int(input())\n",
    "numbers = list(map(int,input().split()))\n",
    "\n",
    "def get_min_max(array):\n",
    "    end = n\n",
    "    min_idx = 0\n",
    "    max_idx = 0\n",
    "    for i in range(1,end):\n",
    "        if array[min_idx] > array[i]:\n",
    "            min_idx = i\n",
    "        if array[max_idx] < array[i]:\n",
    "            max_idx = i\n",
    "    \n",
    "    print(array[min_idx],array[max_idx])\n",
    "\n",
    "get_min_max(numbers)"
   ]
  },
  {
   "cell_type": "markdown",
   "metadata": {},
   "source": [
    "- min, max 함수를 사용하면"
   ]
  },
  {
   "cell_type": "code",
   "execution_count": 3,
   "metadata": {},
   "outputs": [
    {
     "name": "stdout",
     "output_type": "stream",
     "text": [
      "8 40\n"
     ]
    }
   ],
   "source": [
    "n = int(input())\n",
    "numbers = list(map(int,input().split()))\n",
    "\n",
    "def get_min_max(array):\n",
    "    print(min(array),max(array))\n",
    "\n",
    "get_min_max(numbers)"
   ]
  },
  {
   "cell_type": "markdown",
   "metadata": {},
   "source": [
    "- 과거에 풀었던 코드"
   ]
  },
  {
   "cell_type": "code",
   "execution_count": 4,
   "metadata": {},
   "outputs": [
    {
     "name": "stdout",
     "output_type": "stream",
     "text": [
      "10 50\n"
     ]
    }
   ],
   "source": [
    "number=int(input())\n",
    "num_list=list(map(int,input().split()))\n",
    "num_list.sort(reverse=True)\n",
    "print(num_list[number-1],num_list[0])"
   ]
  }
 ],
 "metadata": {
  "kernelspec": {
   "display_name": "Python 3.10.5 64-bit",
   "language": "python",
   "name": "python3"
  },
  "language_info": {
   "codemirror_mode": {
    "name": "ipython",
    "version": 3
   },
   "file_extension": ".py",
   "mimetype": "text/x-python",
   "name": "python",
   "nbconvert_exporter": "python",
   "pygments_lexer": "ipython3",
   "version": "3.10.5"
  },
  "orig_nbformat": 4,
  "vscode": {
   "interpreter": {
    "hash": "3b73bbac0916b1ec0ba594196a0e2a690610daf3e27e0d2ff201ec69ed0faaed"
   }
  }
 },
 "nbformat": 4,
 "nbformat_minor": 2
}
