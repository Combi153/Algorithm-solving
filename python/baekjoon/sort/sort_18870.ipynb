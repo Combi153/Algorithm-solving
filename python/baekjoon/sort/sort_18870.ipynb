{
 "cells": [
  {
   "cell_type": "markdown",
   "metadata": {},
   "source": [
    "sort_18870\n",
    "# 좌표 압축\n",
    "시간 제한 2초, 메모리 제한 512MB\n",
    "- N개의 X좌표가 입력된다.\n",
    "- 좌표 압축은 중복되지 않는 자신보다 작은 X 좌표의 개수이다.\n",
    "- 각 X좌표 마다 좌표 압축 결과를 출력하라."
   ]
  },
  {
   "cell_type": "markdown",
   "metadata": {},
   "source": [
    "## 시간 초과"
   ]
  },
  {
   "cell_type": "markdown",
   "metadata": {},
   "source": [
    "첫 번째 방식\n",
    "- 반복문을 돌면서 자신보다 작은 값을 탐색하기"
   ]
  },
  {
   "cell_type": "code",
   "execution_count": 6,
   "metadata": {},
   "outputs": [
    {
     "name": "stdout",
     "output_type": "stream",
     "text": [
      "1 0 1 0 1 0\n"
     ]
    }
   ],
   "source": [
    "n = int(input())\n",
    "point = list(map(int, input().split(\" \")))\n",
    "pointSet = set(point)\n",
    "compressedPoint = []\n",
    "\n",
    "\n",
    "for i in range(0, n):\n",
    "    cnt = 0\n",
    "    for value in pointSet:\n",
    "        if value < point[i]:\n",
    "            cnt += 1\n",
    "    compressedPoint.append(cnt)\n",
    "\n",
    "print(*compressedPoint, sep=' ')"
   ]
  },
  {
   "cell_type": "code",
   "execution_count": null,
   "metadata": {},
   "outputs": [],
   "source": [
    "import sys\n",
    "n = int(sys.stdin.readline())\n",
    "point = list(map(int, sys.stdin.readline().split(\" \")))\n",
    "pointSet = set(point)\n",
    "compressedPoint = []\n",
    "\n",
    "\n",
    "for i in range(0, n):\n",
    "    cnt = 0\n",
    "    for value in pointSet:\n",
    "        if value < point[i]:\n",
    "            cnt += 1\n",
    "    compressedPoint.append(cnt)\n",
    "\n",
    "print(*compressedPoint, sep=' ')"
   ]
  },
  {
   "cell_type": "markdown",
   "metadata": {},
   "source": [
    "두 번째 방식\n",
    "- 정렬 함수를 통해 중복되지 않는 수의 배열을 정렬한 후\n",
    "- 각 값의 인덱스를 출력하기\n",
    "- 이때 인덱스는 각 값보다 앞의 있는 숫자의 개수와 같다."
   ]
  },
  {
   "cell_type": "code",
   "execution_count": 10,
   "metadata": {},
   "outputs": [
    {
     "name": "stdout",
     "output_type": "stream",
     "text": [
      "23031"
     ]
    }
   ],
   "source": [
    "n = int(input())\n",
    "point = list(map(int, input().split(\" \")))\n",
    "pointSet = sorted(list(set(point)))\n",
    "\n",
    "for i in point:\n",
    "    idx = pointSet.index(i)\n",
    "    print(idx, end = ' ')"
   ]
  },
  {
   "cell_type": "code",
   "execution_count": null,
   "metadata": {},
   "outputs": [],
   "source": [
    "import sys\n",
    "n = int(sys.stdin.readline())\n",
    "point = list(map(int, sys.stdin.readline().split(\" \")))\n",
    "pointSet = list(set(point))\n",
    "pointSet.sort()\n",
    "\n",
    "for i in point:\n",
    "    idx = pointSet.index(i)\n",
    "    print(idx, end = ' ')"
   ]
  },
  {
   "cell_type": "markdown",
   "metadata": {},
   "source": [
    "## 시간 제한 통과 코드"
   ]
  },
  {
   "cell_type": "markdown",
   "metadata": {},
   "source": [
    "세 번째 방식\n",
    "- 정렬 함수를 통해 중복되지 않는 수의 배열을 정렬한다.\n",
    "- 각 숫자를 key로, index를 value로 dictionary를 만든다.\n",
    "- 이때 index는 자신보다 작은 수의 개수와 같다.\n",
    "- 각 수의 key를 입력해 value를 출력한다."
   ]
  },
  {
   "cell_type": "code",
   "execution_count": 14,
   "metadata": {},
   "outputs": [
    {
     "name": "stdout",
     "output_type": "stream",
     "text": [
      "1 0 1 0 1 0 "
     ]
    }
   ],
   "source": [
    "n = int(input())\n",
    "pointDict = dict()\n",
    "point = list(map(int, input().split(\" \")))\n",
    "pointSortedSet = sorted(list(set(point)))\n",
    "\n",
    "for i in range(len(pointSortedSet)) :\n",
    "    pointDict[pointSortedSet[i]] = i\n",
    "\n",
    "for value in point:\n",
    "    print(pointDict[value], end=' ')\n",
    "    "
   ]
  },
  {
   "cell_type": "code",
   "execution_count": null,
   "metadata": {},
   "outputs": [],
   "source": [
    "import sys\n",
    "n = int(sys.stdin.readline())\n",
    "pointDict = dict()\n",
    "point = list(map(int, sys.stdin.readline().split(\" \")))\n",
    "pointSortedSet = sorted(list(set(point)))\n",
    "\n",
    "for i in range(len(pointSortedSet)) :\n",
    "    pointDict[pointSortedSet[i]] = i\n",
    "\n",
    "for value in point:\n",
    "    print(pointDict[value], end=' ')"
   ]
  }
 ],
 "metadata": {
  "kernelspec": {
   "display_name": "Python 3.10.5 64-bit",
   "language": "python",
   "name": "python3"
  },
  "language_info": {
   "codemirror_mode": {
    "name": "ipython",
    "version": 3
   },
   "file_extension": ".py",
   "mimetype": "text/x-python",
   "name": "python",
   "nbconvert_exporter": "python",
   "pygments_lexer": "ipython3",
   "version": "3.10.5"
  },
  "orig_nbformat": 4,
  "vscode": {
   "interpreter": {
    "hash": "3b73bbac0916b1ec0ba594196a0e2a690610daf3e27e0d2ff201ec69ed0faaed"
   }
  }
 },
 "nbformat": 4,
 "nbformat_minor": 2
}
