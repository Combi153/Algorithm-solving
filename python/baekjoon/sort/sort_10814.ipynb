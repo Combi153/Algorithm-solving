{
 "cells": [
  {
   "cell_type": "markdown",
   "metadata": {},
   "source": [
    "sort_10814\n",
    "# 나이순 정렬\n",
    "시간 제한 3초, 메모리 제한 256MB\n",
    "- 회원 수 n만큼, 나이와 이름이 입력된다.\n",
    "- 입력되는 순서는 회원 가입순이다.\n",
    "- 다음과 같은 조건으로 출력하라.\n",
    "    1. 나이 오름차순\n",
    "    2. 가입 순"
   ]
  },
  {
   "cell_type": "markdown",
   "metadata": {},
   "source": [
    "- sort 내장 함수는 merge 정렬과 insert 정렬에서 파생된 하이브리드 정렬 알고리즘이다.\n",
    "- stable하다"
   ]
  },
  {
   "cell_type": "code",
   "execution_count": 8,
   "metadata": {},
   "outputs": [
    {
     "name": "stdout",
     "output_type": "stream",
     "text": [
      "20 sun\n",
      "21 Junkyu\n",
      "21 do\n"
     ]
    }
   ],
   "source": [
    "n = int(input())\n",
    "people = []\n",
    "\n",
    "for i in range(0, n):\n",
    "    age, name = map(str, input().split(\" \"))\n",
    "    people.append([int(age), name])\n",
    "\n",
    "people.sort(key = lambda x : x[0])\n",
    "\n",
    "for i in range(0, n):\n",
    "    print(people[i][0], people[i][1])"
   ]
  },
  {
   "cell_type": "markdown",
   "metadata": {},
   "source": [
    "- stable하지 않다면 이런 식으로 하면 될 듯!"
   ]
  },
  {
   "cell_type": "code",
   "execution_count": 7,
   "metadata": {},
   "outputs": [
    {
     "name": "stdout",
     "output_type": "stream",
     "text": [
      "20 Sunyoung\n",
      "21 Junkyu\n",
      "21 Dohyun\n"
     ]
    }
   ],
   "source": [
    "n = int(input())\n",
    "people = []\n",
    "\n",
    "for i in range(0, n):\n",
    "    age, name = map(str, input().split(\" \"))\n",
    "    people.append([i, int(age), name])\n",
    "\n",
    "people.sort(key = lambda x : (x[1], x[0]))\n",
    "\n",
    "for i in range(0, n):\n",
    "    print(people[i][1], people[i][2])"
   ]
  }
 ],
 "metadata": {
  "kernelspec": {
   "display_name": "Python 3.10.5 64-bit",
   "language": "python",
   "name": "python3"
  },
  "language_info": {
   "codemirror_mode": {
    "name": "ipython",
    "version": 3
   },
   "file_extension": ".py",
   "mimetype": "text/x-python",
   "name": "python",
   "nbconvert_exporter": "python",
   "pygments_lexer": "ipython3",
   "version": "3.10.5"
  },
  "orig_nbformat": 4,
  "vscode": {
   "interpreter": {
    "hash": "3b73bbac0916b1ec0ba594196a0e2a690610daf3e27e0d2ff201ec69ed0faaed"
   }
  }
 },
 "nbformat": 4,
 "nbformat_minor": 2
}
