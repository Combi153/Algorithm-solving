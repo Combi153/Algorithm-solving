{
 "cells": [
  {
   "cell_type": "markdown",
   "metadata": {},
   "source": [
    "sort_11650\n",
    "# 좌표 정렬하기\n",
    "시간 제한 1초, 메모리 제한 256MB\n",
    "- 첫째 줄에 점의 개수가 주어진다.\n",
    "- 점은 x, y 좌표값을 갖는다.\n",
    "- x 좌표 오름차순, x 좌표 값이 같다면, y 좌표 오름차순으로 각 점을 출력하라.\n",
    "- 내장함수를 이용하자."
   ]
  },
  {
   "cell_type": "code",
   "execution_count": 12,
   "metadata": {},
   "outputs": [
    {
     "name": "stdout",
     "output_type": "stream",
     "text": [
      "11\n",
      "13\n",
      "25\n",
      "34\n",
      "52\n"
     ]
    }
   ],
   "source": [
    "n = int(input())\n",
    "point = []\n",
    "for i in range(0, n) :\n",
    "    x, y = map(int, input().split())\n",
    "    point.append([x, y])\n",
    "\n",
    "point.sort(key = lambda x : (x[0], x[1]))\n",
    "for i in range(len(point)):\n",
    "    print(*point[i], sep = \" \")"
   ]
  },
  {
   "cell_type": "markdown",
   "metadata": {},
   "source": [
    "sort_11651\n",
    "# 좌표 정렬하기2\n",
    "시간 제한 1초, 메모리 제한 256MB\n",
    "- 첫째 줄에 점의 개수가 주어진다.\n",
    "- 점은 x, y 좌표값을 갖는다.\n",
    "- y 좌표 오름차순, y 좌표 값이 같다면, x 좌표 오름차순으로 각 점을 출력하라.\n",
    "- 내장함수를 이용하자."
   ]
  },
  {
   "cell_type": "code",
   "execution_count": null,
   "metadata": {},
   "outputs": [],
   "source": [
    "import sys\n",
    "\n",
    "n = int(sys.stdin.readline())\n",
    "point = []\n",
    "for i in range(0, n):\n",
    "    x, y = map(int, sys.stdin.readline().split())\n",
    "    point.append([x, y])\n",
    "\n",
    "point.sort(key = lambda x : (x[1], x[0]))\n",
    "for i in range(len(point)):\n",
    "    print(*point[i], sep = \" \")"
   ]
  }
 ],
 "metadata": {
  "kernelspec": {
   "display_name": "Python 3.10.5 64-bit",
   "language": "python",
   "name": "python3"
  },
  "language_info": {
   "codemirror_mode": {
    "name": "ipython",
    "version": 3
   },
   "file_extension": ".py",
   "mimetype": "text/x-python",
   "name": "python",
   "nbconvert_exporter": "python",
   "pygments_lexer": "ipython3",
   "version": "3.10.5"
  },
  "orig_nbformat": 4,
  "vscode": {
   "interpreter": {
    "hash": "3b73bbac0916b1ec0ba594196a0e2a690610daf3e27e0d2ff201ec69ed0faaed"
   }
  }
 },
 "nbformat": 4,
 "nbformat_minor": 2
}
