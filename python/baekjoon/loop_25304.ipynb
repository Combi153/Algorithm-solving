{
 "cells": [
  {
   "cell_type": "markdown",
   "metadata": {},
   "source": [
    "loop 25304"
   ]
  },
  {
   "cell_type": "code",
   "execution_count": 2,
   "metadata": {},
   "outputs": [
    {
     "name": "stdout",
     "output_type": "stream",
     "text": [
      "No\n"
     ]
    }
   ],
   "source": [
    "totalPrice = int(input())\n",
    "products = int(input())\n",
    "receiptPrice = 0\n",
    "\n",
    "for i in range(products):\n",
    "    product, cnt = map(int,input().split())\n",
    "    receiptPrice += (product*cnt)\n",
    "\n",
    "if totalPrice == receiptPrice:\n",
    "    print('Yes')\n",
    "else:\n",
    "    print('No')\n"
   ]
  }
 ],
 "metadata": {
  "kernelspec": {
   "display_name": "Python 3.10.5 64-bit",
   "language": "python",
   "name": "python3"
  },
  "language_info": {
   "codemirror_mode": {
    "name": "ipython",
    "version": 3
   },
   "file_extension": ".py",
   "mimetype": "text/x-python",
   "name": "python",
   "nbconvert_exporter": "python",
   "pygments_lexer": "ipython3",
   "version": "3.10.5"
  },
  "orig_nbformat": 4,
  "vscode": {
   "interpreter": {
    "hash": "3b73bbac0916b1ec0ba594196a0e2a690610daf3e27e0d2ff201ec69ed0faaed"
   }
  }
 },
 "nbformat": 4,
 "nbformat_minor": 2
}
