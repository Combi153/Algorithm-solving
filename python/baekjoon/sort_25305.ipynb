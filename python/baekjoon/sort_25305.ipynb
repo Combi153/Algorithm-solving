{
 "cells": [
  {
   "cell_type": "markdown",
   "metadata": {},
   "source": [
    "sort_25305"
   ]
  },
  {
   "cell_type": "markdown",
   "metadata": {},
   "source": [
    "# 커트라인\n",
    "시간 제한 1초, 메모리 제한 1024MB\n",
    "- 응시자의 수 n, 상 받는 사람의 수 k가 주어진다.\n",
    "- 각 학생의 점수 x 중 상을 받는 커트라인을 출력하라.\n",
    "- 병합정렬을 써보자."
   ]
  },
  {
   "cell_type": "markdown",
   "metadata": {},
   "source": [
    "## 병합정렬"
   ]
  },
  {
   "cell_type": "markdown",
   "metadata": {},
   "source": [
    "### input 활용"
   ]
  },
  {
   "cell_type": "code",
   "execution_count": 18,
   "metadata": {},
   "outputs": [
    {
     "name": "stdout",
     "output_type": "stream",
     "text": [
      "[100, 98, 93, 85, 76]\n",
      "98\n"
     ]
    }
   ],
   "source": [
    "# 병합 정렬\n",
    "def merge_sort(a):\n",
    "    n = len(a)\n",
    "\n",
    "    if n <= 1:\n",
    "        return a\n",
    "\n",
    "    mid = n // 2\n",
    "    group1 = a[:mid]\n",
    "    group2 = a[mid:]\n",
    "    merge_sort(group1)\n",
    "    merge_sort(group2)\n",
    "\n",
    "    i1, i2, ia = 0, 0, 0\n",
    "\n",
    "    while (i1 < len(group1) and i2 < len(group2)):\n",
    "        if (group1[i1] > group2[i2]):\n",
    "            a[ia] = group1[i1]\n",
    "            i1 += 1\n",
    "            ia += 1\n",
    "\n",
    "        else:\n",
    "            a[ia] = group2[i2]\n",
    "            i2 += 1\n",
    "            ia += 1\n",
    "    \n",
    "    while i1 < len(group1):\n",
    "        a[ia] = group1[i1]\n",
    "        i1 += 1\n",
    "        ia += 1\n",
    "\n",
    "    while i2 < len(group2):\n",
    "        a[ia] = group2[i2]\n",
    "        i2 += 1\n",
    "        ia += 1\n",
    "\n",
    "examinee, winner = map(int, input().split())\n",
    "scores = list(map(int, input().split()))\n",
    "\n",
    "merge_sort(scores)\n",
    "print(scores[winner - 1])"
   ]
  },
  {
   "cell_type": "markdown",
   "metadata": {},
   "source": [
    "### sys 활용"
   ]
  },
  {
   "cell_type": "code",
   "execution_count": null,
   "metadata": {},
   "outputs": [],
   "source": [
    "import sys\n",
    "\n",
    "examinee, winner = map(int, sys.stdin.readline().split())\n",
    "scores = list(map(int, sys.stdin.readline().split()))\n",
    "\n",
    "# 병합 정렬\n",
    "def merge_sort(a):\n",
    "    n = len(a)\n",
    "\n",
    "    if n <= 1:\n",
    "        return a\n",
    "\n",
    "    mid = n // 2\n",
    "    group1 = a[:mid]\n",
    "    group2 = a[mid:]\n",
    "    merge_sort(group1)\n",
    "    merge_sort(group2)\n",
    "\n",
    "    i1, i2, ia = 0, 0, 0\n",
    "\n",
    "    while (i1 < len(group1) and i2 < len(group2)):\n",
    "        if (group1[i1] > group2[i2]):\n",
    "            a[ia] = group1[i1]\n",
    "            i1 += 1\n",
    "            ia += 1\n",
    "\n",
    "        else:\n",
    "            a[ia] = group2[i2]\n",
    "            i2 += 1\n",
    "            ia += 1\n",
    "    \n",
    "    while i1 < len(group1):\n",
    "        a[ia] = group1[i1]\n",
    "        i1 += 1\n",
    "        ia += 1\n",
    "\n",
    "    while i2 < len(group2):\n",
    "        a[ia] = group2[i2]\n",
    "        i2 += 1\n",
    "        ia += 1\n",
    "\n",
    "merge_sort(scores)\n",
    "print(scores[winner - 1])"
   ]
  },
  {
   "cell_type": "markdown",
   "metadata": {},
   "source": [
    "## 기존 함수 사용"
   ]
  },
  {
   "cell_type": "code",
   "execution_count": null,
   "metadata": {},
   "outputs": [],
   "source": [
    "import sys\n",
    "\n",
    "examinee, winner = map(int, sys.stdin.readline().split())\n",
    "scores = list(map(int, sys.stdin.readline().split()))\n",
    "\n",
    "scores.sort(reverse = True)\n",
    "print(scores[winner - 1])"
   ]
  },
  {
   "cell_type": "markdown",
   "metadata": {},
   "source": [
    "## 다른 사람 코드"
   ]
  },
  {
   "cell_type": "markdown",
   "metadata": {},
   "source": [
    "이런 식의 숏코딩도 가능하겠다.\n",
    "- 오름차순, 내림차순 모두 활용"
   ]
  },
  {
   "cell_type": "code",
   "execution_count": null,
   "metadata": {},
   "outputs": [],
   "source": [
    "n,k = map(int,input().split())\n",
    "print(sorted(map(int,input().split()), reverse=True)[k-1])"
   ]
  },
  {
   "cell_type": "code",
   "execution_count": null,
   "metadata": {},
   "outputs": [],
   "source": [
    "n,k = map(int,input().split())\n",
    "print(sorted(map(int,input().split()))[n-k])"
   ]
  },
  {
   "cell_type": "markdown",
   "metadata": {},
   "source": [
    "sys.stdin.readline을 활용하는 다른 방법\n",
    "- input으로 받기"
   ]
  },
  {
   "cell_type": "code",
   "execution_count": null,
   "metadata": {},
   "outputs": [],
   "source": [
    "import sys\n",
    "\n",
    "input = sys.stdin.readline\n",
    "\n",
    "# 상을 받는 커트라인이 몇 점인지 구하는 함수\n",
    "def solve(x: list, num: int) -> int:\n",
    "    return sorted(x, reverse=True)[num-1]  # 점수 높은대로 내림차순 정렬한 뒤, 상을 받는 사람 수 -1 번째 반환\n",
    "\n",
    "if __name__ == '__main__':\n",
    "    n, k = map(int, input().split())     # n: 응시자 수, k: 상을 받는 사람의 수\n",
    "    x = list(map(int, input().split()))  # x: 각 학생의 점수\n",
    "\n",
    "    print(solve(x, k))"
   ]
  }
 ],
 "metadata": {
  "kernelspec": {
   "display_name": "Python 3.10.5 64-bit",
   "language": "python",
   "name": "python3"
  },
  "language_info": {
   "codemirror_mode": {
    "name": "ipython",
    "version": 3
   },
   "file_extension": ".py",
   "mimetype": "text/x-python",
   "name": "python",
   "nbconvert_exporter": "python",
   "pygments_lexer": "ipython3",
   "version": "3.10.5"
  },
  "orig_nbformat": 4,
  "vscode": {
   "interpreter": {
    "hash": "3b73bbac0916b1ec0ba594196a0e2a690610daf3e27e0d2ff201ec69ed0faaed"
   }
  }
 },
 "nbformat": 4,
 "nbformat_minor": 2
}
