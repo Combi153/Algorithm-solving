{
 "cells": [
  {
   "cell_type": "markdown",
   "metadata": {},
   "source": [
    "math"
   ]
  },
  {
   "cell_type": "markdown",
   "metadata": {},
   "source": [
    "2839"
   ]
  },
  {
   "cell_type": "markdown",
   "metadata": {},
   "source": [
    "first try"
   ]
  },
  {
   "cell_type": "code",
   "execution_count": 2,
   "metadata": {},
   "outputs": [
    {
     "name": "stdout",
     "output_type": "stream",
     "text": [
      "201\n"
     ]
    }
   ],
   "source": [
    "class Delivery:\n",
    "    def __init__(self,n):\n",
    "        self.weight=n\n",
    "        self.bag_5=[]\n",
    "        self.bag_3=[]\n",
    "\n",
    "    def bagcount(self):\n",
    "        i=0\n",
    "        weight=self.weight\n",
    "        repeat=weight//5\n",
    "        \n",
    "        for i in range(repeat+1): #이 녀석 어케 동작하니\n",
    "            if weight%5 == 0:\n",
    "                self.bag_5.append(weight//5)\n",
    "                self.bag_3.append(0)\n",
    "                weight-=5\n",
    "\n",
    "            elif (weight%5)%3 ==0:\n",
    "                self.bag_5.append(weight//5)\n",
    "                self.bag_3.append((weight%5)//3)\n",
    "                weight-=5\n",
    "\n",
    "            elif weight%3 ==0:\n",
    "                self.bag_5.append(i)\n",
    "                self.bag_3.append(weight//3)\n",
    "                weight-=5\n",
    "\n",
    "            else:\n",
    "                weight-=5\n",
    "                if weight < 3:\n",
    "                    self.bag_5.append(-1)\n",
    "                    self.bag_3.append(-1)\n",
    "                    break\n",
    "                i+=1\n",
    "\n",
    "        key_index=self.bag_5.index(max(self.bag_5))\n",
    "        if self.bag_5[key_index] == -1:\n",
    "            print(-1)\n",
    "        else:\n",
    "            print(self.bag_5[key_index]+self.bag_3[key_index])\n",
    "\n",
    "if __name__=='__main__':\n",
    "  sugar=int(input())\n",
    "  sangguen=Delivery(sugar)\n",
    "  sangguen.bagcount()"
   ]
  },
  {
   "cell_type": "markdown",
   "metadata": {},
   "source": [
    "while문으로 풀기"
   ]
  },
  {
   "cell_type": "code",
   "execution_count": 5,
   "metadata": {},
   "outputs": [
    {
     "name": "stdout",
     "output_type": "stream",
     "text": [
      "201\n"
     ]
    }
   ],
   "source": [
    "class Delivery:\n",
    "    def __init__(self,n):\n",
    "        self.weight=n\n",
    "        self.bag_5=[]\n",
    "        self.bag_3=[]\n",
    "\n",
    "    def bagcount(self):\n",
    "        i=0\n",
    "        weight=self.weight\n",
    "        \n",
    "        while True:\n",
    "            if weight < 3:\n",
    "                self.bag_5.append(-1)\n",
    "                self.bag_3.append(-1)\n",
    "                break\n",
    "\n",
    "            elif weight >= 3:\n",
    "                \n",
    "                if weight%5 == 0:\n",
    "                    self.bag_5.append(weight//5)\n",
    "                    self.bag_3.append(0)\n",
    "\n",
    "                elif (weight%5)%3 ==0:\n",
    "                    self.bag_5.append(weight//5)\n",
    "                    self.bag_3.append((weight%5)//3)\n",
    "\n",
    "                elif weight%3 ==0:\n",
    "                    self.bag_5.append(i)\n",
    "                    self.bag_3.append(weight//3)\n",
    "\n",
    "                i+=1\n",
    "                weight=weight-5\n",
    "                \n",
    "\n",
    "        key_index=self.bag_5.index(max(self.bag_5))\n",
    "        if self.bag_5[key_index] == -1:\n",
    "            print(-1)\n",
    "        else:\n",
    "            print(self.bag_5[key_index]+self.bag_3[key_index])\n",
    "\n",
    "if __name__=='__main__':\n",
    "  sugar=int(input())\n",
    "  sangguen=Delivery(sugar)\n",
    "  sangguen.bagcount()"
   ]
  },
  {
   "cell_type": "markdown",
   "metadata": {},
   "source": [
    "다른 사람 풀이 보고 공부"
   ]
  },
  {
   "cell_type": "markdown",
   "metadata": {},
   "source": [
    "내가 밟은 단계\n",
    "\n",
    "1. weight 5로 나누어 떨어지기\n",
    "2. weight 5로 나누고 남은 나머지가 3으로 나누어 떨어지기\n",
    "3. weight 3으로 나누어 떨어지기\n",
    "4. 위 세 가지에 해당하지 않으면 weight에 5를 빼서 다시 하기\n",
    "5. weight 3 미만이 되면 -1\n",
    "6. 이 모든 값을 리스트로 저장해서 그중 가장 큰 5의 몫을 구하고 해당 인덱스의 3의 몫을 더해 출력하기\n",
    "\n",
    "- weight의 값을 줄여나가는 단계를 어떻게 밟을 것인지에 대한 고민\n",
    "- 지저분한 과정을 축약할 수 있는 방법 고민\n",
    "\n",
    "축약 단계\n",
    "\n",
    "1. weight 5로 나누어 떨어지기\n",
    "2. 나누어 떨어지지 않는다면 weight에 3을 빼기\n",
    "3. weight 3미만이 되면 -1 출력\n",
    "\n",
    "- 무엇이 더 클린코딩일까?"
   ]
  },
  {
   "cell_type": "code",
   "execution_count": 6,
   "metadata": {},
   "outputs": [
    {
     "name": "stdout",
     "output_type": "stream",
     "text": [
      "201\n"
     ]
    }
   ],
   "source": [
    "class Delivery:\n",
    "    def __init__(self,n):\n",
    "        self.weight=n\n",
    "        self.bag_5=0\n",
    "        self.bag_3=0\n",
    "\n",
    "    def bagcount(self):\n",
    "        i=0\n",
    "        while True:\n",
    "            if self.weight >= 0: #3이 들어왔을 때 반복문이 한 번 돌고 5로 나누었을 때 나머지가 0이어서 출력되어야 함.\n",
    "              if self.weight%5 == 0:\n",
    "                self.bag_5=self.weight//5\n",
    "                self.bag_3=i\n",
    "                print(self.bag_5+self.bag_3)\n",
    "                break\n",
    "\n",
    "            else:\n",
    "              print(-1)\n",
    "\n",
    "            i+=1\n",
    "            self.weight-=3\n",
    "\n",
    "if __name__=='__main__':\n",
    "  sugar=int(input())\n",
    "  sangguen=Delivery(sugar)\n",
    "  sangguen.bagcount()"
   ]
  },
  {
   "cell_type": "code",
   "execution_count": 7,
   "metadata": {},
   "outputs": [
    {
     "name": "stdout",
     "output_type": "stream",
     "text": [
      "201\n"
     ]
    }
   ],
   "source": [
    "class Delivery:\n",
    "    def __init__(self,n):\n",
    "        self.weight=n\n",
    "        self.bag_5=0\n",
    "        self.bag_3=0\n",
    "\n",
    "    def bagcount(self):\n",
    "        while self.weight >= 0: #while에 조건 사용하기\n",
    "\n",
    "            if self.weight%5 == 0:\n",
    "              self.bag_5=self.weight//5\n",
    "              print(self.bag_5+self.bag_3)\n",
    "              break\n",
    "\n",
    "            self.bag_3+=1\n",
    "            self.weight-=3\n",
    "\n",
    "        else: #while과 else의 조합\n",
    "          print(-1)\n",
    "\n",
    "if __name__=='__main__':\n",
    "  sugar=int(input())\n",
    "  sangguen=Delivery(sugar)\n",
    "  sangguen.bagcount()"
   ]
  }
 ],
 "metadata": {
  "kernelspec": {
   "display_name": "Python 3.10.5 64-bit",
   "language": "python",
   "name": "python3"
  },
  "language_info": {
   "codemirror_mode": {
    "name": "ipython",
    "version": 3
   },
   "file_extension": ".py",
   "mimetype": "text/x-python",
   "name": "python",
   "nbconvert_exporter": "python",
   "pygments_lexer": "ipython3",
   "version": "3.10.5"
  },
  "orig_nbformat": 4,
  "vscode": {
   "interpreter": {
    "hash": "3b73bbac0916b1ec0ba594196a0e2a690610daf3e27e0d2ff201ec69ed0faaed"
   }
  }
 },
 "nbformat": 4,
 "nbformat_minor": 2
}
