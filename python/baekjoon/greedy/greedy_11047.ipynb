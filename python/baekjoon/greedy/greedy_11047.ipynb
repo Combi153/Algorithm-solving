{
 "cells": [
  {
   "cell_type": "markdown",
   "metadata": {},
   "source": [
    "greedy_11047\n",
    "# 동전 0\n",
    "시간 제한 1초, 메모리 제한 256MB\n",
    "- N 종류의 동전으로 K 값을 만들 것이다.\n",
    "- 동전 개수의 최솟값을 구해 출력하라."
   ]
  },
  {
   "cell_type": "markdown",
   "metadata": {},
   "source": [
    "## 시간 초과 코드\n",
    "첫 번째 경우\n",
    "- 모든 동전에 대하여 탐색했다.\n",
    "- 각 동전을 k 값에서 빼면서 count 했다.\n",
    "- k가 0이 되는 경우에도 break하지 않았다."
   ]
  },
  {
   "cell_type": "code",
   "execution_count": 8,
   "metadata": {},
   "outputs": [
    {
     "name": "stdout",
     "output_type": "stream",
     "text": [
      "6\n"
     ]
    }
   ],
   "source": [
    "n, k = map(int, input().split(\" \"))\n",
    "coin =[]\n",
    "cnt = 0\n",
    "\n",
    "for i in range(0, n):\n",
    "    coin.append(int(input()))\n",
    "    \n",
    "n -= 1\n",
    "while (n > -1 and k != 0):\n",
    "    if (k - coin[n] >= 0):\n",
    "        k -= coin[n]\n",
    "        cnt += 1\n",
    "    else:\n",
    "        n -= 1\n",
    "        \n",
    "\n",
    "print(cnt)"
   ]
  },
  {
   "cell_type": "markdown",
   "metadata": {},
   "source": [
    "두 번째 경우\n",
    "- 모든 동전에 대하여 탐색했다.\n",
    "- 각 동전을 k 값에서 빼면서 count 했다.\n",
    "- k가 0이 되는 경우 break 문을 설정했다."
   ]
  },
  {
   "cell_type": "code",
   "execution_count": 10,
   "metadata": {},
   "outputs": [
    {
     "name": "stdout",
     "output_type": "stream",
     "text": [
      "12\n"
     ]
    }
   ],
   "source": [
    "n, k = map(int, input().split(\" \"))\n",
    "coin =[]\n",
    "cnt = 0\n",
    "\n",
    "for i in range(0, n):\n",
    "    coin.append(int(input()))\n",
    "\n",
    "n -= 1\n",
    "while (n > -1):\n",
    "    if (k > coin[n]):\n",
    "        k -= coin[n]\n",
    "        cnt += 1\n",
    "    elif (k == coin[n]):\n",
    "        cnt += 1\n",
    "        break\n",
    "    else:\n",
    "        n -= 1\n",
    "        \n",
    "print(cnt)"
   ]
  },
  {
   "cell_type": "markdown",
   "metadata": {},
   "source": [
    "## 정답 코드\n",
    "- 비교할 동전의 개수를 줄였다.\n",
    "    - k 값을 나누었을 때 몫이 0 이상인 동전으로만 탐색했다.\n",
    "- 동전의 개수를 count할 때, k에서 동전의 값을 빼는 것이 아니라 나누었다.\n",
    "- k 값이 0이 되면 반복문을 빠져나갈 수 있게 설정했다.\n",
    "- 반복문의 반복횟수가 현저히 줄어들었고, 시간 제한을 통과할 수 있었다."
   ]
  },
  {
   "cell_type": "code",
   "execution_count": null,
   "metadata": {},
   "outputs": [],
   "source": [
    "n, k = map(int, input().split(\" \"))\n",
    "coins = []\n",
    "\n",
    "for i in range(0, n):\n",
    "    coin = int(input())\n",
    "    if (k//coin > 0):\n",
    "        coins.append(coin)\n",
    "\n",
    "cnt = 0\n",
    "i = len(coins) - 1\n",
    "while (k > 0):\n",
    "\n",
    "    if (k >= coins[i]):\n",
    "        cnt += (k // coins[i])\n",
    "        k = k % coins[i]\n",
    "\n",
    "    i -= 1\n",
    "\n",
    "print(cnt)\n"
   ]
  }
 ],
 "metadata": {
  "kernelspec": {
   "display_name": "Python 3.10.5 64-bit",
   "language": "python",
   "name": "python3"
  },
  "language_info": {
   "codemirror_mode": {
    "name": "ipython",
    "version": 3
   },
   "file_extension": ".py",
   "mimetype": "text/x-python",
   "name": "python",
   "nbconvert_exporter": "python",
   "pygments_lexer": "ipython3",
   "version": "3.10.5"
  },
  "orig_nbformat": 4,
  "vscode": {
   "interpreter": {
    "hash": "3b73bbac0916b1ec0ba594196a0e2a690610daf3e27e0d2ff201ec69ed0faaed"
   }
  }
 },
 "nbformat": 4,
 "nbformat_minor": 2
}
