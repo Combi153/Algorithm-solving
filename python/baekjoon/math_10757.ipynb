{
 "cells": [
  {
   "cell_type": "markdown",
   "metadata": {},
   "source": [
    "math 10757"
   ]
  },
  {
   "cell_type": "markdown",
   "metadata": {},
   "source": [
    " python basic"
   ]
  },
  {
   "cell_type": "code",
   "execution_count": null,
   "metadata": {},
   "outputs": [],
   "source": [
    "a,b=map(int,input().split())\n",
    "print(a+b)"
   ]
  },
  {
   "cell_type": "markdown",
   "metadata": {},
   "source": [
    "1. 두 수 입력 받기\n",
    "2. 하나의 수를 한 자리 씩 쪼개 리스트로 만들기\n",
    "3. 각각 인덱스 별로 더하기\n",
    "  - 해당 인덱스가 다른 수에 없는 경우\n",
    "  - 0을 만들어서 더하기 혹은 그냥 하나의 수만 나오도록 하기\n",
    "4. 더한 인덱스를 문자열로 합치기\n",
    "  - 더한 수의 합이 한 자리이면 그냥 합치기\n",
    "  - 더한 수의 합이 두 자리이면 10의 자리 수를 따로 빼서 이전 인덱스에 더해주기"
   ]
  },
  {
   "cell_type": "code",
   "execution_count": 1,
   "metadata": {},
   "outputs": [
    {
     "ename": "SyntaxError",
     "evalue": "invalid syntax (1103006761.py, line 15)",
     "output_type": "error",
     "traceback": [
      "\u001b[1;36m  Input \u001b[1;32mIn [1]\u001b[1;36m\u001b[0m\n\u001b[1;33m    min_list=\u001b[0m\n\u001b[1;37m             ^\u001b[0m\n\u001b[1;31mSyntaxError\u001b[0m\u001b[1;31m:\u001b[0m invalid syntax\n"
     ]
    }
   ],
   "source": [
    "class Bignumber:\n",
    "  def __init__(self,a,b):\n",
    "    self.first_num=self.each_one(a)\n",
    "    self.second_num=self.each_one(b)\n",
    "\n",
    "  def each_one(self,number):\n",
    "    num_list=list(map(int,str(number)))\n",
    "    return num_list\n",
    "\n",
    "  def add(self):\n",
    "    #미리 0 넣어주자\n",
    "    if len(self.first_num) != len(self.second_num):\n",
    "      compare_list=[self.first_num,self.second_num]\n",
    "      max_len,min_len=max(len(self.first_num),len(self.second_num)),min(len(self.first_num),len(self.second_num))\n",
    "      min_list=\n",
    "\n",
    "\n",
    "\n",
    "      for i in range(max_len-len(min_list)):\n",
    "        \n",
    "\n",
    "    total_sum='end'\n",
    "    max_list=max(len(self.first_num),len(self.second_num))\n",
    "\n",
    "    for i in range(max_list):\n",
    "      if \n",
    "      each_sum=self.first_num[i]+self.second_num[i]\n",
    "      \n",
    "\n",
    "\n",
    "      if each_sum >= 10:\n",
    "        next_sum=int(str(each_sum)[0])\n",
    "\n",
    "      else:\n",
    "        total_sum=str(each_sum)+total_sum\n",
    "\n",
    "\n",
    "if __name__ == '__main__':\n",
    "  number_a,number_b=map(int,input().split())\n",
    "  big_calculator=Bignumber(number_a,number_b)\n",
    "  print(big_calculator.name)\n",
    "  \n",
    "  "
   ]
  }
 ],
 "metadata": {
  "kernelspec": {
   "display_name": "Python 3.10.5 64-bit",
   "language": "python",
   "name": "python3"
  },
  "language_info": {
   "codemirror_mode": {
    "name": "ipython",
    "version": 3
   },
   "file_extension": ".py",
   "mimetype": "text/x-python",
   "name": "python",
   "nbconvert_exporter": "python",
   "pygments_lexer": "ipython3",
   "version": "3.10.5"
  },
  "orig_nbformat": 4,
  "vscode": {
   "interpreter": {
    "hash": "3b73bbac0916b1ec0ba594196a0e2a690610daf3e27e0d2ff201ec69ed0faaed"
   }
  }
 },
 "nbformat": 4,
 "nbformat_minor": 2
}
