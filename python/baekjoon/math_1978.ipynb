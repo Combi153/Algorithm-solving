{
 "cells": [
  {
   "cell_type": "markdown",
   "metadata": {},
   "source": [
    "math\n",
    "\n",
    "1978 소수 찾기"
   ]
  },
  {
   "cell_type": "markdown",
   "metadata": {},
   "source": [
    "소수란?\n",
    "\n",
    "1과 자기 자신으로밖에 나누어 떨어지지 않는 1 이외의 정수\n",
    "양의 약수가 단 두 개뿐인 수"
   ]
  },
  {
   "cell_type": "code",
   "execution_count": 22,
   "metadata": {},
   "outputs": [
    {
     "name": "stdout",
     "output_type": "stream",
     "text": [
      "0\n"
     ]
    }
   ],
   "source": [
    "test_cnt=int(input())\n",
    "test_number=list(map(int, input().split()))\n",
    "prime_number=[]\n",
    "\n",
    "for i in range(test_cnt):\n",
    "    check_num=test_number[i]\n",
    "    end=max(test_number)\n",
    "    for j in range(2,end+1):\n",
    "\n",
    "        if check_num == 1:\n",
    "            break\n",
    "\n",
    "        elif j == end:\n",
    "            prime_number.append(check_num)\n",
    "\n",
    "        elif check_num == j:\n",
    "            continue\n",
    "\n",
    "        elif check_num % j == 0:\n",
    "            break\n",
    "\n",
    "print(len(prime_number))\n",
    "\n"
   ]
  },
  {
   "cell_type": "code",
   "execution_count": 25,
   "metadata": {},
   "outputs": [
    {
     "name": "stdout",
     "output_type": "stream",
     "text": [
      "5\n"
     ]
    }
   ],
   "source": [
    "class PrimeNumber:\n",
    "    def __init__(self,data_cnt,data_list):\n",
    "        self.cnt=data_cnt\n",
    "        self.data_list=data_list\n",
    "        self.prime_num_cnt=0\n",
    "\n",
    "    def check_prime(self):\n",
    "\n",
    "        for i in range(self.cnt):\n",
    "            number=self.data_list[i]\n",
    "            end=max(self.data_list)\n",
    "\n",
    "            for j in range(2,end+1):\n",
    "                \n",
    "                if number == 1:\n",
    "                    break\n",
    "\n",
    "                elif j == end:\n",
    "                    self.prime_num_cnt+=1\n",
    "\n",
    "                elif number == j:\n",
    "                    continue\n",
    "                \n",
    "                elif number % j == 0:\n",
    "                    break\n",
    "\n",
    "if __name__=='__main__':\n",
    "    test_cnt=int(input())\n",
    "    test_number=list(map(int, input().split()))\n",
    "    identify_number=PrimeNumber(test_cnt,test_number)\n",
    "    identify_number.check_prime()\n",
    "    print(identify_number.prime_num_cnt)\n"
   ]
  },
  {
   "cell_type": "markdown",
   "metadata": {},
   "source": [
    "다른 사람 코드 공부"
   ]
  },
  {
   "cell_type": "markdown",
   "metadata": {},
   "source": [
    "출처 : https://ooyoung.tistory.com/92"
   ]
  },
  {
   "cell_type": "code",
   "execution_count": null,
   "metadata": {},
   "outputs": [],
   "source": [
    "n = int(input())\n",
    "numbers = map(int, input().split())\n",
    "sosu = 0\n",
    "for num in numbers:\n",
    "    error = 0\n",
    "    if num > 1 : #이런 식으로 빼도 편하겠다\n",
    "        for i in range(2, num):  # 2부터 n-1까지 -> 이게 참신하네 훨씬 코드 간단하당\n",
    "            if num % i == 0:\n",
    "                error += 1  # 2부터 n-1까지 나눈 몫이 0이면 error가 증가\n",
    "        if error == 0: #코드 순서와 생각의 순서가 같아서 좋은 듯\n",
    "            sosu += 1  # error가 없으면 소수.\n",
    "print(sosu)"
   ]
  },
  {
   "cell_type": "markdown",
   "metadata": {},
   "source": [
    "출처 :\n",
    "https://itprogramming119.tistory.com/entry/%EB%B0%B1%EC%A4%80%EC%95%8C%EA%B3%A0%EB%A6%AC%EC%A6%98-1978%EB%B2%88-%EC%86%8C%EC%88%98-%EC%B0%BE%EA%B8%B0-%ED%8C%8C%EC%9D%B4%EC%8D%ACPython"
   ]
  },
  {
   "cell_type": "code",
   "execution_count": null,
   "metadata": {},
   "outputs": [],
   "source": [
    "n = int(input()) # 입력받을 숫자의 개수\n",
    "nums = list(map(int, input().split(' '))) # 공백으로 숫자 구분. ex) 1 3 5 7\n",
    "resCnt = 0 # 소수의 개수\n",
    "\n",
    "for i in nums:\n",
    "    cnt = 0 \n",
    "    if(i == 1): # 1은 소수가 아니기 때문에 건너띔\n",
    "        continue\n",
    "    for j in range(2, i+1):\n",
    "        if(i % j == 0):\n",
    "            cnt += 1\n",
    "    if(cnt == 1):\n",
    "        resCnt += 1\n",
    "print(resCnt)"
   ]
  },
  {
   "cell_type": "markdown",
   "metadata": {},
   "source": [
    "맞춰야 할 조건\n",
    "1. 숫자 대상으로 1은 비교하지 않는다.\n",
    "2. 1로 나누지 않는다.\n",
    "3. 자기 자신으로 나누지 않는다.\n",
    "4. 정해진 범위에서 나누어 떨어지는 수가 없으면 소수이다.\n",
    "\n",
    "나\n",
    "- 2의 해결 : range(시작점 2로 설정)\n",
    "- 나머지의 해결 : 하나씩 다 if 문으로 설정한 느낌\n",
    "- 문제점 : range(끝 범위) 굳이 비교하지 않아도 되는 수들도 비교함 자신보다 큰 수는 굳이 비교하지 않아도 됨\n",
    "\n",
    "다른 코드\n",
    "- 1의 해결 : if num > 1 : 이걸로 숫자 대상 1 비교 빼버림\n",
    "- 2의 해결 : range(시작점 2로 설정)\n",
    "- 3의 해결 : 자신보다 낮은 수로만 비교 즉, range(시작점 2, 끝 점 자기자신 -1)\n",
    "- 3의 해결 : 자신과 같은 수로 비교했을 때, cnt를 하나 인정하고 시작.\n",
    "- 4의 해결 : 나누어 떨어지는 수를 키로 설정"
   ]
  }
 ],
 "metadata": {
  "kernelspec": {
   "display_name": "Python 3.10.5 64-bit",
   "language": "python",
   "name": "python3"
  },
  "language_info": {
   "codemirror_mode": {
    "name": "ipython",
    "version": 3
   },
   "file_extension": ".py",
   "mimetype": "text/x-python",
   "name": "python",
   "nbconvert_exporter": "python",
   "pygments_lexer": "ipython3",
   "version": "3.10.5"
  },
  "orig_nbformat": 4,
  "vscode": {
   "interpreter": {
    "hash": "3b73bbac0916b1ec0ba594196a0e2a690610daf3e27e0d2ff201ec69ed0faaed"
   }
  }
 },
 "nbformat": 4,
 "nbformat_minor": 2
}
