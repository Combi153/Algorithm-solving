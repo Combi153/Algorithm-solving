{
 "cells": [
  {
   "cell_type": "markdown",
   "metadata": {},
   "source": [
    "sort_2108"
   ]
  },
  {
   "cell_type": "markdown",
   "metadata": {},
   "source": [
    "# 통계학\n",
    "시간 제한 2초, 메모리 제한 256MB\n",
    "\n",
    "- N개의 정수가 주어졌을 때, 산술평균, 중앙값, 최빈값, 범위를 출력하자.\n",
    "- N은 홀수이며, N의 범위는 다음과 같다. (1 <= N <= 500,000)\n",
    "- 입력되는 정수의 절댓값은 4000을 넘지 않는다.\n"
   ]
  },
  {
   "cell_type": "markdown",
   "metadata": {},
   "source": [
    "### 출력 조건\n",
    "- 산술평균 : 소수점 이하 첫째 자리에서 반올림\n",
    "- 중앙값\n",
    "- 최빈값 : 여러 개 있을 경우 최빈값 중 두 번째로 작은 값 출력\n",
    "- 범위"
   ]
  },
  {
   "cell_type": "markdown",
   "metadata": {},
   "source": [
    "### 구현 생각\n",
    "- 산술평균 : 정렬없이 가능\n",
    "- 중앙값 : 정렬 필요\n",
    "- 최빈값 : 딕셔너리를 이용해야 할 듯\n",
    "- 범위 : 정렬하면 금방 푼다. 그냥 탐색해도 될듯."
   ]
  },
  {
   "cell_type": "code",
   "execution_count": 44,
   "metadata": {},
   "outputs": [
    {
     "name": "stdout",
     "output_type": "stream",
     "text": [
      "산술평균 0\n",
      "중앙값 0\n",
      "최빈값 0\n",
      "범위 1\n"
     ]
    }
   ],
   "source": [
    "n = int(input())\n",
    "countDict = dict()\n",
    "check = 0\n",
    "minNumber = int(input())\n",
    "maxNumber = minNumber\n",
    "countDict[minNumber] = 1\n",
    "summation = minNumber\n",
    "\n",
    "for i in range(1, n):\n",
    "    intNumber = int(input())\n",
    "    summation += intNumber\n",
    "\n",
    "    if (intNumber in countDict):\n",
    "        value = countDict[intNumber] + 1\n",
    "        countDict[intNumber] = value\n",
    "\n",
    "        if (intNumber < minNumber):\n",
    "            minNumber = intNumber\n",
    "        \n",
    "        if (intNumber > maxNumber):\n",
    "            maxNumber = intNumber\n",
    "\n",
    "    else:\n",
    "        countDict[intNumber] = 1\n",
    "\n",
    "        if (intNumber < minNumber):\n",
    "            minNumber = intNumber\n",
    "        \n",
    "        if (intNumber > maxNumber):\n",
    "            maxNumber = intNumber\n",
    "\n",
    "\n",
    "countDict = sorted(countDict.items())\n",
    "for key, value in countDict:\n",
    "    check += value\n",
    "    if (check >= n // 2 + 1):\n",
    "        median = key\n",
    "        break\n",
    "\n",
    "countDict = sorted(countDict, key = lambda item : (-item[1], item[0]))\n",
    "if (len(countDict) == 1):\n",
    "    modeKey = countDict[0][0]\n",
    "else:\n",
    "    if (countDict[0][1] == countDict[1][1]):\n",
    "        modeKey = countDict[1][0]\n",
    "    else:\n",
    "        modeKey = countDict[0][0]\n",
    "\n",
    "\n",
    "print(\"산술평균\", round(summation / n))\n",
    "print(\"중앙값\",median)\n",
    "print(\"최빈값\", modeKey)\n",
    "print(\"범위\", maxNumber - minNumber)"
   ]
  },
  {
   "cell_type": "code",
   "execution_count": null,
   "metadata": {},
   "outputs": [],
   "source": [
    "import sys\n",
    "\n",
    "n = int(sys.stdin.readline())\n",
    "countDict = dict()\n",
    "check = 0\n",
    "minNumber = int(sys.stdin.readline())\n",
    "maxNumber = minNumber\n",
    "countDict[minNumber] = 1\n",
    "summation = minNumber\n",
    "\n",
    "for i in range(1, n):\n",
    "    intNumber = int(sys.stdin.readline())\n",
    "    summation += intNumber\n",
    "\n",
    "    if (intNumber in countDict):\n",
    "        value = countDict[intNumber] + 1\n",
    "        countDict[intNumber] = value\n",
    "\n",
    "        if (intNumber < minNumber):\n",
    "            minNumber = intNumber\n",
    "        \n",
    "        if (intNumber > maxNumber):\n",
    "            maxNumber = intNumber\n",
    "\n",
    "    else:\n",
    "        countDict[intNumber] = 1\n",
    "\n",
    "        if (intNumber < minNumber):\n",
    "            minNumber = intNumber\n",
    "        \n",
    "        if (intNumber > maxNumber):\n",
    "            maxNumber = intNumber\n",
    "\n",
    "\n",
    "countDict = sorted(countDict.items())\n",
    "for key, value in countDict:\n",
    "    check += value\n",
    "    if (check >= n // 2 + 1):\n",
    "        median = key\n",
    "        break\n",
    "\n",
    "countDict = sorted(countDict, key = lambda item : (-item[1], item[0]))\n",
    "if (len(countDict) == 1):\n",
    "    modeKey = countDict[0][0]\n",
    "else:\n",
    "    if (countDict[0][1] == countDict[1][1]):\n",
    "        modeKey = countDict[1][0]\n",
    "    else:\n",
    "        modeKey = countDict[0][0]\n",
    "\n",
    "\n",
    "print(round(summation / n))\n",
    "print(median)\n",
    "print(modeKey)\n",
    "print(maxNumber - minNumber)"
   ]
  }
 ],
 "metadata": {
  "kernelspec": {
   "display_name": "Python 3.10.5 64-bit",
   "language": "python",
   "name": "python3"
  },
  "language_info": {
   "codemirror_mode": {
    "name": "ipython",
    "version": 3
   },
   "file_extension": ".py",
   "mimetype": "text/x-python",
   "name": "python",
   "nbconvert_exporter": "python",
   "pygments_lexer": "ipython3",
   "version": "3.10.5"
  },
  "orig_nbformat": 4,
  "vscode": {
   "interpreter": {
    "hash": "3b73bbac0916b1ec0ba594196a0e2a690610daf3e27e0d2ff201ec69ed0faaed"
   }
  }
 },
 "nbformat": 4,
 "nbformat_minor": 2
}
