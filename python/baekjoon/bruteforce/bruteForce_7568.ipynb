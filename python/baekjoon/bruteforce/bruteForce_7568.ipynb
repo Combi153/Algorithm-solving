{
 "cells": [
  {
   "cell_type": "markdown",
   "metadata": {},
   "source": [
    "# bruteForce 7568"
   ]
  },
  {
   "cell_type": "markdown",
   "metadata": {},
   "source": [
    "덩치  \n",
    ": N명의 몸무게와 키를 입력받고, 각 사람의 덩치 등수를 계산하여 출력한다.\n",
    "- 어떤 사람의 몸무게가 x kg이고 키가 y cm라면 이 사람의 덩치는 (x, y)로 표시한다.\n",
    "- 두 사람 A 와 B의 덩치가 각각 (x, y), (p, q)라고 할 때 x > p 그리고 y > q 이면 A의 덩치가 B의 덩치보다 더 큰 것이다.\n",
    "- N명의 집단에서 각 사람의 덩치 등수는 자신보다 더 \"큰 덩치\"의 사람의 수로 정해진다.\n",
    "- 만일 자신보다 더 큰 덩치의 사람이 k명이라면 그 사람의 덩치 등수는 k+1이 된다."
   ]
  },
  {
   "cell_type": "markdown",
   "metadata": {},
   "source": [
    "# 정답코드"
   ]
  },
  {
   "cell_type": "markdown",
   "metadata": {},
   "source": [
    "- 큰 덩치의 기준 : (x, y), (p, q)라고 할 때 x > p 그리고 y > q 이면 (x,y)의 덩치가 (p,q)의 덩치보다 더 큰 것\n",
    "- 덩치 등수 : 자신보다 \"큰 덩치의 사람 수\" + 1"
   ]
  },
  {
   "cell_type": "code",
   "execution_count": null,
   "metadata": {},
   "outputs": [
    {
     "name": "stdout",
     "output_type": "stream",
     "text": [
      "2 2 1 3 1 1\n"
     ]
    }
   ],
   "source": [
    "n = int(input())\n",
    "physique = []\n",
    "rank = []\n",
    "for i in range(n):\n",
    "    x, y = map(int, input().split())\n",
    "    physique.append([x, y])\n",
    "\n",
    "for i in range(0,len(physique)):\n",
    "    k = 0\n",
    "    for j in range(0,len(physique)):\n",
    "        if i != j :\n",
    "            condition = (physique[i][0] < physique[j][0]) & (physique[i][1] < physique[j][1])\n",
    "            if condition:\n",
    "                k += 1\n",
    "    rank.append(k+1)\n",
    "\n",
    "print(*rank)"
   ]
  },
  {
   "cell_type": "markdown",
   "metadata": {},
   "source": [
    "다른 사람 코드\n",
    "- x,y ->weight, height로 표현 clean coding\n",
    "- 반복문의 반복 범위를 설정 시 physique와 range(len(physique)) 중 더 간결한 것을 선택하면 좋을듯\n",
    "- 이 문제에서는 physique를 설정하는 것이 더 간결한 코드로 느껴진다."
   ]
  },
  {
   "cell_type": "code",
   "execution_count": 1,
   "metadata": {},
   "outputs": [
    {
     "name": "stdout",
     "output_type": "stream",
     "text": [
      "2 2 1 2 5\n"
     ]
    }
   ],
   "source": [
    "n = int(input())\n",
    "physique = []\n",
    "rank = []\n",
    "for i in range(n):\n",
    "    weight, height = map(int, input().split())\n",
    "    physique.append([weight, height])\n",
    "\n",
    "for i in physique:\n",
    "    k = 0\n",
    "    for j in physique:\n",
    "        if i != j :\n",
    "            condition = (i[0] < j[0]) & (i[1] < j[1])\n",
    "            if condition:\n",
    "                k += 1\n",
    "    rank.append(k+1)\n",
    "\n",
    "print(*rank)"
   ]
  },
  {
   "cell_type": "markdown",
   "metadata": {},
   "source": [
    "# 삽질\n",
    ": 문제를 똑바로 읽자. 3시간 이상 삽질했다,,  \n",
    "\n",
    "꿀팁\n",
    "- 질문 게시판에서 반례 등을 찾아볼 수 있다.\n",
    "- 질문 게시판 반례를 보면서 문제를 잘못 읽은 것을 파악했다."
   ]
  },
  {
   "cell_type": "code",
   "execution_count": 17,
   "metadata": {},
   "outputs": [
    {
     "name": "stdout",
     "output_type": "stream",
     "text": [
      "[1, 1, 4, 1, 0]\n"
     ]
    }
   ],
   "source": [
    "n = int(input())\n",
    "physique = []\n",
    "physiqueRank = []\n",
    "rank = []\n",
    "for i in range(n):\n",
    "    x, y = map(int, input().split())\n",
    "    physique.append([x, y])\n",
    "\n",
    "for i in range(0,len(physique)-1):\n",
    "    for j in range(i+1,len(physique)):\n",
    "        if physique[i][0] >= physique[j][0]:\n",
    "            if (physique[i][0] > physique[j][0]) & (physique[i][1] >= physique[j][1]):\n",
    "                physiqueRank.append(i)\n",
    "            elif (physique[i][1] > physique[j][1]):\n",
    "                physiqueRank.append(i)\n",
    "        elif physique[i][0] <= physique[j][0]:\n",
    "            if (physique[i][0] < physique[j][0]) & (physique[i][1] <= physique[j][1]):\n",
    "                physiqueRank.append(j)\n",
    "            elif (physique[i][1] < physique[j][1]):\n",
    "                physiqueRank.append(j)\n",
    "        else:\n",
    "            continue\n",
    "\n",
    "for i in range(0,n):\n",
    "    rank.append(physiqueRank.count(i))\n",
    "\n",
    "for i in range(0,len(physique)-1):\n",
    "    for j in range(i+1, len(physique)):\n",
    "        if rank[i] >\n",
    "\n"
   ]
  },
  {
   "cell_type": "code",
   "execution_count": 48,
   "metadata": {},
   "outputs": [
    {
     "name": "stdout",
     "output_type": "stream",
     "text": [
      "{0: {'winNum': 1}}\n",
      "{0: {'winNum': 1}, 1: {'winNum': 1}}\n",
      "{0: {'winNum': 1}, 1: {'winNum': 1}, 2: {'winNum': 4}}\n",
      "{0: {'winNum': 1}, 1: {'winNum': 1}, 2: {'winNum': 4}, 3: {'winNum': 1}}\n",
      "{0: {'winNum': 1}, 1: {'winNum': 1}, 2: {'winNum': 4}, 3: {'winNum': 1}, 4: {'winNum': 0}}\n"
     ]
    }
   ],
   "source": [
    "n = int(input())\n",
    "physique = []\n",
    "winCnt = dict()\n",
    "rank = dict()\n",
    "for i in range(n):\n",
    "    x, y = map(int, input().split())\n",
    "    physique.append([x, y])\n",
    "\n",
    "for i in range(0,len(physique)):\n",
    "    winNum = 0\n",
    "    for j in range(0,len(physique)):\n",
    "        if i != j :\n",
    "            if (physique[i][0] > physique[j][0]) & (physique[i][1] >= physique[j][1]) :\n",
    "                winNum += 1\n",
    "\n",
    "            elif (physique[i][0] >= physique[j][0]) & (physique[i][1] > physique[j][1]) :\n",
    "                winNum += 1\n",
    "\n",
    "        else:\n",
    "            continue\n",
    "    \n",
    "    winCnt[i] = winNum\n",
    "\n",
    "    if len(rank) != 0 :\n",
    "        for k in range(1,len(rank)+1):\n",
    "            if winNum > winCnt[rank[k]]:\n",
    "                rank[k] = i\n",
    "                for l in range(k,len(rank)+1):\n",
    "                    rank[l]\n",
    "\n",
    "\n",
    "    else:\n",
    "        rank[1] = i \n",
    "\n",
    "    print(winCnt)\n",
    "        \n",
    "\n",
    "\n",
    "\n"
   ]
  },
  {
   "cell_type": "code",
   "execution_count": 69,
   "metadata": {},
   "outputs": [
    {
     "name": "stdout",
     "output_type": "stream",
     "text": [
      "[3, 3, 6, 3, 2, 1, 0]\n"
     ]
    }
   ],
   "source": [
    "n = int(input())\n",
    "physique = []\n",
    "winCnt = []\n",
    "rank = []\n",
    "for i in range(n):\n",
    "    x, y = map(int, input().split())\n",
    "    physique.append([x, y])\n",
    "\n",
    "for i in range(0,len(physique)):\n",
    "    winNum = 0\n",
    "    for j in range(0,len(physique)):\n",
    "        if i != j :\n",
    "            if (physique[i][0] > physique[j][0]) & (physique[i][1] >= physique[j][1]) :\n",
    "                winNum += 1\n",
    "\n",
    "            elif (physique[i][0] >= physique[j][0]) & (physique[i][1] > physique[j][1]) :\n",
    "                winNum += 1\n",
    "\n",
    "        else:\n",
    "            continue\n",
    "    \n",
    "    winCnt.append(winNum)\n",
    "\n",
    "for i in range(len(winCnt)):\n",
    "    loseNum = 0\n",
    "    for j in range(len(winCnt)):\n",
    "        if i == j :\n",
    "            continue\n",
    "        elif winCnt[i] < winCnt[j]:\n",
    "            loseNum += 1\n",
    "    \n",
    "    for k in range(len(winCnt)):\n",
    "        if loseNum == k :\n",
    "            rank.append(k+1)\n",
    "\n",
    "print(*rank)"
   ]
  },
  {
   "cell_type": "code",
   "execution_count": 82,
   "metadata": {},
   "outputs": [
    {
     "name": "stdout",
     "output_type": "stream",
     "text": [
      "[1, 1, 4, 1, 0]\n",
      "2 2 1 2 5\n"
     ]
    }
   ],
   "source": [
    "n = int(input())\n",
    "physique = []\n",
    "winCnt = []\n",
    "rank = []\n",
    "for i in range(n):\n",
    "    x, y = map(int, input().split())\n",
    "    physique.append([x, y])\n",
    "\n",
    "for i in range(0,len(physique)):\n",
    "    winNum = 0\n",
    "    for j in range(0,len(physique)):\n",
    "        if i != j :\n",
    "            condition1 = ((physique[i][0] > physique[j][0]) & (physique[i][1] >= physique[j][1]))\n",
    "            condition2 = ((physique[i][0] >= physique[j][0]) & (physique[i][1] > physique[j][1]))\n",
    "            if condition1 | condition2 :\n",
    "                winNum += 1\n",
    "        else:\n",
    "            continue\n",
    "    \n",
    "    winCnt.append(winNum)\n",
    "\n",
    "for i in range(len(winCnt)):\n",
    "    loseNum = 0\n",
    "    for j in range(len(winCnt)):\n",
    "        if i == j :\n",
    "            continue\n",
    "        elif winCnt[i] < winCnt[j]:\n",
    "            loseNum += 1\n",
    "    \n",
    "    for k in range(len(winCnt)):\n",
    "        if loseNum == k :\n",
    "            rank.append(k+1)\n",
    "\n",
    "print\n",
    "print(winCnt)\n",
    "print(*rank)"
   ]
  }
 ],
 "metadata": {
  "kernelspec": {
   "display_name": "Python 3.10.5 64-bit",
   "language": "python",
   "name": "python3"
  },
  "language_info": {
   "codemirror_mode": {
    "name": "ipython",
    "version": 3
   },
   "file_extension": ".py",
   "mimetype": "text/x-python",
   "name": "python",
   "nbconvert_exporter": "python",
   "pygments_lexer": "ipython3",
   "version": "3.10.5"
  },
  "orig_nbformat": 4,
  "vscode": {
   "interpreter": {
    "hash": "3b73bbac0916b1ec0ba594196a0e2a690610daf3e27e0d2ff201ec69ed0faaed"
   }
  }
 },
 "nbformat": 4,
 "nbformat_minor": 2
}
