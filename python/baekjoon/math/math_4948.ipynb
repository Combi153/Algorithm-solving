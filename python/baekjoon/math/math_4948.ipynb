{
 "cells": [
  {
   "cell_type": "markdown",
   "metadata": {},
   "source": [
    "math\n",
    "4948\n",
    "베르트랑 공준"
   ]
  },
  {
   "cell_type": "markdown",
   "metadata": {},
   "source": [
    "자연수 n이 주어졌을 때, n보다 크고 2n보다 작거나 같은 소수의 개수를 구하는 프로그램 작성"
   ]
  },
  {
   "cell_type": "markdown",
   "metadata": {},
   "source": [
    "시간 제한이 1초니까, input 반복문이 아니라 readline을 사용하자"
   ]
  },
  {
   "cell_type": "code",
   "execution_count": null,
   "metadata": {},
   "outputs": [],
   "source": [
    "import sys\n",
    "num_list=[]\n",
    "while True:\n",
    "    num=int(sys.stdin.readline())\n",
    "    if num != 0:\n",
    "        num_list.append(num)\n",
    "    else:\n",
    "        break\n",
    "\n",
    "def count_primenum(n):\n",
    "    start=n\n",
    "    end=2*n\n",
    "\n",
    "    array=[True]*(end+1)\n",
    "    m=int(end**0.5)\n",
    "\n",
    "    for i in range(2,m+1):\n",
    "        if array[i]==True:\n",
    "            for j in range(i+i,end+1,i):\n",
    "                array[j]=False\n",
    "    \n",
    "    print(sum(array[start+1:end+1]))\n",
    "\n",
    "for k in range(len(num_list)):\n",
    "    print_prime=count_primenum(num_list[k])"
   ]
  },
  {
   "cell_type": "code",
   "execution_count": 19,
   "metadata": {},
   "outputs": [
    {
     "name": "stdout",
     "output_type": "stream",
     "text": [
      "1\n",
      "4\n",
      "3\n",
      "21\n",
      "135\n",
      "1033\n",
      "70435\n"
     ]
    }
   ],
   "source": [
    "#input으로 확인용\n",
    "\n",
    "num_list=[]\n",
    "while True:\n",
    "    num=int(input())\n",
    "    if num !=0:\n",
    "        num_list.append(num)\n",
    "    else:\n",
    "        break\n",
    "\n",
    "def count_primenum(n):\n",
    "    start=n\n",
    "    end=2*n\n",
    "\n",
    "    array=[True]*(end+1)\n",
    "    m=int(end**0.5)\n",
    "\n",
    "    #print(start, end)\n",
    "    #print(array,m)\n",
    "\n",
    "    for i in range(2,m+1):\n",
    "        #print(i)\n",
    "        if array[i]==True:\n",
    "            for j in range(i+i,end+1,i):\n",
    "                array[j]=False\n",
    "    \n",
    "    print(sum(array[start+1:end+1]))\n",
    "    #print(array[start:end])\n",
    "for k in range(len(num_list)):\n",
    "    print_prime=count_primenum(num_list[k])"
   ]
  },
  {
   "cell_type": "markdown",
   "metadata": {},
   "source": [
    "이 문제 더 빠르게\n",
    "- 소수 array는 한번만 구하자"
   ]
  },
  {
   "cell_type": "code",
   "execution_count": null,
   "metadata": {},
   "outputs": [],
   "source": [
    "import sys\n",
    "num_list=[]\n",
    "while True:\n",
    "    num=int(sys.stdin.readline())\n",
    "    if num != 0:\n",
    "        num_list.append(num)\n",
    "    else:\n",
    "        break\n",
    "\n",
    "def max_primenum(max_n):\n",
    "    end=2*max_n\n",
    "\n",
    "    array=[True]*(end+1)\n",
    "    m=int(end**0.5)\n",
    "\n",
    "    for i in range(2,m+1):\n",
    "        if array[i]==True:\n",
    "            for j in range(i+i,end+1,i):\n",
    "                array[j]=False\n",
    "    \n",
    "    return array\n",
    "\n",
    "def count_primenum(n,prime_array):\n",
    "    start=n\n",
    "    end=2*n\n",
    "    \n",
    "    print(sum(prime_array[start+1:end+1]))\n",
    "    \n",
    "\n",
    "max_num=max(num_list)\n",
    "check_prime=max_primenum(max_num)\n",
    "\n",
    "for k in range(len(num_list)):\n",
    "    print_prime=count_primenum(num_list[k],check_prime)"
   ]
  },
  {
   "cell_type": "code",
   "execution_count": 24,
   "metadata": {},
   "outputs": [
    {
     "name": "stdout",
     "output_type": "stream",
     "text": [
      "1\n",
      "3\n",
      "21\n",
      "135\n"
     ]
    }
   ],
   "source": [
    "#input 확인용\n",
    "num_list=[]\n",
    "while True:\n",
    "    num=int(input())\n",
    "    if num !=0:\n",
    "        num_list.append(num)\n",
    "    else:\n",
    "        break\n",
    "\n",
    "def max_primenum(max_n):\n",
    "    end=2*max_n\n",
    "\n",
    "    array=[True]*(end+1)\n",
    "    m=int(end**0.5)\n",
    "\n",
    "    for i in range(2,m+1):\n",
    "        if array[i]==True:\n",
    "            for j in range(i+i,end+1,i):\n",
    "                array[j]=False\n",
    "    \n",
    "    return array\n",
    "\n",
    "def count_primenum(n,prime_array):\n",
    "    start=n\n",
    "    end=2*n\n",
    "    \n",
    "    print(sum(prime_array[start+1:end+1]))\n",
    "    \n",
    "\n",
    "max_num=max(num_list)\n",
    "check_prime=max_primenum(max_num)\n",
    "\n",
    "for k in range(len(num_list)):\n",
    "    print_prime=count_primenum(num_list[k],check_prime)"
   ]
  },
  {
   "cell_type": "markdown",
   "metadata": {},
   "source": [
    "Class"
   ]
  },
  {
   "cell_type": "code",
   "execution_count": null,
   "metadata": {},
   "outputs": [],
   "source": [
    "import sys\n",
    "\n",
    "class Postulate_of_Bertrand:\n",
    "    def __init__(self):\n",
    "        self.input_number()\n",
    "\n",
    "    def input_number(self):\n",
    "        num_list=[]\n",
    "        while True:\n",
    "            num=int(sys.stdin.readline())\n",
    "            if num != 0:\n",
    "                num_list.append(num)\n",
    "            else:\n",
    "                break\n",
    "\n",
    "        self.num_list=num_list\n",
    "        self.max_num=max(self.num_list)\n",
    "        self.find_max_primenum_array()\n",
    "\n",
    "    def find_max_primenum_array(self):\n",
    "        end=2*self.max_num\n",
    "        array=[True]*(end+1)\n",
    "        m=int(end**0.5)\n",
    "        \n",
    "        for i in range(2,m+1):\n",
    "            if array[i]==True:\n",
    "                for j in range(i+i,end+1,i):\n",
    "                    array[j]=False\n",
    "\n",
    "        self.count_primenum(array)\n",
    "        \n",
    "    def count_primenum(self,prime_array):\n",
    "        for k in range(len(self.num_list)):\n",
    "            start=self.num_list[k]\n",
    "            end=2*start\n",
    "            print(sum(prime_array[start+1:end+1]))\n",
    "\n",
    "if __name__=='__main__':\n",
    "    do_it=Postulate_of_Bertrand()"
   ]
  },
  {
   "cell_type": "code",
   "execution_count": 28,
   "metadata": {},
   "outputs": [
    {
     "name": "stdout",
     "output_type": "stream",
     "text": [
      "1\n",
      "4\n",
      "3\n",
      "21\n"
     ]
    }
   ],
   "source": [
    "#input 확인용\n",
    "class Postulate_of_Bertrand:\n",
    "    def __init__(self):\n",
    "        self.input_number()\n",
    "        pass\n",
    "\n",
    "    def input_number(self):\n",
    "        num_list=[]\n",
    "        while True:\n",
    "            num=int(input())\n",
    "            if num !=0:\n",
    "                num_list.append(num)\n",
    "            else:\n",
    "                break\n",
    "\n",
    "        self.num_list=num_list\n",
    "        self.max_num=max(self.num_list)\n",
    "        self.find_max_primenum_array()\n",
    "\n",
    "    def find_max_primenum_array(self):\n",
    "        end=2*self.max_num\n",
    "        array=[True]*(end+1)\n",
    "        m=int(end**0.5)\n",
    "\n",
    "        for i in range(2,m+1):\n",
    "            if array[i]==True:\n",
    "                for j in range(i+i,end+1,i):\n",
    "                    array[j]=False\n",
    "\n",
    "        self.count_primenum(array)\n",
    "        \n",
    "    def count_primenum(self,prime_array):\n",
    "\n",
    "        for k in range(len(self.num_list)):\n",
    "\n",
    "            start=self.num_list[k]\n",
    "            end=2*start\n",
    "    \n",
    "            print(sum(prime_array[start+1:end+1]))\n",
    "\n",
    "if __name__=='__main__':\n",
    "    do_it=Postulate_of_Bertrand()\n"
   ]
  }
 ],
 "metadata": {
  "kernelspec": {
   "display_name": "Python 3.10.5 64-bit",
   "language": "python",
   "name": "python3"
  },
  "language_info": {
   "codemirror_mode": {
    "name": "ipython",
    "version": 3
   },
   "file_extension": ".py",
   "mimetype": "text/x-python",
   "name": "python",
   "nbconvert_exporter": "python",
   "pygments_lexer": "ipython3",
   "version": "3.10.5"
  },
  "orig_nbformat": 4,
  "vscode": {
   "interpreter": {
    "hash": "3b73bbac0916b1ec0ba594196a0e2a690610daf3e27e0d2ff201ec69ed0faaed"
   }
  }
 },
 "nbformat": 4,
 "nbformat_minor": 2
}
