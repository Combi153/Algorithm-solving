{
 "cells": [
  {
   "cell_type": "markdown",
   "metadata": {},
   "source": [
    "2753"
   ]
  },
  {
   "cell_type": "code",
   "execution_count": 1,
   "metadata": {},
   "outputs": [
    {
     "name": "stdout",
     "output_type": "stream",
     "text": [
      "1\n"
     ]
    }
   ],
   "source": [
    "#4로 나누어 떨어지면 윤년\n",
    "#4로 나누어 떨어지더라도 100으로 나누어 떨어지면 평년\n",
    "#4로 나누어 떨어지고, 100으로 나누어 떨어지나, 400으로 나누어 떨어지면 윤년\n",
    "\n",
    "year=int(input())\n",
    "if year%4==0:\n",
    "  if year%400==0 or year%100!=0:\n",
    "    year=1\n",
    "  else:\n",
    "    year=0\n",
    "else:\n",
    "  year=0\n",
    "  \n",
    "print(year)\n",
    "print()"
   ]
  }
 ],
 "metadata": {
  "kernelspec": {
   "display_name": "Python 3.10.5 64-bit",
   "language": "python",
   "name": "python3"
  },
  "language_info": {
   "codemirror_mode": {
    "name": "ipython",
    "version": 3
   },
   "file_extension": ".py",
   "mimetype": "text/x-python",
   "name": "python",
   "nbconvert_exporter": "python",
   "pygments_lexer": "ipython3",
   "version": "3.10.5"
  },
  "orig_nbformat": 4,
  "vscode": {
   "interpreter": {
    "hash": "3b73bbac0916b1ec0ba594196a0e2a690610daf3e27e0d2ff201ec69ed0faaed"
   }
  }
 },
 "nbformat": 4,
 "nbformat_minor": 2
}
