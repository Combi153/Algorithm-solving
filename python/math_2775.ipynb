{
 "cells": [
  {
   "cell_type": "markdown",
   "metadata": {},
   "source": [
    "math"
   ]
  },
  {
   "cell_type": "markdown",
   "metadata": {},
   "source": [
    "2775"
   ]
  },
  {
   "cell_type": "code",
   "execution_count": 1,
   "metadata": {},
   "outputs": [
    {
     "name": "stdout",
     "output_type": "stream",
     "text": [
      "1\n",
      "6\n"
     ]
    }
   ],
   "source": [
    "class Housemate:\n",
    "  def __init__(self,k,n):\n",
    "    self.floor=k\n",
    "    self.roomNum=n\n",
    "    self.zero_roomNum=list(map(str,range(1,n+1))) #각 리스트 요소를 변수로 사용\n",
    "\n",
    "  def matecount(self):\n",
    "    for i in range(self.floor):\n",
    "      for j in range(1,len(self.zero_roomNum)):\n",
    "        self.zero_roomNum[j]=int(self.zero_roomNum[j])+int(self.zero_roomNum[j-1]) #각 변수의 값을 반복해서 갱신\n",
    "    print(self.zero_roomNum[-1])\n",
    "\n",
    "if __name__=='__main__':\n",
    "  test=int(input())\n",
    "  for time in range(test):\n",
    "    floor=int(input())\n",
    "    roomNum=int(input())\n",
    "    juhee=Housemate(floor,roomNum)\n",
    "    juhee.matecount()"
   ]
  },
  {
   "cell_type": "code",
   "execution_count": 2,
   "metadata": {},
   "outputs": [
    {
     "name": "stdout",
     "output_type": "stream",
     "text": [
      "70\n"
     ]
    }
   ],
   "source": [
    "class Housemate:\n",
    "  def __init__(self,k,n):\n",
    "    self.floor=k\n",
    "    self.roomNum=n\n",
    "    self.zero_roomNum=list(range(1,n+1)) #리스트 요소 자체를 값 갱신 및 저장에 활용\n",
    "\n",
    "  def matecount(self):\n",
    "    for i in range(self.floor):\n",
    "      for j in range(1,len(self.zero_roomNum)):\n",
    "        self.zero_roomNum[j]+=self.zero_roomNum[j-1] #리스트 요소를 반복해서 갱신\n",
    "    print(self.zero_roomNum[-1])\n",
    "\n",
    "if __name__=='__main__':\n",
    "  test=int(input())\n",
    "  for time in range(test):\n",
    "    floor=int(input())\n",
    "    roomNum=int(input())\n",
    "    juhee=Housemate(floor,roomNum)\n",
    "    juhee.matecount()\n",
    "\n",
    "#시간은 둘 다 80ms로 같다"
   ]
  }
 ],
 "metadata": {
  "kernelspec": {
   "display_name": "Python 3.10.5 64-bit",
   "language": "python",
   "name": "python3"
  },
  "language_info": {
   "codemirror_mode": {
    "name": "ipython",
    "version": 3
   },
   "file_extension": ".py",
   "mimetype": "text/x-python",
   "name": "python",
   "nbconvert_exporter": "python",
   "pygments_lexer": "ipython3",
   "version": "3.10.5"
  },
  "orig_nbformat": 4,
  "vscode": {
   "interpreter": {
    "hash": "3b73bbac0916b1ec0ba594196a0e2a690610daf3e27e0d2ff201ec69ed0faaed"
   }
  }
 },
 "nbformat": 4,
 "nbformat_minor": 2
}
