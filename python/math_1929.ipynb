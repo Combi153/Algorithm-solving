{
 "cells": [
  {
   "cell_type": "markdown",
   "metadata": {},
   "source": [
    "math\n",
    "1929\n",
    "소수 구하기"
   ]
  },
  {
   "cell_type": "markdown",
   "metadata": {},
   "source": [
    "M이상 N이하의 소수를 모두 출력\n",
    "- M 이상 N 이하의 소수가 하나 이상 있는 입력 주어진다."
   ]
  },
  {
   "cell_type": "code",
   "execution_count": 12,
   "metadata": {},
   "outputs": [
    {
     "name": "stdout",
     "output_type": "stream",
     "text": [
      "3\n",
      "5\n",
      "7\n",
      "11\n",
      "13\n"
     ]
    }
   ],
   "source": [
    "start_M,end_N=map(int, input().split())\n",
    "\n",
    "for num in range(start_M,end_N+1):\n",
    "\n",
    "    if num ==1 :\n",
    "        continue\n",
    "\n",
    "    for divider in range(2, num+1):\n",
    "        if num % divider ==0:\n",
    "\n",
    "            if num == divider:\n",
    "                print(num)\n",
    "                break\n",
    "            else:\n",
    "                break\n",
    "\n",
    "#시간초과"
   ]
  },
  {
   "cell_type": "markdown",
   "metadata": {},
   "source": [
    "시간초과로 문제가 풀리지 않았다. 시간을 절약할 방법을 궁리하던 중 중학교 시절 배운 에라토스테네스의 체를 떠올렸다."
   ]
  },
  {
   "cell_type": "markdown",
   "metadata": {},
   "source": [
    "에라토스테네스의 체\n",
    "- 주어진 범위에서 합성수를 지우는 방식으로 소수를 찾는 방법\n",
    "1. 1은 제거한다.\n",
    "2. 지워지지 않은 수 중 제일 작은 2를 소수로 채택한다. 나머지 2의 배수는 모두 지운다.\n",
    "3. 지워지지 않은 수 중 제일 작은 3을 소수로 채택한다. 나머지 3의 배수는 모두 지운다.\n",
    "4. (반복)"
   ]
  },
  {
   "cell_type": "code",
   "execution_count": null,
   "metadata": {},
   "outputs": [],
   "source": [
    "n=1000\n",
    "prime_num=[]\n",
    "num_list=list(range(2,n+1))\n",
    "\n",
    "while len(num_list) >1:\n",
    "    num=min(num_list)\n",
    "    prime_num.append(num)\n",
    "    num_list.remove(num)\n",
    "\n",
    "    for i in num_list:\n",
    "        if i % num ==0:\n",
    "            num_list.remove(i)\n",
    "\n",
    "print(prime_num)"
   ]
  },
  {
   "cell_type": "code",
   "execution_count": null,
   "metadata": {},
   "outputs": [],
   "source": [
    "start_M,end_N=map(int, input().split())\n",
    "prime_number=[]\n",
    "num_list=list(range(2,end_N+1))\n",
    "\n",
    "while len(num_list) >=1:\n",
    "    num=min(num_list)\n",
    "    prime_number.append(num)\n",
    "    num_list.remove(num)\n",
    "\n",
    "    for i in num_list:\n",
    "        if i % num ==0:\n",
    "            num_list.remove(i)\n",
    "\n",
    "for j in prime_number:\n",
    "    if j >= start_M:\n",
    "        print(j)"
   ]
  },
  {
   "cell_type": "markdown",
   "metadata": {},
   "source": [
    "에라토스테네스의 체를 구현했지만, 여전히 시간초과로 문제가 풀리지 않았다. 그래서 구글링을 했다."
   ]
  },
  {
   "cell_type": "markdown",
   "metadata": {},
   "source": [
    "한 블로그의 글\n",
    "\n",
    "- (어떤 코드)위 방식은 직관적이지만, 비효율적이다. 2부터 n-1까지 반복해야 하기에 O(n)의 시간 복잡도를 갖는다.\n",
    "\n",
    "- 약수를 판단하는 데에는 기본적으로 2부터 n-1까지 모두 반복할 필요가 없다. 각 수가 갖는 약수는 해당 수의 제곱근을 기준으로 대칭을 이루기 때문이다. 16의 경우 1,2,4,8,16의 약수를 갖고 16의 양의 제곱근인 4를 기준으로 대칭을 이룬다. 즉, 16이 2로 나누어 떨어짐을 알게 된다면 8로 나누어 떨어지는 건 자동적으로 참이다. 16을 2로 나눈 몫이 8이기 때문이다.\n",
    "\n",
    "- 따라서 n이 소수임을 판단하기 위해서는 2부터 n의 제곱근까지 나누어 떨어지는지만 확인하면 된다. 이 경우 n이 소수를 판별하는 데에 시간복잡도는 O(√n)이 된다."
   ]
  },
  {
   "cell_type": "markdown",
   "metadata": {},
   "source": [
    "중요한 건 에라토스테네스의 체가 아니라 시간복잡도의 개선이었다. 에라토스테네스의 체 알고리즘을 활용하지 않더라도, 제곱근의 아이디어가 있다면 문제가 풀렸다. 다만 에라토스테네스의 체를 활용할 때 훨씬 빨랐다."
   ]
  },
  {
   "cell_type": "markdown",
   "metadata": {},
   "source": [
    "- 에라토스테네스의 체"
   ]
  },
  {
   "cell_type": "code",
   "execution_count": null,
   "metadata": {},
   "outputs": [],
   "source": [
    "start_M,end_N=map(int, input().split())\n",
    "array=[True]*(end_N+1)\n",
    "m=int(end_N**0.5)\n",
    "\n",
    "for i in range(2, m+1):\n",
    "    if array[i]==True:\n",
    "        for j in range(i+i,end_N+1,i):\n",
    "            array[j]=False\n",
    "for k in range(start_M,end_N+1):\n",
    "    if k ==1:\n",
    "        continue\n",
    "\n",
    "    elif array[k]:\n",
    "        print(k)"
   ]
  },
  {
   "cell_type": "markdown",
   "metadata": {},
   "source": [
    "- 기존의 방식과 제곱근\n",
    "    - 에라토스테네스의 체가 훨씬 빠르다"
   ]
  },
  {
   "cell_type": "code",
   "execution_count": null,
   "metadata": {},
   "outputs": [],
   "source": [
    "start_M,end_N=map(int, input().split())\n",
    "\n",
    "for num in range(start_M,end_N+1):\n",
    "    sqrt_num=int(num**0.5)\n",
    "\n",
    "    if num ==1 :\n",
    "        continue\n",
    "\n",
    "    for divider in range(2, sqrt_num+1):\n",
    "        if num % divider ==0:\n",
    "            break\n",
    "    else:\n",
    "        print(num)\n"
   ]
  },
  {
   "cell_type": "markdown",
   "metadata": {},
   "source": [
    "에라토스테네스의 체를 구현한 다른 사람들의 코드"
   ]
  },
  {
   "cell_type": "code",
   "execution_count": null,
   "metadata": {},
   "outputs": [],
   "source": [
    "n=int(input())\n",
    "array=[True]*(n+1)\n",
    "m=int(n**0.5)\n",
    "\n",
    "for i in range(2,m+1):\n",
    "    if array[i]==True:\n",
    "        j=2\n",
    "        while i*j <=n:\n",
    "            array[i*j]=False\n",
    "            j+=1\n",
    "for i in range(2, n+1):\n",
    "    if array[i]: #소수이면 True\n",
    "        print(i, end=' ')\n",
    "\n"
   ]
  },
  {
   "cell_type": "code",
   "execution_count": null,
   "metadata": {},
   "outputs": [],
   "source": [
    "n = int(input())\n",
    "a = [True] * (n + 1)\n",
    "m = int(n**0.5)\n",
    "\n",
    "for i in range(2, m + 1):\n",
    "    if a[i] == True:\n",
    "        for j in range(i + i, n + 1, i): #i*2 부터 i의 간격으로 n+1까지 모두 False\n",
    "            a[j] = False\n",
    "\n",
    "print([i for i in range(2, n + 1) if a[i] == True])"
   ]
  },
  {
   "cell_type": "markdown",
   "metadata": {},
   "source": [
    "위 방식에서 range에 대한 복습\n",
    "- range(start, stop) #stop은 미포함\n",
    "- range(start, stop, step) #step은 숫자의 간격을 나타냄\n",
    "- range(0,20,2)\n",
    "- => 0,2,4,6,8,10,...,18\n",
    "- range(20,0,-2)\n",
    "- => 20,18,16,...,2"
   ]
  }
 ],
 "metadata": {
  "kernelspec": {
   "display_name": "Python 3.10.5 64-bit",
   "language": "python",
   "name": "python3"
  },
  "language_info": {
   "codemirror_mode": {
    "name": "ipython",
    "version": 3
   },
   "file_extension": ".py",
   "mimetype": "text/x-python",
   "name": "python",
   "nbconvert_exporter": "python",
   "pygments_lexer": "ipython3",
   "version": "3.10.5"
  },
  "orig_nbformat": 4,
  "vscode": {
   "interpreter": {
    "hash": "3b73bbac0916b1ec0ba594196a0e2a690610daf3e27e0d2ff201ec69ed0faaed"
   }
  }
 },
 "nbformat": 4,
 "nbformat_minor": 2
}
