{
 "cells": [
  {
   "cell_type": "markdown",
   "id": "f4074443",
   "metadata": {},
   "source": [
    "# 문자열"
   ]
  },
  {
   "cell_type": "markdown",
   "id": "cda5dabe",
   "metadata": {},
   "source": [
    "## 5622"
   ]
  },
  {
   "cell_type": "code",
   "execution_count": 2,
   "id": "7357418f",
   "metadata": {},
   "outputs": [
    {
     "name": "stdout",
     "output_type": "stream",
     "text": [
      "UNUCIC\n",
      "36\n"
     ]
    }
   ],
   "source": [
    "#9개의 조건문을 만들든가\n",
    "#9개의 dictionary or list를 만들든가\n",
    "\n",
    "english=list(input())\n",
    "dial={\"2\":'ABC','3':'DEF','4':'GHI','5':'JKL','6':'MNO','7':'PQRS','8':'TUV','9':'WXYZ'}\n",
    "dial_values=list(dial.values())\n",
    "dial_keys=list(dial.keys())\n",
    "seconds=0\n",
    "\n",
    "for i in range(len(english)):\n",
    "    for j in range(len(dial_values)):\n",
    "        if english[i] in dial_values[j]:\n",
    "            dial_english=dial_values[j]\n",
    "            \n",
    "    position=dial_values.index(dial_english)\n",
    "    seconds=seconds+int(dial_keys[position])+1\n",
    "\n",
    "print(seconds)\n"
   ]
  }
 ],
 "metadata": {
  "kernelspec": {
   "display_name": "Python 3 (ipykernel)",
   "language": "python",
   "name": "python3"
  },
  "language_info": {
   "codemirror_mode": {
    "name": "ipython",
    "version": 3
   },
   "file_extension": ".py",
   "mimetype": "text/x-python",
   "name": "python",
   "nbconvert_exporter": "python",
   "pygments_lexer": "ipython3",
   "version": "3.9.12"
  }
 },
 "nbformat": 4,
 "nbformat_minor": 5
}
