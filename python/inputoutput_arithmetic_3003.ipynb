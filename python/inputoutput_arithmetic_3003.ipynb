{
 "cells": [
  {
   "cell_type": "markdown",
   "metadata": {},
   "source": [
    "입출력과 사칙 연산 3003"
   ]
  },
  {
   "cell_type": "code",
   "execution_count": 8,
   "metadata": {},
   "outputs": [
    {
     "name": "stdout",
     "output_type": "stream",
     "text": [
      "-1 0 0 1 0 7\n"
     ]
    }
   ],
   "source": [
    "king, queen, rook, bishop, knight, pawn = map(int,input().split())\n",
    "\n",
    "chessPieces = [king, queen, rook, bishop, knight, pawn]\n",
    "PiecesAns = [1, 1, 2, 2, 2, 8]\n",
    "\n",
    "for i in range(len(chessPieces)):\n",
    "    correct = PiecesAns[i] - chessPieces[i]\n",
    "    if i != 5:\n",
    "        print(correct, end = ' ')\n",
    "    else:\n",
    "        print(correct)"
   ]
  }
 ],
 "metadata": {
  "kernelspec": {
   "display_name": "Python 3.10.5 64-bit",
   "language": "python",
   "name": "python3"
  },
  "language_info": {
   "codemirror_mode": {
    "name": "ipython",
    "version": 3
   },
   "file_extension": ".py",
   "mimetype": "text/x-python",
   "name": "python",
   "nbconvert_exporter": "python",
   "pygments_lexer": "ipython3",
   "version": "3.10.5"
  },
  "orig_nbformat": 4,
  "vscode": {
   "interpreter": {
    "hash": "3b73bbac0916b1ec0ba594196a0e2a690610daf3e27e0d2ff201ec69ed0faaed"
   }
  }
 },
 "nbformat": 4,
 "nbformat_minor": 2
}
