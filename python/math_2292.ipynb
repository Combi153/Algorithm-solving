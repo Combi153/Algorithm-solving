{
 "cells": [
  {
   "cell_type": "code",
   "execution_count": 23,
   "metadata": {},
   "outputs": [
    {
     "name": "stdout",
     "output_type": "stream",
     "text": [
      "6\n"
     ]
    }
   ],
   "source": [
    "class Hive:\n",
    "    def __init__(self):\n",
    "        self.room_number=int(input())\n",
    "        self.multiple=0\n",
    "        self.step=0\n",
    "    \n",
    "    def comparison(self):\n",
    "        \n",
    "        while True:\n",
    "            if self.room_number <= 1+6*self.multiple: \n",
    "                difference =self.step+1\n",
    "                print(difference)\n",
    "                break\n",
    "\n",
    "            self.step+=1\n",
    "            self.multiple+=self.step\n",
    "                \n",
    "if __name__== '__main__':\n",
    "    count_roomdiff=Hive()\n",
    "    count_roomdiff.comparison()\n"
   ]
  },
  {
   "cell_type": "code",
   "execution_count": 12,
   "metadata": {},
   "outputs": [
    {
     "data": {
      "text/plain": [
       "5"
      ]
     },
     "execution_count": 12,
     "metadata": {},
     "output_type": "execute_result"
    }
   ],
   "source": [
    "count_roomdiff.multiple"
   ]
  }
 ],
 "metadata": {
  "kernelspec": {
   "display_name": "Python 3.10.5 64-bit",
   "language": "python",
   "name": "python3"
  },
  "language_info": {
   "codemirror_mode": {
    "name": "ipython",
    "version": 3
   },
   "file_extension": ".py",
   "mimetype": "text/x-python",
   "name": "python",
   "nbconvert_exporter": "python",
   "pygments_lexer": "ipython3",
   "version": "3.10.5"
  },
  "orig_nbformat": 4,
  "vscode": {
   "interpreter": {
    "hash": "3b73bbac0916b1ec0ba594196a0e2a690610daf3e27e0d2ff201ec69ed0faaed"
   }
  }
 },
 "nbformat": 4,
 "nbformat_minor": 2
}
