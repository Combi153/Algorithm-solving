{
 "cells": [
  {
   "cell_type": "markdown",
   "metadata": {},
   "source": [
    "# sort 2751"
   ]
  },
  {
   "cell_type": "markdown",
   "metadata": {},
   "source": [
    "수 정렬하기 : N개의 수가 주어졌을 때, 오름차순으로 정렬하기\n",
    "- 시간 제한 2초, 시간복잡도 $O(nlogn)$인 정렬 알고리즘 활용 가능.\n",
    "- 병합 정렬\n",
    "- 힙 정렬"
   ]
  },
  {
   "cell_type": "markdown",
   "metadata": {},
   "source": [
    "## 병합 정렬 활용"
   ]
  },
  {
   "cell_type": "markdown",
   "metadata": {},
   "source": [
    "- 시간 초과"
   ]
  },
  {
   "cell_type": "code",
   "execution_count": null,
   "metadata": {},
   "outputs": [],
   "source": [
    "n = int(input())\n",
    "numbers = []\n",
    "\n",
    "for i in range(0, n):\n",
    "  numbers.append(int(input()))\n",
    "\n",
    "def merge_sort(a):\n",
    "  key = len(a)\n",
    "  if key <= 1:\n",
    "    return a\n",
    "\n",
    "  mid = key // 2\n",
    "  group1 = a[:mid]\n",
    "  group2 = a[mid:]\n",
    "\n",
    "  merge_sort(group1)\n",
    "  merge_sort(group2)\n",
    "\n",
    "  idx1, idx2, idxA = 0, 0, 0\n",
    "\n",
    "  while (idx1 < len(group1)) & (idx2 < len(group2)):\n",
    "    if group1[idx1] < group2[idx2]:\n",
    "      a[idxA] = group1[idx1]\n",
    "      idx1 += 1\n",
    "      idxA += 1\n",
    "\n",
    "    else:\n",
    "      a[idxA] = group2[idx2]\n",
    "      idx2 += 1\n",
    "      idxA += 1\n",
    "\n",
    "  while idx1 < len(group1):\n",
    "    a[idxA] = group1[idx1]\n",
    "    idx1 += 1\n",
    "    idxA += 1\n",
    "\n",
    "  while idx2 < len(group2):\n",
    "    a[idxA] = group2[idx2]\n",
    "    idx2 += 1\n",
    "    idxA += 1\n",
    "\n",
    "\n",
    "merge_sort(numbers)\n",
    "print(*numbers ,sep = '\\n')"
   ]
  },
  {
   "cell_type": "markdown",
   "metadata": {},
   "source": [
    "입력 빠르게 받기\n",
    "- sys.stdin.readline() 활용"
   ]
  },
  {
   "cell_type": "code",
   "execution_count": null,
   "metadata": {},
   "outputs": [],
   "source": [
    "import sys\n",
    "\n",
    "n = int(sys.stdin.readline())\n",
    "numbers = []\n",
    "\n",
    "for i in range(0, n):\n",
    "  num = int(sys.stdin.readline())\n",
    "  numbers.append(num)\n",
    "\n",
    "def merge_sort(a):\n",
    "  key = len(a)\n",
    "  if key <= 1:\n",
    "    return a\n",
    "\n",
    "  mid = key // 2\n",
    "  group1 = a[:mid]\n",
    "  group2 = a[mid:]\n",
    "\n",
    "  merge_sort(group1)\n",
    "  merge_sort(group2)\n",
    "\n",
    "  idx1, idx2, idxA = 0, 0, 0\n",
    "\n",
    "  while (idx1 < len(group1)) & (idx2 < len(group2)):\n",
    "    if group1[idx1] < group2[idx2]:\n",
    "      a[idxA] = group1[idx1]\n",
    "      idx1 += 1\n",
    "      idxA += 1\n",
    "\n",
    "    else:\n",
    "      a[idxA] = group2[idx2]\n",
    "      idx2 += 1\n",
    "      idxA += 1\n",
    "\n",
    "  while idx1 < len(group1):\n",
    "    a[idxA] = group1[idx1]\n",
    "    idx1 += 1\n",
    "    idxA += 1\n",
    "\n",
    "  while idx2 < len(group2):\n",
    "    a[idxA] = group2[idx2]\n",
    "    idx2 += 1\n",
    "    idxA += 1\n",
    "\n",
    "merge_sort(numbers)\n",
    "print(*numbers ,sep = '\\n')"
   ]
  },
  {
   "cell_type": "markdown",
   "metadata": {},
   "source": [
    "## 힙 정렬 활용"
   ]
  },
  {
   "cell_type": "markdown",
   "metadata": {},
   "source": [
    "오류가 나는 코드"
   ]
  },
  {
   "cell_type": "code",
   "execution_count": 11,
   "metadata": {},
   "outputs": [
    {
     "name": "stdout",
     "output_type": "stream",
     "text": [
      "[5, 4, 3, 2, 1]\n"
     ]
    },
    {
     "ename": "IndexError",
     "evalue": "list index out of range",
     "output_type": "error",
     "traceback": [
      "\u001b[1;31m---------------------------------------------------------------------------\u001b[0m",
      "\u001b[1;31mIndexError\u001b[0m                                Traceback (most recent call last)",
      "\u001b[1;32mc:\\programming\\Baekjoon\\python\\sort_2751.ipynb 셀 7\u001b[0m in \u001b[0;36m<cell line: 37>\u001b[1;34m()\u001b[0m\n\u001b[0;32m     <a href='vscode-notebook-cell:/c%3A/programming/Baekjoon/python/sort_2751.ipynb#X10sZmlsZQ%3D%3D?line=31'>32</a>\u001b[0m                 a[r], a[c] \u001b[39m=\u001b[39m a[c], a[r]\n\u001b[0;32m     <a href='vscode-notebook-cell:/c%3A/programming/Baekjoon/python/sort_2751.ipynb#X10sZmlsZQ%3D%3D?line=33'>34</a>\u001b[0m             r \u001b[39m=\u001b[39m c\n\u001b[1;32m---> <a href='vscode-notebook-cell:/c%3A/programming/Baekjoon/python/sort_2751.ipynb#X10sZmlsZQ%3D%3D?line=36'>37</a>\u001b[0m heap_sort(numbers)\n\u001b[0;32m     <a href='vscode-notebook-cell:/c%3A/programming/Baekjoon/python/sort_2751.ipynb#X10sZmlsZQ%3D%3D?line=37'>38</a>\u001b[0m \u001b[39mprint\u001b[39m(numbers)\n",
      "\u001b[1;32mc:\\programming\\Baekjoon\\python\\sort_2751.ipynb 셀 7\u001b[0m in \u001b[0;36mheap_sort\u001b[1;34m(a)\u001b[0m\n\u001b[0;32m     <a href='vscode-notebook-cell:/c%3A/programming/Baekjoon/python/sort_2751.ipynb#X10sZmlsZQ%3D%3D?line=25'>26</a>\u001b[0m \u001b[39mwhile\u001b[39;00m c \u001b[39m<\u001b[39m j:\n\u001b[0;32m     <a href='vscode-notebook-cell:/c%3A/programming/Baekjoon/python/sort_2751.ipynb#X10sZmlsZQ%3D%3D?line=26'>27</a>\u001b[0m     c \u001b[39m=\u001b[39m \u001b[39m2\u001b[39m \u001b[39m*\u001b[39m r \u001b[39m+\u001b[39m \u001b[39m1\u001b[39m\n\u001b[1;32m---> <a href='vscode-notebook-cell:/c%3A/programming/Baekjoon/python/sort_2751.ipynb#X10sZmlsZQ%3D%3D?line=27'>28</a>\u001b[0m     \u001b[39mif\u001b[39;00m (c \u001b[39m<\u001b[39m j\u001b[39m-\u001b[39m\u001b[39m1\u001b[39m) \u001b[39m&\u001b[39m (a[c] \u001b[39m<\u001b[39m a[c\u001b[39m+\u001b[39m\u001b[39m1\u001b[39m]):\n\u001b[0;32m     <a href='vscode-notebook-cell:/c%3A/programming/Baekjoon/python/sort_2751.ipynb#X10sZmlsZQ%3D%3D?line=28'>29</a>\u001b[0m         c \u001b[39m+\u001b[39m\u001b[39m=\u001b[39m \u001b[39m1\u001b[39m\n\u001b[0;32m     <a href='vscode-notebook-cell:/c%3A/programming/Baekjoon/python/sort_2751.ipynb#X10sZmlsZQ%3D%3D?line=30'>31</a>\u001b[0m     \u001b[39mif\u001b[39;00m (c \u001b[39m<\u001b[39m j) \u001b[39mand\u001b[39;00m (a[r] \u001b[39m<\u001b[39m a[c]):\n",
      "\u001b[1;31mIndexError\u001b[0m: list index out of range"
     ]
    }
   ],
   "source": [
    "n = int(input())\n",
    "numbers = []\n",
    "\n",
    "for i in range(0, n):\n",
    "    numbers.append(int(input()))\n",
    "\n",
    "print(numbers)\n",
    "\n",
    "def heap_sort(a):\n",
    "    \n",
    "    for i in range(1, len(a)):\n",
    "        c = i\n",
    "\n",
    "        while c != 0:\n",
    "            r = (c-1) // 2\n",
    "            if a[r] < a[c]:\n",
    "                a[r], a[c] = a[c], a[r]\n",
    "            \n",
    "            c = r\n",
    "\n",
    "    for j in range(len(a)-1, -1, -1):\n",
    "        a[0], a[j] = a[j], a[0]\n",
    "        r = 0\n",
    "        c = 1\n",
    "\n",
    "        while c < j:\n",
    "            c = 2 * r + 1\n",
    "            if (c < j-1) & (a[c] < a[c+1]):\n",
    "                c += 1\n",
    "            \n",
    "            if (c < j) & (a[r] < a[c]):\n",
    "                a[r], a[c] = a[c], a[r]\n",
    "\n",
    "            r = c\n",
    "\n",
    "heap_sort(numbers)\n",
    "print(numbers)"
   ]
  },
  {
   "cell_type": "markdown",
   "metadata": {},
   "source": [
    "실행 되는 코드"
   ]
  },
  {
   "cell_type": "code",
   "execution_count": 17,
   "metadata": {},
   "outputs": [
    {
     "name": "stdout",
     "output_type": "stream",
     "text": [
      "[5, 4, 3, 2, 1]\n",
      "1\n",
      "2\n",
      "3\n",
      "4\n",
      "5\n"
     ]
    }
   ],
   "source": [
    "n = int(input())\n",
    "numbers = []\n",
    "\n",
    "for i in range(0, n):\n",
    "    numbers.append(int(input()))\n",
    "    \n",
    "def heap_sort(a):\n",
    "    \n",
    "    for i in range(1, len(a)):\n",
    "        c = i\n",
    "\n",
    "        while c != 0:\n",
    "            r = (c-1) // 2\n",
    "            if a[r] < a[c]:\n",
    "                a[r], a[c] = a[c], a[r]\n",
    "            \n",
    "            c = r\n",
    "\n",
    "    for j in range(len(a)-1, -1, -1):\n",
    "        a[0], a[j] = a[j], a[0]\n",
    "        r = 0\n",
    "        c = 1\n",
    "\n",
    "        while c < j:\n",
    "            c = 2 * r + 1\n",
    "            if (c < j-1) and (a[c] < a[c+1]):\n",
    "                c += 1\n",
    "            \n",
    "            if (c < j) and (a[r] < a[c]):\n",
    "                a[r], a[c] = a[c], a[r]\n",
    "\n",
    "            r = c\n",
    "\n",
    "heap_sort(numbers)\n",
    "print(*numbers, sep = '\\n')"
   ]
  },
  {
   "cell_type": "markdown",
   "metadata": {},
   "source": [
    "- 시간 초과 코드"
   ]
  },
  {
   "cell_type": "code",
   "execution_count": 23,
   "metadata": {},
   "outputs": [],
   "source": [
    "import sys\n",
    "\n",
    "n = int(sys.stdin.readline())\n",
    "numbers = []\n",
    "\n",
    "for i in range(0, n):\n",
    "    num = int(sys.stdin.readline())\n",
    "    numbers.append(num)\n",
    "    \n",
    "def heap_sort(a):\n",
    "    \n",
    "    for i in range(1, len(a)):\n",
    "        c = i\n",
    "\n",
    "        while c != 0:\n",
    "            r = (c-1) // 2\n",
    "            if a[r] < a[c]:\n",
    "                a[r], a[c] = a[c], a[r]\n",
    "            \n",
    "            c = r\n",
    "\n",
    "    for j in range(len(a)-1, -1, -1):\n",
    "        a[0], a[j] = a[j], a[0]\n",
    "        r = 0\n",
    "        c = 1\n",
    "\n",
    "        while c < j:\n",
    "            c = 2 * r + 1\n",
    "            if (c < j-1) and (a[c] < a[c+1]):\n",
    "                c += 1\n",
    "            \n",
    "            if (c < j) and (a[r] < a[c]):\n",
    "                a[r], a[c] = a[c], a[r]\n",
    "\n",
    "            r = c\n",
    "\n",
    "heap_sort(numbers)\n",
    "print(*numbers, sep = '\\n')"
   ]
  },
  {
   "cell_type": "markdown",
   "metadata": {},
   "source": [
    "- 참고 사항"
   ]
  },
  {
   "cell_type": "code",
   "execution_count": 22,
   "metadata": {},
   "outputs": [
    {
     "name": "stdout",
     "output_type": "stream",
     "text": [
      "and : False\n",
      "& : False\n",
      "and : True\n",
      "& : True\n",
      "and : False\n",
      "& : False\n",
      "and : False\n",
      "& : False\n",
      "and : False\n",
      "& : False\n"
     ]
    }
   ],
   "source": [
    "n = int(input())\n",
    "numbers = []\n",
    "\n",
    "for i in range(0, n):\n",
    "    numbers.append(int(input()))\n",
    "    \n",
    "def heap_sort(a):\n",
    "    \n",
    "    for i in range(1, len(a)):\n",
    "        c = i\n",
    "\n",
    "        while c != 0:\n",
    "            r = (c-1) // 2\n",
    "            if a[r] < a[c]:\n",
    "                a[r], a[c] = a[c], a[r]\n",
    "            \n",
    "            c = r\n",
    "\n",
    "    for j in range(len(a)-1, -1, -1):\n",
    "        a[0], a[j] = a[j], a[0]\n",
    "        r = 0\n",
    "        c = 1\n",
    "        print(f'and : {(c < j-1) and (a[c] < a[c+1])}')\n",
    "        print(f'& : {(c < j-1) & (a[c] < a[c+1])}')\n",
    "\n",
    "        while c < j:\n",
    "            c = 2 * r + 1\n",
    "            if (c < j-1) and (a[c] < a[c+1]):\n",
    "                c += 1\n",
    "            \n",
    "            if (c < j) and (a[r] < a[c]):\n",
    "                a[r], a[c] = a[c], a[r]\n",
    "\n",
    "            r = c\n",
    "\n",
    "heap_sort(numbers)"
   ]
  },
  {
   "cell_type": "markdown",
   "metadata": {},
   "source": [
    "## 배운 것"
   ]
  },
  {
   "cell_type": "markdown",
   "metadata": {},
   "source": [
    "### 1. 조건문의 논리 연산자\n",
    "- and 와 & 가 다르다.\n",
    "- if 문 등에서 조건을 설정할 때 반드시 and 논리 연산자를 활용하자."
   ]
  },
  {
   "cell_type": "code",
   "execution_count": 13,
   "metadata": {},
   "outputs": [
    {
     "name": "stdout",
     "output_type": "stream",
     "text": [
      "a is even\n"
     ]
    }
   ],
   "source": [
    "# and는 논리 연산자이다. (Boolean)\n",
    "a = 10\n",
    "\n",
    "if a > 0 and (a % 2) == 0:\n",
    "    print(\"a is even\")\n",
    "else:\n",
    "    print(\"a is even\")"
   ]
  },
  {
   "cell_type": "code",
   "execution_count": 14,
   "metadata": {},
   "outputs": [
    {
     "name": "stdout",
     "output_type": "stream",
     "text": [
      "2\n"
     ]
    }
   ],
   "source": [
    "# &는 비트 연산자이다. (Bitwise)\n",
    "result = 7 & 2\n",
    "\n",
    "print(result)\n",
    "\n",
    "#         7 = 0000 0111\n",
    "#      &  2 = 0000 0010\n",
    "#-----------------------\n",
    "# result, 2 = 0000 0010 "
   ]
  },
  {
   "cell_type": "code",
   "execution_count": 15,
   "metadata": {},
   "outputs": [
    {
     "name": "stdout",
     "output_type": "stream",
     "text": [
      "1\n"
     ]
    }
   ],
   "source": [
    "result = 9 & 3\n",
    "\n",
    "print(result)\n",
    "\n",
    "#         9 = 0000 1001\n",
    "#      &  2 = 0000 0011\n",
    "#-----------------------\n",
    "# result, 1 = 0000 0001  "
   ]
  },
  {
   "cell_type": "markdown",
   "metadata": {},
   "source": [
    "### 2. sys 파이썬 입력\n",
    "- n = int(sys.stdin.readline())로 숫자 하나 입력 가능\n",
    "- sys 사용 시 주피터 노트북에서는 확인 어렵, 일반적인 py 파일에서 터미널 열어서 가능!"
   ]
  }
 ],
 "metadata": {
  "kernelspec": {
   "display_name": "Python 3.10.5 64-bit",
   "language": "python",
   "name": "python3"
  },
  "language_info": {
   "codemirror_mode": {
    "name": "ipython",
    "version": 3
   },
   "file_extension": ".py",
   "mimetype": "text/x-python",
   "name": "python",
   "nbconvert_exporter": "python",
   "pygments_lexer": "ipython3",
   "version": "3.10.5"
  },
  "orig_nbformat": 4,
  "vscode": {
   "interpreter": {
    "hash": "3b73bbac0916b1ec0ba594196a0e2a690610daf3e27e0d2ff201ec69ed0faaed"
   }
  }
 },
 "nbformat": 4,
 "nbformat_minor": 2
}
