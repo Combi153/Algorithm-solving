{
 "cells": [
  {
   "cell_type": "markdown",
   "id": "f4074443",
   "metadata": {},
   "source": [
    "# 문자열"
   ]
  },
  {
   "cell_type": "markdown",
   "id": "cda5dabe",
   "metadata": {},
   "source": [
    "1316"
   ]
  },
  {
   "cell_type": "code",
   "execution_count": 1,
   "id": "7357418f",
   "metadata": {},
   "outputs": [
    {
     "name": "stdout",
     "output_type": "stream",
     "text": [
      "1\n",
      "z\n",
      "1\n"
     ]
    }
   ],
   "source": [
    "class Checker:\n",
    "    \n",
    "    def __init__(self):\n",
    "        self.number=int(input())\n",
    "        self.count=0\n",
    "        \n",
    "        self.words_check(self.number)\n",
    "        \n",
    "    def words_check(self, times):\n",
    "        for i in range(times):\n",
    "            words=input()\n",
    "            words_list=list(words)\n",
    "            words_count=len(words)\n",
    "            \n",
    "            for j in range(words_count):\n",
    "                count_number=words_list.count(words_list[j])\n",
    "                continuous=count_number*words_list[j]\n",
    "                \n",
    "                if continuous in words:\n",
    "                    pass\n",
    "                \n",
    "                elif continuous not in words:\n",
    "                    self.count+=1\n",
    "                    break\n",
    "        \n",
    "        print(self.number-self.count)\n",
    "          \n",
    "if __name__ == '__main__':\n",
    "    checker=Checker()"
   ]
  }
 ],
 "metadata": {
  "kernelspec": {
   "display_name": "Python 3 (ipykernel)",
   "language": "python",
   "name": "python3"
  },
  "language_info": {
   "codemirror_mode": {
    "name": "ipython",
    "version": 3
   },
   "file_extension": ".py",
   "mimetype": "text/x-python",
   "name": "python",
   "nbconvert_exporter": "python",
   "pygments_lexer": "ipython3",
   "version": "3.9.12"
  }
 },
 "nbformat": 4,
 "nbformat_minor": 5
}
