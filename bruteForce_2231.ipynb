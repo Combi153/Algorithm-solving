{
 "cells": [
  {
   "cell_type": "markdown",
   "metadata": {},
   "source": [
    "bruteForce 2231"
   ]
  },
  {
   "cell_type": "markdown",
   "metadata": {},
   "source": [
    "분해합\n",
    "\n",
    "\n",
    ": 자연수 N이 주어졌을 때, N의 가장 작은 생성자를 구하는 프로그램을 작성하자.\n",
    "- 자연수 N의 분해합은 N과 N을 이루는 각 자리수의 합이다. 예를 들어, 245의 분해합은 256(=245+2+4+5)이다.\n",
    "- 어떤 자연수 M의 분해합이 N인 경우, M을 N의 생성자라고 한다. 예를 들어, 245는 256의 생성자이다.\n",
    "- 어떤 자연수는 생성자가 없을 수도 있고, 어떤 자연수는 생성자가 여러 개일 수 있다.\n",
    "- *첫째 줄에 자연수 N(1 ≤ N ≤ 1,000,000)이 주어진다.*\n",
    "- *첫째 줄에 답을 출력한다. 생성자가 없는 경우에는 0을 출력한다.*"
   ]
  },
  {
   "cell_type": "markdown",
   "metadata": {},
   "source": [
    "1. 분해합 구하는 코드"
   ]
  },
  {
   "cell_type": "code",
   "execution_count": 17,
   "metadata": {},
   "outputs": [
    {
     "name": "stdout",
     "output_type": "stream",
     "text": [
      "55\n"
     ]
    }
   ],
   "source": [
    "i = 50\n",
    "strNum = str(i)\n",
    "decompositionSum = i\n",
    "for j in range(len(strNum)):\n",
    "    decompositionSum += int(strNum[j])\n",
    "print(decompositionSum)"
   ]
  },
  {
   "cell_type": "markdown",
   "metadata": {},
   "source": [
    "2. 분해합이 target number : n과 같으면 해당 수는 n의 생성자이다.\n",
    "3. 1부터 시작했으므로, n의 생성자 중 가장 작은 수이다."
   ]
  },
  {
   "cell_type": "code",
   "execution_count": 16,
   "metadata": {},
   "outputs": [
    {
     "name": "stdout",
     "output_type": "stream",
     "text": [
      "0\n"
     ]
    }
   ],
   "source": [
    "n = int(input())\n",
    "\n",
    "for i in range(1,n+1):\n",
    "    strNum = str(i)\n",
    "    decompositionSum = i\n",
    "    for j in range(len(strNum)):\n",
    "        decompositionSum += int(strNum[j])\n",
    "\n",
    "    if decompositionSum == n :\n",
    "        print(i)\n",
    "        break\n",
    "    elif i == n:\n",
    "        print(0)\n",
    "        break"
   ]
  },
  {
   "cell_type": "markdown",
   "metadata": {},
   "source": [
    "다른 사람 코드"
   ]
  },
  {
   "cell_type": "markdown",
   "metadata": {},
   "source": [
    "- 숫자의 분해합을 구하는 과정을 대부분 저렇게 했다."
   ]
  },
  {
   "cell_type": "code",
   "execution_count": null,
   "metadata": {},
   "outputs": [],
   "source": [
    "target = int(input())\n",
    " \n",
    "for i in range(target):\n",
    "    temp = sum(map(int, str(i)))\n",
    "    result = i + temp\n",
    "    if result == target:\n",
    "        print(i)\n",
    "        break\n",
    "else:\n",
    "    print(0)"
   ]
  },
  {
   "cell_type": "markdown",
   "metadata": {},
   "source": [
    "다시 풀어보기"
   ]
  },
  {
   "cell_type": "code",
   "execution_count": 22,
   "metadata": {},
   "outputs": [
    {
     "name": "stdout",
     "output_type": "stream",
     "text": [
      "245\n"
     ]
    }
   ],
   "source": [
    "n = int(input())\n",
    "result = 0\n",
    "\n",
    "for i in range(1,n+1):\n",
    "\n",
    "    strNumSum = sum(list(map(int,list(str(i)))))\n",
    "    decompositionSum = i + strNumSum\n",
    "\n",
    "    if decompositionSum == n :\n",
    "        result = i\n",
    "        break\n",
    "\n",
    "print(result)"
   ]
  },
  {
   "cell_type": "markdown",
   "metadata": {},
   "source": [
    "- https://docs.python.org/3/library/functions.html#map\n",
    "- map(function, iterable, ...)\n",
    "- Return an iterator that applies function to every item of iterable, yielding the results. If additional iterable arguments are passed, function must take that many arguments and is applied to the items from all iterables in parallel. With multiple iterables, the iterator stops when the shortest iterable is exhausted."
   ]
  },
  {
   "cell_type": "markdown",
   "metadata": {},
   "source": [
    "궁금증 : map 함수에 str을 넣으면 자동으로 list로 바꿔준 후에 int함수를 적용하는 것인가?"
   ]
  },
  {
   "cell_type": "code",
   "execution_count": 21,
   "metadata": {},
   "outputs": [
    {
     "name": "stdout",
     "output_type": "stream",
     "text": [
      "9\n"
     ]
    }
   ],
   "source": [
    "i=54\n",
    "strNumSum = sum(list(map(int,str(i))))\n",
    "print(strNumSum)"
   ]
  },
  {
   "cell_type": "markdown",
   "metadata": {},
   "source": [
    "시간 단축하기\n",
    "- 어떤 숫자 N의 생성자가 될 가능성이 있는 수 M\n",
    "- N이 세 자리 수라고 할 때, min(M) = N - 9*3\n",
    "- N이 두 자리 수라고 할 때, min(M) = N - 9*2 등\n",
    "- 단, min(M)이 음수인 경우는 min(M) = 0으로 두는 것이 낫다.\n",
    "\n",
    "이를 바탕으로 range()의 start를 조정하자."
   ]
  },
  {
   "cell_type": "code",
   "execution_count": 25,
   "metadata": {},
   "outputs": [
    {
     "name": "stdout",
     "output_type": "stream",
     "text": [
      "976\n"
     ]
    }
   ],
   "source": [
    "n = int(input())\n",
    "mindecomSum = (n - len(str(n))*9)\n",
    "if mindecomSum > 0 :\n",
    "    start = mindecomSum\n",
    "else:\n",
    "    start = 0\n",
    "\n",
    "result = 0\n",
    "\n",
    "for i in range(start,n+1):\n",
    "\n",
    "    strNumSum = sum(list(map(int,list(str(i)))))\n",
    "    decompositionSum = i + strNumSum\n",
    "\n",
    "    if decompositionSum == n :\n",
    "        result = i\n",
    "        break\n",
    "\n",
    "print(result)"
   ]
  }
 ],
 "metadata": {
  "kernelspec": {
   "display_name": "Python 3.10.5 64-bit",
   "language": "python",
   "name": "python3"
  },
  "language_info": {
   "codemirror_mode": {
    "name": "ipython",
    "version": 3
   },
   "file_extension": ".py",
   "mimetype": "text/x-python",
   "name": "python",
   "nbconvert_exporter": "python",
   "pygments_lexer": "ipython3",
   "version": "3.10.5"
  },
  "orig_nbformat": 4,
  "vscode": {
   "interpreter": {
    "hash": "3b73bbac0916b1ec0ba594196a0e2a690610daf3e27e0d2ff201ec69ed0faaed"
   }
  }
 },
 "nbformat": 4,
 "nbformat_minor": 2
}
