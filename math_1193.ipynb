{
 "cells": [
  {
   "cell_type": "markdown",
   "metadata": {},
   "source": [
    "지그재그 미 적용"
   ]
  },
  {
   "cell_type": "code",
   "execution_count": 3,
   "metadata": {},
   "outputs": [
    {
     "name": "stdout",
     "output_type": "stream",
     "text": [
      "4/2\n"
     ]
    }
   ],
   "source": [
    "class Fraction:\n",
    "    def __init__(self,number):\n",
    "        self.number=number\n",
    "        self.step=1\n",
    "        self.order=0\n",
    "\n",
    "    def comparison(self):\n",
    "\n",
    "        while True:\n",
    "            self.order+=self.step\n",
    "            if self.number <= self.order:\n",
    "                difference=self.order-self.number\n",
    "                denominator=1\n",
    "                numerator=self.step\n",
    "\n",
    "                new_denominator=str(denominator+difference)\n",
    "                new_numerator=str(numerator-difference)\n",
    "\n",
    "                solution=new_numerator+'/'+new_denominator\n",
    "                print(solution)\n",
    "                break\n",
    "            self.step+=1\n",
    "            #self.order+=self.step\n",
    "\n",
    "\n",
    "if __name__ == '__main__':\n",
    "    x_number=int(input())\n",
    "    find_fraction=Fraction(x_number)\n",
    "    find_fraction.comparison()      "
   ]
  },
  {
   "cell_type": "markdown",
   "metadata": {},
   "source": [
    "지그재그 적용"
   ]
  },
  {
   "cell_type": "code",
   "execution_count": 4,
   "metadata": {},
   "outputs": [
    {
     "name": "stdout",
     "output_type": "stream",
     "text": [
      "2/4\n"
     ]
    }
   ],
   "source": [
    "class Fraction:\n",
    "    def __init__(self,number):\n",
    "        self.number=number\n",
    "        self.left_start=3\n",
    "        self.right_start=1\n",
    "        self.left_order=3\n",
    "        self.right_order=1\n",
    "        \n",
    "\n",
    "    def comparison(self):\n",
    "        i=0\n",
    "        step=0\n",
    "        while True:\n",
    "            i+=1\n",
    "            if self.right_order>=self.number:\n",
    "                difference=self.right_order-self.number\n",
    "                denominator=str(((i*2)-1)-difference)\n",
    "                numerator=str(1+difference)\n",
    "\n",
    "                solution=numerator+'/'+denominator\n",
    "                print(solution)\n",
    "                break\n",
    "\n",
    "            elif self.left_order>=self.number:\n",
    "                difference=self.left_order-self.number\n",
    "                denominator=str(1+difference)\n",
    "                numerator=str(i*2-difference)\n",
    "\n",
    "                solution=numerator+'/'+denominator\n",
    "                print(solution)\n",
    "                break\n",
    "\n",
    "            step+=4 \n",
    "            left_step=self.left_start+step \n",
    "            self.left_order+=left_step\n",
    "           \n",
    "            right_step=self.right_start+step\n",
    "            self.right_order+=right_step\n",
    "         \n",
    "if __name__ == '__main__':\n",
    "    x_number=int(input())\n",
    "    find_fraction=Fraction(x_number)\n",
    "    find_fraction.comparison()    "
   ]
  },
  {
   "cell_type": "markdown",
   "metadata": {},
   "source": [
    "다른 사람 코드 공부"
   ]
  },
  {
   "cell_type": "code",
   "execution_count": null,
   "metadata": {},
   "outputs": [],
   "source": [
    "X=int(input())\n",
    "\n",
    "line=1\n",
    "while X>line:\n",
    "    X=X-line\n",
    "    print(X)\n",
    "    line+=1\n",
    "    print(line)\n",
    "    #걍 미쳤네\n",
    "    #이렇게 푸는 거구나,,,,,,,\n",
    "\n",
    "\n",
    "if line%2==0:\n",
    "    a=X\n",
    "    b=line-X+1\n",
    "else:\n",
    "    a=line-X+1\n",
    "    b=X\n",
    "    \n",
    "print(a, '/', b, sep='')"
   ]
  }
 ],
 "metadata": {
  "kernelspec": {
   "display_name": "Python 3.10.5 64-bit",
   "language": "python",
   "name": "python3"
  },
  "language_info": {
   "codemirror_mode": {
    "name": "ipython",
    "version": 3
   },
   "file_extension": ".py",
   "mimetype": "text/x-python",
   "name": "python",
   "nbconvert_exporter": "python",
   "pygments_lexer": "ipython3",
   "version": "3.10.5"
  },
  "orig_nbformat": 4,
  "vscode": {
   "interpreter": {
    "hash": "3b73bbac0916b1ec0ba594196a0e2a690610daf3e27e0d2ff201ec69ed0faaed"
   }
  }
 },
 "nbformat": 4,
 "nbformat_minor": 2
}
