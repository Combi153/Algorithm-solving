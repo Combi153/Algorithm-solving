{
 "cells": [
  {
   "cell_type": "markdown",
   "metadata": {},
   "source": [
    "# bruteForce 1436"
   ]
  },
  {
   "cell_type": "markdown",
   "metadata": {},
   "source": [
    "영화감독 숌\n",
    "- 영화감독 숌은 시리즈물에 종말의 숫자를 넣어 영화 제목을 짓는다.\n",
    "- 종말의 숫자란 어떤 수에 6이 적어도 3개이상 연속으로 들어가는 수를 의미한다.\n",
    "- 제일 작은 종말의 숫자는 666이고, 그 다음으로 큰 수는 1666, 2666, 3666, .... 과 같다.\n",
    "- N번째 영화의 제목에는 N번째로 작은 종말의 숫자가 들어간다.\n",
    "- 숌이 만든 N번째 영화의 제목에 들어갈 숫자를 출력하는 프로그램을 작성하자."
   ]
  },
  {
   "cell_type": "markdown",
   "metadata": {},
   "source": [
    "# 정답코드\n",
    "- 시간 제한이 2초임을 감안하여 while 문으로 모든 숫자를 탐색했다.\n",
    "- 다른 사람의 코드를 찾아보아도 특별히 다른 코드를 찾지 못했다. 모범 답안인 것 같다."
   ]
  },
  {
   "cell_type": "code",
   "execution_count": 7,
   "metadata": {},
   "outputs": [
    {
     "name": "stdout",
     "output_type": "stream",
     "text": [
      "166699\n"
     ]
    }
   ],
   "source": [
    "n = int(input())\n",
    "num = 666\n",
    "cnt = 0\n",
    "while cnt < n:\n",
    "    if '666' in str(num):\n",
    "        cnt += 1\n",
    "        if cnt == n:\n",
    "            print(num)\n",
    "    num += 1\n"
   ]
  },
  {
   "cell_type": "markdown",
   "metadata": {},
   "source": [
    "# 삽질\n",
    "- 666을 문자열로 인식하려고 했다.\n",
    "- 가능하다면 더 빠른 속도를 낼 수 있을 것이라 판단했다.\n",
    "- 666을 사이에 두고 수를 만드는 경우의 수가 너무 많아 어지러웠다."
   ]
  },
  {
   "cell_type": "code",
   "execution_count": null,
   "metadata": {},
   "outputs": [
    {
     "name": "stdout",
     "output_type": "stream",
     "text": [
      "6661 1666\n",
      "6661 1666\n",
      "6662 2666\n",
      "6661 1666\n",
      "6662 2666\n",
      "6663 3666\n",
      "6661 1666\n",
      "6662 2666\n",
      "6663 3666\n",
      "6664 4666\n",
      "6661 1666\n",
      "6662 2666\n",
      "6663 3666\n",
      "6664 4666\n",
      "6665 5666\n"
     ]
    }
   ],
   "source": [
    "n = int(input())\n",
    "\n",
    "theNum = 666\n",
    "for i in range(n):\n",
    "    for j in range(1,i+2):\n",
    "        theNumR,theNumL = int(str(theNum) + str(j)), int(str(j) + str(theNum))\n",
    "        print(theNumR,theNumL)\n"
   ]
  }
 ],
 "metadata": {
  "kernelspec": {
   "display_name": "Python 3.10.5 64-bit",
   "language": "python",
   "name": "python3"
  },
  "language_info": {
   "codemirror_mode": {
    "name": "ipython",
    "version": 3
   },
   "file_extension": ".py",
   "mimetype": "text/x-python",
   "name": "python",
   "nbconvert_exporter": "python",
   "pygments_lexer": "ipython3",
   "version": "3.10.5"
  },
  "orig_nbformat": 4,
  "vscode": {
   "interpreter": {
    "hash": "3b73bbac0916b1ec0ba594196a0e2a690610daf3e27e0d2ff201ec69ed0faaed"
   }
  }
 },
 "nbformat": 4,
 "nbformat_minor": 2
}
