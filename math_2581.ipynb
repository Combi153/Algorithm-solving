{
 "cells": [
  {
   "cell_type": "markdown",
   "metadata": {},
   "source": [
    "math\n",
    "2581\n",
    "소수\n"
   ]
  },
  {
   "cell_type": "markdown",
   "metadata": {},
   "source": [
    "자연수 M과 N이 주어질 때 두 자연수 사이의 소수의 합과 최솟값을 찾으라."
   ]
  },
  {
   "cell_type": "markdown",
   "metadata": {},
   "source": [
    "1. M과 N 사이 수\n",
    "2. 소수인지 판단\n",
    "    - (2,수) 의 수로 나누기\n",
    "    - 자기자신 제외하고 어떤 수로 나누었을 때 나머지가 0이면 소수 아님 break\n",
    "    - 나머지가 0인 수가 없다면 소수 list.append()\n",
    "3. 소수 리스트 만들기\n",
    "4. 리스트의 최솟값과 합 출력"
   ]
  },
  {
   "cell_type": "code",
   "execution_count": 21,
   "metadata": {},
   "outputs": [
    {
     "name": "stdout",
     "output_type": "stream",
     "text": [
      "620\n",
      "61\n",
      "run time:  2.986551284790039\n"
     ]
    }
   ],
   "source": [
    "import time\n",
    "start_time = time.time()\n",
    "\n",
    "start_M=int(input())\n",
    "end_N=int(input())\n",
    "prime_number=[]\n",
    "\n",
    "for num in range(start_M,end_N+1):\n",
    "\n",
    "    if num == 1:\n",
    "        continue\n",
    "\n",
    "    for divider in range(2,num+1):\n",
    "        \n",
    "        if num % divider == 0:\n",
    "\n",
    "            if num == divider:\n",
    "                prime_number.append(num)\n",
    "                break\n",
    "            else:\n",
    "                break\n",
    "\n",
    "if len(prime_number)==0:\n",
    "    print(-1)\n",
    "\n",
    "else:\n",
    "    print(sum(prime_number))\n",
    "    print(min(prime_number))\n",
    "\n",
    "\n",
    "end_time = time.time()\n",
    "print(\"run time: \", end_time - start_time)\n",
    "\n"
   ]
  },
  {
   "cell_type": "markdown",
   "metadata": {},
   "source": [
    "다른 사람 코드\n",
    "https://ooyoung.tistory.com/93"
   ]
  },
  {
   "cell_type": "markdown",
   "metadata": {},
   "source": [
    "아래와 같이 error를 count하는 방식으로 소수를 찾는다면, 어떤 수가 소수가 아니라는 것을 알았을 때 반복을 멈추지 않는다. 따라서 반복의 횟수가 많아짐에 따라 시간이 더 걸린다."
   ]
  },
  {
   "cell_type": "code",
   "execution_count": 22,
   "metadata": {},
   "outputs": [
    {
     "name": "stdout",
     "output_type": "stream",
     "text": [
      "620\n",
      "61\n",
      "run time:  3.0998005867004395\n"
     ]
    }
   ],
   "source": [
    "import time\n",
    "start_time = time.time()\n",
    "\n",
    "start_num = int(input())\n",
    "last_num = int(input())\n",
    "\n",
    "sosu_list = []\n",
    "for num in range(start_num, last_num+1):\n",
    "    error = 0\n",
    "    if num > 1 :\n",
    "        for i in range(2, num):  # 2부터 num-1까지\n",
    "            if num % i == 0:\n",
    "                error += 1\n",
    "                break  # 2부터 num-1까지 나눈 몫이 0이면 error가 증가하고 for문을 끝냄\n",
    "        if error == 0:\n",
    "            sosu_list.append(num)  # error가 없으면 소수리스트에 추가\n",
    "            \n",
    "if len(sosu_list) > 0 :\n",
    "    print(sum(sosu_list))\n",
    "    print(min(sosu_list))\n",
    "else:\n",
    "    print(-1)\n",
    "\n",
    "end_time = time.time()\n",
    "print(\"run time: \", end_time - start_time)"
   ]
  }
 ],
 "metadata": {
  "kernelspec": {
   "display_name": "Python 3.10.5 64-bit",
   "language": "python",
   "name": "python3"
  },
  "language_info": {
   "codemirror_mode": {
    "name": "ipython",
    "version": 3
   },
   "file_extension": ".py",
   "mimetype": "text/x-python",
   "name": "python",
   "nbconvert_exporter": "python",
   "pygments_lexer": "ipython3",
   "version": "3.10.5"
  },
  "orig_nbformat": 4,
  "vscode": {
   "interpreter": {
    "hash": "3b73bbac0916b1ec0ba594196a0e2a690610daf3e27e0d2ff201ec69ed0faaed"
   }
  }
 },
 "nbformat": 4,
 "nbformat_minor": 2
}
