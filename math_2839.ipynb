{
 "cells": [
  {
   "cell_type": "markdown",
   "metadata": {},
   "source": [
    "math"
   ]
  },
  {
   "cell_type": "markdown",
   "metadata": {},
   "source": [
    "2839"
   ]
  },
  {
   "cell_type": "code",
   "execution_count": 105,
   "metadata": {},
   "outputs": [
    {
     "name": "stdout",
     "output_type": "stream",
     "text": [
      "1796\n"
     ]
    }
   ],
   "source": [
    "class Delivery:\n",
    "    def __init__(self,n):\n",
    "        self.weight=n\n",
    "        self.bag_5=[]\n",
    "        self.bag_3=[]\n",
    "\n",
    "    def bagcount(self):\n",
    "        i=0\n",
    "        weight=self.weight\n",
    "        repeat=weight//5\n",
    "        \n",
    "        for i in range(repeat+1):\n",
    "            if weight%5 == 0:\n",
    "                self.bag_5.append(weight//5)\n",
    "                self.bag_3.append(0)\n",
    "                weight-=5\n",
    "\n",
    "            elif (weight%5)%3 ==0:\n",
    "                self.bag_5.append(weight//5)\n",
    "                self.bag_3.append((weight%5)//3)\n",
    "                weight-=5\n",
    "\n",
    "            elif weight%3 ==0:\n",
    "                self.bag_5.append(i)\n",
    "                self.bag_3.append(weight//3)\n",
    "                weight-=5\n",
    "\n",
    "            else:\n",
    "                weight-=5\n",
    "                if weight < 3:\n",
    "                    self.bag_5.append(-1)\n",
    "                    self.bag_3.append(-1)\n",
    "                    break\n",
    "                i+=1\n",
    "\n",
    "        key_index=self.bag_5.index(max(self.bag_5))\n",
    "        if self.bag_5[key_index] == -1:\n",
    "            print(-1)\n",
    "        else:\n",
    "            print(self.bag_5[key_index]+self.bag_3[key_index])\n",
    "\n",
    "if __name__=='__main__':\n",
    "  sugar=int(input())\n",
    "  sangguen=Delivery(sugar)\n",
    "  sangguen.bagcount()"
   ]
  },
  {
   "cell_type": "markdown",
   "metadata": {},
   "source": [
    "이건 런타임 에러"
   ]
  },
  {
   "cell_type": "code",
   "execution_count": null,
   "metadata": {},
   "outputs": [],
   "source": [
    "class Delivery:\n",
    "    def __init__(self,n):\n",
    "        self.weight=n\n",
    "        self.bag_5=[]\n",
    "        self.bag_3=[]\n",
    "\n",
    "    def bagcount(self):\n",
    "        i=0\n",
    "        weight=self.weight\n",
    "        repeat=weight//5\n",
    "        \n",
    "        for i in range(repeat+1):\n",
    "            if weight%5 == 0:\n",
    "                self.bag_5.append(weight//5)\n",
    "                self.bag_3.append(0)\n",
    "\n",
    "            elif (weight%5)%3 ==0:\n",
    "                self.bag_5.append(weight//5)\n",
    "                self.bag_3.append((weight%5)//3)\n",
    "\n",
    "            elif weight%3 ==0:\n",
    "                self.bag_5.append(i)\n",
    "                self.bag_3.append(weight//3)\n",
    "\n",
    "            else:\n",
    "                if weight < 3:\n",
    "                    self.bag_5.append(-1)\n",
    "                    self.bag_3.append(-1)\n",
    "                    break\n",
    "                i+=1\n",
    "            weight-=5\n",
    "\n",
    "        key_index=self.bag_5.index(max(self.bag_5))\n",
    "        if self.bag_5[key_index] == -1:\n",
    "            print(-1)\n",
    "        else:\n",
    "            print(self.bag_5[key_index]+self.bag_3[key_index])\n",
    "\n",
    "if __name__=='__main__':\n",
    "  sugar=int(input())\n",
    "  sangguen=Delivery(sugar)\n",
    "  sangguen.bagcount()"
   ]
  },
  {
   "cell_type": "markdown",
   "metadata": {},
   "source": [
    "while문 쓰기\n",
    "이건 정답처리가 안 된다. 왜 안 될까?"
   ]
  },
  {
   "cell_type": "code",
   "execution_count": 102,
   "metadata": {},
   "outputs": [
    {
     "name": "stdout",
     "output_type": "stream",
     "text": [
      "119\n"
     ]
    }
   ],
   "source": [
    "class Delivery:\n",
    "    def __init__(self,n):\n",
    "        self.weight=n\n",
    "        self.bag_5=[]\n",
    "        self.bag_3=[]\n",
    "\n",
    "    def bagcount(self):\n",
    "        i=0       \n",
    "        while True:\n",
    "            if self.weight < 3:\n",
    "                self.bag_5.append(-1)\n",
    "                self.bag_3.append(-1)\n",
    "                break\n",
    "\n",
    "            else :\n",
    "                if self.weight%5 == 0:\n",
    "                    self.bag_5.append(self.weight//5)\n",
    "                    self.bag_3.append(0)\n",
    "\n",
    "                elif (self.weight%5)%3 ==0:\n",
    "                    self.bag_5.append(self.weight//5)\n",
    "                    self.bag_3.append((self.weight%5)//3) \n",
    "\n",
    "                elif self.weight%3 ==0:\n",
    "                    self.bag_5.append(i)\n",
    "                    self.bag_3.append(self.weight//3)\n",
    "\n",
    "                else:\n",
    "                    i+=1\n",
    "                self.weight-=5\n",
    "\n",
    "        key_index=self.bag_5.index(max(self.bag_5))\n",
    "        if self.bag_5[key_index] == -1:\n",
    "            print(self.bag_5[key_index])\n",
    "        else:\n",
    "            print(self.bag_5[key_index]+self.bag_3[key_index])\n",
    "\n",
    "if __name__=='__main__':\n",
    "  sugar=int(input())\n",
    "  sangguen=Delivery(sugar)\n",
    "  sangguen.bagcount()"
   ]
  }
 ],
 "metadata": {
  "kernelspec": {
   "display_name": "Python 3.10.5 64-bit",
   "language": "python",
   "name": "python3"
  },
  "language_info": {
   "codemirror_mode": {
    "name": "ipython",
    "version": 3
   },
   "file_extension": ".py",
   "mimetype": "text/x-python",
   "name": "python",
   "nbconvert_exporter": "python",
   "pygments_lexer": "ipython3",
   "version": "3.10.5"
  },
  "orig_nbformat": 4,
  "vscode": {
   "interpreter": {
    "hash": "3b73bbac0916b1ec0ba594196a0e2a690610daf3e27e0d2ff201ec69ed0faaed"
   }
  }
 },
 "nbformat": 4,
 "nbformat_minor": 2
}
