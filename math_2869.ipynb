{
 "cells": [
  {
   "cell_type": "markdown",
   "metadata": {},
   "source": [
    "math"
   ]
  },
  {
   "cell_type": "markdown",
   "metadata": {},
   "source": [
    "2869"
   ]
  },
  {
   "cell_type": "code",
   "execution_count": 6,
   "metadata": {},
   "outputs": [
    {
     "name": "stdout",
     "output_type": "stream",
     "text": [
      "2\n"
     ]
    }
   ],
   "source": [
    "import math\n",
    "\n",
    "class Snail:\n",
    "    def __init__(self,A,B,V):\n",
    "        self.climb=A\n",
    "        self.fall=B\n",
    "        self.stick=V\n",
    "\n",
    "    def climbing(self):\n",
    "        lastday=math.ceil((self.stick-self.climb)/(self.climb-self.fall))\n",
    "        theday=lastday+1\n",
    "        print(theday)\n",
    "\n",
    "if __name__ =='__main__':\n",
    "    climb,fall,stick=map(int,input().split())\n",
    "    snailstart=Snail(climb,fall,stick)\n",
    "    snailstart.climbing()\n"
   ]
  }
 ],
 "metadata": {
  "kernelspec": {
   "display_name": "Python 3.10.5 64-bit",
   "language": "python",
   "name": "python3"
  },
  "language_info": {
   "codemirror_mode": {
    "name": "ipython",
    "version": 3
   },
   "file_extension": ".py",
   "mimetype": "text/x-python",
   "name": "python",
   "nbconvert_exporter": "python",
   "pygments_lexer": "ipython3",
   "version": "3.10.5"
  },
  "orig_nbformat": 4,
  "vscode": {
   "interpreter": {
    "hash": "3b73bbac0916b1ec0ba594196a0e2a690610daf3e27e0d2ff201ec69ed0faaed"
   }
  }
 },
 "nbformat": 4,
 "nbformat_minor": 2
}
